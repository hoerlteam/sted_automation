{
 "cells": [
  {
   "cell_type": "code",
   "execution_count": 26,
   "metadata": {
    "collapsed": true
   },
   "outputs": [],
   "source": [
    "import json\n",
    "import specpy as sp"
   ]
  },
  {
   "cell_type": "code",
   "execution_count": 2,
   "metadata": {
    "collapsed": true
   },
   "outputs": [],
   "source": [
    "im = sp.Imspector()"
   ]
  },
  {
   "cell_type": "code",
   "execution_count": 49,
   "metadata": {
    "collapsed": true
   },
   "outputs": [],
   "source": [
    "# get (and save) settings for\n",
    "# xy-scan with frame sync\n",
    "\n",
    "par_xy_file = 'c:/Users/RESOLFT/Desktop/ms_params.json'\n",
    "par_xy = im.active_measurement().parameters('')\n",
    "\n",
    "# we have to delete this as it does not exist in a new measurement?\n",
    "#del par_xy['Measurement']['LoopMeasurement']\n",
    "\n",
    "with open(par_xy_file, 'w') as fd:\n",
    "    json.dump(par_xy, fd, indent=1)"
   ]
  },
  {
   "cell_type": "code",
   "execution_count": 50,
   "metadata": {
    "collapsed": true
   },
   "outputs": [],
   "source": [
    "# get (and save) settings for\n",
    "# xz-scan with line sync\n",
    "\n",
    "par_xz_file = 'c:/Users/RESOLFT/Desktop/20180305_xz_test.json'\n",
    "par_xz = im.active_measurement().parameters('')\n",
    "\n",
    "# we have to delete this as it does not exist in a new measurement?\n",
    "#del par_xz['Measurement']['LoopMeasurement']\n",
    "\n",
    "with open(par_xz_file, 'w') as fd:\n",
    "    json.dump(par_xy, fd, indent=1)"
   ]
  },
  {
   "cell_type": "code",
   "execution_count": 54,
   "metadata": {
    "collapsed": true
   },
   "outputs": [],
   "source": [
    "im.create_measurement()\n",
    "ms = im.active_measurement()\n",
    "ms.set_parameters('', par_xy)\n",
    "im.run(ms)\n",
    "\n",
    "ms.set_parameters('', par_xz)\n",
    "# manually set \n",
    "#ms.set_parameters('Measurement/axes/num_synced', 1)\n",
    "im.run(ms)\n",
    "\n",
    "ms.set_parameters('', par_xy)\n",
    "im.run(ms)"
   ]
  },
  {
   "cell_type": "code",
   "execution_count": 15,
   "metadata": {},
   "outputs": [
    {
     "name": "stdout",
     "output_type": "stream",
     "text": [
      "1.1.8\n",
      "2\n",
      "2\n",
      "1\n",
      "2\n"
     ]
    }
   ],
   "source": [
    "import specpy as sp\n",
    "\n",
    "print(sp.__version__)\n",
    "# > 1.1.8\n",
    "\n",
    "# connect to Imspector and create new measurement\n",
    "# (assuming the default sync setting is Frame sync)\n",
    "im = sp.Imspector()\n",
    "im.create_measurement()\n",
    "ms = im.active_measurement()\n",
    "\n",
    "print(ms.parameters('Measurement/axes/num_synced'))\n",
    "# > 2 \n",
    "# (Frame sync)\n",
    "\n",
    "# change sync axis in parameter dict & update all parameters\n",
    "par = ms.parameters('')\n",
    "par['Measurement']['axes']['num_synced'] = 1\n",
    "ms.set_parameters('', par)\n",
    "\n",
    "print(ms.parameters('Measurement/axes/num_synced'))\n",
    "# > 2\n",
    "# (Frame sync)\n",
    "\n",
    "# update just the num_synced parameter\n",
    "ms.set_parameters('Measurement/axes/num_synced', 1)\n",
    "\n",
    "print(ms.parameters('Measurement/axes/num_synced'))\n",
    "# > 1\n",
    "# (Line sync)\n",
    "\n",
    "# switching to another measurement and the back to ms resets num_synced\n",
    "im.create_measurement()\n",
    "im.activate(ms)\n",
    "print(ms.parameters('Measurement/axes/num_synced'))\n",
    "# > 2 \n",
    "# (Frame sync)"
   ]
  }
 ],
 "metadata": {
  "kernelspec": {
   "display_name": "Python 3",
   "language": "python",
   "name": "python3"
  },
  "language_info": {
   "codemirror_mode": {
    "name": "ipython",
    "version": 3
   },
   "file_extension": ".py",
   "mimetype": "text/x-python",
   "name": "python",
   "nbconvert_exporter": "python",
   "pygments_lexer": "ipython3",
   "version": "3.5.1"
  }
 },
 "nbformat": 4,
 "nbformat_minor": 2
}
