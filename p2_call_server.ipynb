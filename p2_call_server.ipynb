{
 "cells": [
  {
   "cell_type": "markdown",
   "metadata": {},
   "source": [
    "## Test calling Imspector acquisition via XMLRPC"
   ]
  },
  {
   "cell_type": "markdown",
   "metadata": {},
   "source": [
    "### 1) Call and wait for finish in one cell"
   ]
  },
  {
   "cell_type": "code",
   "execution_count": 2,
   "metadata": {},
   "outputs": [],
   "source": [
    "from xmlrpc.client import ServerProxy\n",
    "\n",
    "with ServerProxy('http://10.163.69.197:11005', allow_none=True) as server:\n",
    "    server.run_acquisition(1, [0, 5, 10, 15])\n",
    "    server.finish_acquisition() "
   ]
  },
  {
   "cell_type": "markdown",
   "metadata": {},
   "source": [
    "### 2) Start async and wait seperately"
   ]
  },
  {
   "cell_type": "code",
   "execution_count": 2,
   "metadata": {},
   "outputs": [],
   "source": [
    "with ServerProxy('http://localhost:11005', allow_none=True) as server:\n",
    "    server.run_acquisition(1, [0, 5, 10, 15])"
   ]
  },
  {
   "cell_type": "code",
   "execution_count": 3,
   "metadata": {},
   "outputs": [],
   "source": [
    "with ServerProxy('http://localhost:11005', allow_none=True) as server:\n",
    "    server.finish_acquisition() "
   ]
  }
 ],
 "metadata": {
  "kernelspec": {
   "display_name": "Python 3",
   "language": "python",
   "name": "python3"
  },
  "language_info": {
   "codemirror_mode": {
    "name": "ipython",
    "version": 3
   },
   "file_extension": ".py",
   "mimetype": "text/x-python",
   "name": "python",
   "nbconvert_exporter": "python",
   "pygments_lexer": "ipython3",
   "version": "3.7.6"
  },
  "vscode": {
   "interpreter": {
    "hash": "caf6efcfc89aba1bdbf0711d0a9a79bee9c38cecffe6efe1da5a20860731374b"
   }
  }
 },
 "nbformat": 4,
 "nbformat_minor": 2
}
