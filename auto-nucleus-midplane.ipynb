{
 "cells": [
  {
   "cell_type": "markdown",
   "metadata": {},
   "source": [
    "# Pair Automation using ```pipeline2```"
   ]
  },
  {
   "cell_type": "markdown",
   "metadata": {},
   "source": [
    "## Imports and plot settings\n",
    "\n",
    "Run this once"
   ]
  },
  {
   "cell_type": "code",
   "execution_count": null,
   "metadata": {
    "collapsed": true
   },
   "outputs": [],
   "source": [
    "import os\n",
    "import json\n",
    "\n",
    "import numpy as np\n",
    "from matplotlib import pyplot as plt\n",
    "import h5py as h5\n",
    "import specpy as sp\n",
    "\n",
    "from pipeline2 import PipelineLevels, AcquisitionPipeline, DefaultNameHandler, HDF5RichData, HDF5DataStore\n",
    "from pipeline2.taskgeneration import (AcquisitionTaskGenerator, JSONFileConfigLoader, DefaultFOVSettingsGenerator,\n",
    "                                      AlreadyImagedFOVFilter,\n",
    "                                      DefaultScanOffsetsSettingsGenerator, DefaultLocationKeeper,\n",
    "                                      DefaultLocationRemover, DefaultStageOffsetsSettingsGenerator,\n",
    "                                      SpiralOffsetGenerator, NewestSettingsSelector, NewestDataSelector,\n",
    "                                      BoundingBoxLocationGrouper, DefaultScanModeSettingsGenerator,\n",
    "                                      DefaultScanFieldSettingsGenerator)\n",
    "from pipeline2.detection import (LegacySpotPairFinder, SimpleSingleChannelSpotDetector, SimpleNucleusMidplaneDetector,\n",
    "                                 SimpleLegacyFocusHold, SimpleLocationRepeater)\n",
    "from pipeline2.imspector import ImspectorConnection, get_current_stage_coords\n",
    "from pipeline2.stoppingcriteria import TimedStoppingCriterion\n",
    "from pipeline2.taskgeneration import StitchedNewestDataSelector\n",
    "\n",
    "\n",
    "# plotting params\n",
    "%matplotlib inline\n",
    "plt.rcParams['figure.figsize'] = [7, 7]"
   ]
  },
  {
   "cell_type": "markdown",
   "metadata": {},
   "source": [
    "## Code definition for a single acquisition\n",
    "\n",
    "Run this once"
   ]
  },
  {
   "cell_type": "code",
   "execution_count": null,
   "metadata": {
    "collapsed": true,
    "scrolled": false
   },
   "outputs": [],
   "source": [
    "def run_pipeline(save_path, im, ov_json, det_jsons, start_coords, ov_moves, hours_to_image=12, sample_name=None, ignore_z_overlap_check=True):\n",
    "    \n",
    "    # make output dir \n",
    "    if not os.path.exists(save_path):\n",
    "        os.makedirs(save_path)\n",
    "    \n",
    "    # init levels and name handler\n",
    "    pll = PipelineLevels('overview', 'detail')\n",
    "    name_handler = DefaultNameHandler(save_path, pll)\n",
    "\n",
    "    # abuse name_handler to get h5 filename\n",
    "    # calling with empty index gives just the random hash\n",
    "    h5file_name = name_handler.get_path([]).replace('.msr', '.h5')\n",
    "\n",
    "    # open resulting h5 file in context manager\n",
    "    with h5.File(h5file_name, mode='a') as h5fd:\n",
    "        data_store = HDF5DataStore(h5fd, pll)\n",
    "\n",
    "        # init pipeline\n",
    "        pl = (AcquisitionPipeline('nucleus-midplane-pipeline' if sample_name is None else sample_name)\n",
    "                .withImspectorConnection(ImspectorConnection(im).withVerbose())\n",
    "                .withPipelineLevels(pll)\n",
    "                .withNameHandler(name_handler)\n",
    "                .withAddedStoppingCondition(TimedStoppingCriterion(hours_to_image * 60 * 60))\n",
    "             )\n",
    "\n",
    "        # attach h5 data store\n",
    "        pl.withDataStorage(data_store)\n",
    "\n",
    "        # overview task generator: same settings every time\n",
    "        atg_overview = (AcquisitionTaskGenerator(pll.overview, \n",
    "                        DefaultLocationRemover(\n",
    "                            JSONFileConfigLoader([ov_json])\n",
    "                        ),\n",
    "                        DefaultStageOffsetsSettingsGenerator(SpiralOffsetGenerator().withFOV(ov_moves).withStart(start_coords)),\n",
    "                        DefaultStageOffsetsSettingsGenerator(SimpleLegacyFocusHold(NewestDataSelector(pl, pll.overview)).withVerbose(True))\n",
    "                    )\n",
    "                    .withDelay(.4))\n",
    "\n",
    "        # init detector in overview\n",
    "        detector = (SimpleNucleusMidplaneDetector(StitchedNewestDataSelector(pl, pll.overview), n_classes=2)\n",
    "                    .withVerbose()\n",
    "                    .withPlot()\n",
    "                    .withFilter({'area' : (100, 10000)})\n",
    "                    .withFOVExpansion(1.4)\n",
    "                   )\n",
    "\n",
    "        # detail task generation: settings from last overview + new FOV + grouped detections\n",
    "        # optionally repeat measurement to check reproducibility\n",
    "\n",
    "        atg_detail = AcquisitionTaskGenerator(pll.detail,\n",
    "                                 DefaultLocationKeeper(NewestSettingsSelector(pl, pll.overview)),\n",
    "                                 DefaultLocationRemover(\n",
    "                                     JSONFileConfigLoader(det_jsons, None, False)\n",
    "                                 ),\n",
    "                                 DefaultScanFieldSettingsGenerator(detector))\n",
    "\n",
    "\n",
    "        atg_detail.withDelay(.2)\n",
    "\n",
    "        # add filter to ignore new bounding boxes that have intersection-over-union >0.5\n",
    "        # with any already scanned bounding boxes\n",
    "        flt = AlreadyImagedFOVFilter(pl, pll.detail, 0.5, ignore_z_overlap_check)\n",
    "        atg_detail.withFilters(flt)\n",
    "\n",
    "        # overview callback: re-add overview\n",
    "        pl.withCallbackAtLevel(atg_overview, pll.overview)\n",
    "        # overview callback 2: detect & do detail\n",
    "        pl.withCallbackAtLevel(atg_detail, pll.overview)\n",
    "\n",
    "        # call overview atg once to add first measurement to pipeline\n",
    "        atg_overview(pl)\n",
    "\n",
    "        # GO\n",
    "        pl.run()"
   ]
  },
  {
   "cell_type": "markdown",
   "metadata": {},
   "source": [
    "## 1) initialize acquisition list and connect to Imspector\n",
    "\n",
    "Run this to initialize the acquisition queue and connect to imspector\n",
    "Re-run to clear queued acquisitions"
   ]
  },
  {
   "cell_type": "code",
   "execution_count": null,
   "metadata": {
    "collapsed": true
   },
   "outputs": [],
   "source": [
    "# init acq. list\n",
    "acquisitions = []\n",
    "\n",
    "# imspector object\n",
    "im = sp.Imspector()"
   ]
  },
  {
   "cell_type": "markdown",
   "metadata": {},
   "source": [
    "## 2) Enqueue an acquisition\n",
    "\n",
    "Set the parameters for a new acquisition and add it to the queue.\n",
    "** Acquisition will be run at the current stage coordinates**"
   ]
  },
  {
   "cell_type": "code",
   "execution_count": null,
   "metadata": {
    "scrolled": false
   },
   "outputs": [],
   "source": [
    "params = {}\n",
    "\n",
    "### CHANGE ME!\n",
    "params['save_path'] = 'D:/AUTOMATION/auto-sir/2020705_IMR90_young_untreated/2020-07-08_rep3/'\n",
    "\n",
    "\n",
    "##### (OPTIONALLY) CHANGE US!\n",
    "\n",
    "# how long to image\n",
    "params['hours_to_image'] = 24\n",
    "\n",
    "### PARAMETER FILES\n",
    "# paths of the parameters files\n",
    "# we can use multiple for the SETD measurement (e.g. to do both a 2d and 3d STED acq.)\n",
    "params['ov_json'] = 'C:/Users/RESOLFT/Desktop/config_json/20200312_sir_overview_640-25.json'\n",
    "params['det_jsons'] = [\n",
    "    'C:/Users/RESOLFT/Desktop/config_json/20200312_sir_detail_640-35_775-30.json',\n",
    "    #'C:/Users/RESOLFT/Desktop/config_json/20181002_edu_conf+sted3d_detail.json'\n",
    "]\n",
    "\n",
    "### SPIRAL MOVE SIZE ###\n",
    "# Set this smaller than the overview FOV if you want to use Stitching\n",
    "params['ov_moves'] = [4e-5, 4e-5] # how much to move in overview spiral\n",
    "\n",
    "# whether to ignore the z coordinate in checking for already imaged regions\n",
    "params['ignore_z_overlap_check'] = True\n",
    "\n",
    "### Things that are set automatically\n",
    "# ensure we use slashes and not backslashes\n",
    "params['save_path'] = params['save_path'].replace(os.sep, '/')\n",
    "# sample name, will be set automatically\n",
    "params['sample_name'] = params['save_path'].strip('/').rsplit('/')[-1]\n",
    "# start at current coordinates, do not change!\n",
    "params['start_coords'] = get_current_stage_coords(im)\n",
    "\n",
    "# add to queue\n",
    "acquisitions.append(params)\n",
    "\n",
    "# print the currently queued acquisitions\n",
    "print(\"\"\"\n",
    "Queued Acquisitions:\n",
    "====================\n",
    "\"\"\")\n",
    "for ac in acquisitions:\n",
    "    print(json.dumps(ac, indent=1))"
   ]
  },
  {
   "cell_type": "markdown",
   "metadata": {},
   "source": [
    "## 3) Run the acquisitions\n",
    "\n",
    "Execute cell below to run the enqueued acquisitions"
   ]
  },
  {
   "cell_type": "code",
   "execution_count": null,
   "metadata": {
    "scrolled": false
   },
   "outputs": [],
   "source": [
    "# go through queued acquisitions (in reverse)\n",
    "# and run them\n",
    "for ac in reversed(acquisitions):\n",
    "    # pass Imspector as well (we excluded it until now because otherwise, the JSON print above would not work)\n",
    "    ac_t = ac\n",
    "    ac_t['im'] = im\n",
    "    run_pipeline(**ac)\n",
    "\n",
    "# Reset queued acquisitions\n",
    "# NB: if you cancelled a run, this might not be executed,\n",
    "#     make sure to clear old acquisitions manually (step 1)\n",
    "acquisitions = []"
   ]
  }
 ],
 "metadata": {
  "kernelspec": {
   "display_name": "Python 3",
   "language": "python",
   "name": "python3"
  },
  "language_info": {
   "codemirror_mode": {
    "name": "ipython",
    "version": 3
   },
   "file_extension": ".py",
   "mimetype": "text/x-python",
   "name": "python",
   "nbconvert_exporter": "python",
   "pygments_lexer": "ipython3",
   "version": "3.5.1"
  }
 },
 "nbformat": 4,
 "nbformat_minor": 1
}
