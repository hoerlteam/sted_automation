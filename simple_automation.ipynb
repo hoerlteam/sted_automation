{
 "cells": [
  {
   "cell_type": "markdown",
   "metadata": {},
   "source": [
    "# Simple automation\n",
    "\n",
    "This notebook can be used for rudimentary automation of the STED in a single field-of-view\n",
    "\n",
    "the general sequence is:\n",
    "* 1) prepare a measurement in Imspector consisting of 2 configurations\n",
    "    * an overview (one channel)\n",
    "    * detailed measurement\n",
    "* 2) set filepath and running index\n",
    "* 3) take an overview image manually\n",
    "* 4) this script will detect cells in image (simple thresholding) an do the detailed measurement of each cell\n",
    "* 5) repeat from 3) if necessar"
   ]
  },
  {
   "cell_type": "markdown",
   "metadata": {},
   "source": [
    "## Imports, run this once"
   ]
  },
  {
   "cell_type": "code",
   "execution_count": 96,
   "metadata": {},
   "outputs": [],
   "source": [
    "from specpy import *\n",
    "import numpy as np\n",
    "from scipy import ndimage as ndi\n",
    "from matplotlib import pyplot as plt\n",
    "from Util.tile_util import middle2corner\n",
    "%matplotlib inline"
   ]
  },
  {
   "cell_type": "markdown",
   "metadata": {},
   "source": [
    "## Change filepath, running index or threshold"
   ]
  },
  {
   "cell_type": "code",
   "execution_count": 262,
   "metadata": {},
   "outputs": [],
   "source": [
    "fileprefix = '\\\\Users\\\\RESOLFT\\\\Desktop\\\\Test\\\\20160616_k562_sirdna_vs_nospacer_water_0'\n",
    "runidx = 0"
   ]
  },
  {
   "cell_type": "code",
   "execution_count": 249,
   "metadata": {},
   "outputs": [],
   "source": [
    "t = 30"
   ]
  },
  {
   "cell_type": "markdown",
   "metadata": {},
   "source": [
    "## 1) get overview and detect cells, display segmentation"
   ]
  },
  {
   "cell_type": "code",
   "execution_count": 274,
   "metadata": {},
   "outputs": [
    {
     "data": {
      "image/png": "[encoded data removed]"
     },
     "output_type": "display_data",
     "metadata": {}
    }
   ],
   "source": [
    "im = Imspector()\n",
    "ms = im.active_measurement()\n",
    "\n",
    "c = ms.configuration(ms.configuration_names()[0])\n",
    "ms.activate(c)\n",
    "#ms.active_configuration().name()\n",
    "\n",
    "objs = get_objects(ms, threshold = t)\n",
    "plot_objs(ms, threshold = t)\n",
    "offset = get_offset(ms)\n",
    "ps = get_pixsize(ms)\n",
    "\n",
    "pixx, pixy = get_pdims(ms)"
   ]
  },
  {
   "cell_type": "markdown",
   "metadata": {},
   "source": [
    "## 2) do measurement for all cells detected in 1)"
   ]
  },
  {
   "cell_type": "code",
   "execution_count": 275,
   "metadata": {},
   "outputs": [],
   "source": [
    "for o in objs:\n",
    "    \n",
    "    # ignore on corner\n",
    "    if ((o[0].start == 0) or (o[1].start == 0) or (o[0].stop == pixy) or ((o[1].stop == pixx))):\n",
    "        continue\n",
    "    \n",
    "    c = ms.configuration(ms.configuration_names()[0])\n",
    "    ms.activate(c)\n",
    "    \n",
    "    ce, r = obj_to_off(o, pixsize=ps, offset=middle2corner(get_offset(ms), get_lens(ms)))\n",
    "\n",
    "    c = ms.configuration(ms.configuration_names()[1])\n",
    "    ms.activate(c)\n",
    "    set_field(ms, ce, r)\n",
    "    im.run(ms)\n",
    "    \n",
    "    ms.save_as(fileprefix + str(runidx) + '.msr')\n",
    "    runidx += 1"
   ]
  },
  {
   "cell_type": "markdown",
   "metadata": {},
   "source": [
    "## Definitions"
   ]
  },
  {
   "cell_type": "code",
   "execution_count": 239,
   "metadata": {},
   "outputs": [],
   "source": [
    "def get_pixsize(ms):\n",
    "    return ms.parameter('ExpControl/scan/range/x/psz')\n",
    "def get_offset(ms):\n",
    "    return (ms.parameter('ExpControl/scan/range/x/off'),  ms.parameter('ExpControl/scan/range/y/off'))\n",
    "def get_lens(ms):\n",
    "    return (ms.parameter('ExpControl/scan/range/x/len'),  ms.parameter('ExpControl/scan/range/y/len'))\n",
    "def get_pdims(ms):\n",
    "    return (ms.parameter('ExpControl/scan/range/x/res'),  ms.parameter('ExpControl/scan/range/y/res'))\n",
    "\n",
    "\n",
    "\n",
    "def set_field(ms, offs, siz):\n",
    "    offx = offs[0]\n",
    "    offy = offs[1]\n",
    "    sizx = siz[0]\n",
    "    sizy = siz [1]\n",
    "    ms.set_parameter('ExpControl/scan/range/x/off', offx)\n",
    "    ms.set_parameter('ExpControl/scan/range/y/off', offy)\n",
    "    ms.set_parameter('ExpControl/scan/range/x/len', sizx)\n",
    "    ms.set_parameter('ExpControl/scan/range/y/len', sizy)    \n",
    "    \n",
    "def get_objects(ms, threshold = 10):\n",
    "    st = ms.stack(0)\n",
    "    st.data()[0,0,:,:]\n",
    "    segmented = st.data()[0,0,:,:] >= threshold\n",
    "    #plt.imshow(st.data()[0,0,:,:] >= 2)\n",
    "    objs, labels = ndi.label(segmented)\n",
    "    masked = np.bincount(objs.ravel()) > 500\n",
    "    masked[0] = 0\n",
    "    clean = masked[objs]\n",
    "    objs2 = ndi.find_objects(ndi.label(clean)[0])\n",
    "    return objs2\n",
    "\n",
    "def plot_objs(ms, threshold = 10):\n",
    "    st = ms.stack(0)\n",
    "    st.data()[0,0,:,:]\n",
    "    segmented = st.data()[0,0,:,:] >= threshold\n",
    "    #plt.imshow(st.data()[0,0,:,:] >= 2)\n",
    "    objs, labels = ndi.label(segmented)\n",
    "    masked = np.bincount(objs.ravel()) > 500\n",
    "    masked[0] = 0\n",
    "    clean = masked[objs]\n",
    "    plt.imshow(ndi.label(clean)[0])\n",
    "    \n",
    "def obj_to_off(obj, pixsize = 2e-8, offset = (0, 0), factor = 1.2):\n",
    "    sly = obj[0]\n",
    "    slx = obj[1]\n",
    "    sizx = (slx.stop - slx.start) * pixsize * factor\n",
    "    sizy = (sly.stop - sly.start) * pixsize * factor\n",
    "    cx = (slx.start + 0.5 * (slx.stop - slx.start)) * pixsize + offset[0]\n",
    "    cy = (sly.start + 0.5 * (sly.stop - sly.start)) * pixsize + offset[1]\n",
    "    return((cx, cy),(sizx, sizy))"
   ]
  },
  {
   "cell_type": "markdown",
   "metadata": {},
   "source": [
    "## Tests / Misc."
   ]
  },
  {
   "cell_type": "code",
   "execution_count": 173,
   "metadata": {},
   "outputs": [],
   "source": [
    "ce, r = obj_to_off(objs[obj_idx], pixsize=ps, offset=offset)\n",
    "ce\n",
    "\n",
    "middle2corner(get_offset(ms), get_lens(ms))\n",
    "ms.save_as('\\\\Users\\\\RESOLFT\\\\Desktop\\\\testAAA.msr')"
   ]
  }
 ],
 "metadata": {
  "kernelspec": {
   "display_name": "Python 3",
   "language": "python",
   "name": "python3"
  },
  "language_info": {
   "codemirror_mode": {
    "name": "ipython",
    "version": 3.0
   },
   "file_extension": ".py",
   "mimetype": "text/x-python",
   "name": "python",
   "nbconvert_exporter": "python",
   "pygments_lexer": "ipython3",
   "version": "3.5.1"
  }
 },
 "nbformat": 4,
 "nbformat_minor": 0
}