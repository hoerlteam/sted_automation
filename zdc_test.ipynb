{
 "cells": [
  {
   "cell_type": "code",
   "execution_count": null,
   "metadata": {
    "collapsed": true,
    "scrolled": true
   },
   "outputs": [],
   "source": [
    "import specpy\n",
    "import numpy as np\n",
    "import json\n",
    "from matplotlib import pyplot\n",
    "import time\n",
    "\n",
    "from skimage.feature import blob_dog\n",
    "\n",
    "from pipeline2 import AcquisitionPipeline, PipelineLevels, DefaultNameHandler\n",
    "from pipeline2.util import gen_json, dump_JSON\n",
    "from pipeline2.imspector.imspector import get_current_stage_coords\n",
    "from pipeline2.taskgeneration import ( SpiralOffsetGenerator, JSONFileConfigLoader, \n",
    "                                      DefaultStageOffsetsSettingsGenerator,\n",
    "                                      AcquisitionTaskGenerator,\n",
    "                                        DefaultLocationRemover, DefaultLocationKeeper,\n",
    "                                     NewestDataSelector,\n",
    "                             NewestSettingsSelector,\n",
    "                             ZDCOffsetSettingsGenerator,)\n",
    "from pipeline2.imspector import ImspectorConnection\n",
    "from pipeline2.stoppingcriteria import TimedStoppingCriterion\n",
    "from pipeline2.detection import ZDCSpotPairFinder\n",
    "\n",
    "\n",
    "\n",
    "%matplotlib inline\n",
    "\n"
   ]
  },
  {
   "cell_type": "code",
   "execution_count": null,
   "metadata": {
    "scrolled": true
   },
   "outputs": [],
   "source": [
    "levels = PipelineLevels('overview', 'detail')\n",
    "\n",
    "im = specpy.Imspector()\n",
    "c = get_current_stage_coords(im)\n",
    "sp = SpiralOffsetGenerator().withVerbose()\n",
    "sp.withStart(c)\n",
    "sp.withZOffset(c[2] + 5e-6)\n",
    "\n",
    "atg = (AcquisitionTaskGenerator(levels.overview,\n",
    "                                    DefaultLocationRemover(JSONFileConfigLoader(\n",
    "                                        ['C:/Users/RESOLFT/Desktop/config_json/zdc_overview.json'])),\n",
    "                                    DefaultStageOffsetsSettingsGenerator(sp))\n",
    "           .withDelay(2.0))\n",
    "\n",
    "pipeline = AcquisitionPipeline('1')\n",
    "\n",
    "detector = ZDCSpotPairFinder(NewestDataSelector(pipeline, levels.overview), sigma=3, thresholds=[0.6, 0.6])\n",
    "detector.withVerbose()\n",
    "detector.withPlotDetections()\n",
    "\n",
    "\n",
    "atg_detail = (AcquisitionTaskGenerator(levels.detail,\n",
    "                                           DefaultLocationRemover(JSONFileConfigLoader(\n",
    "                                               ['C:/Users/RESOLFT/Desktop/config_json/zdc_detail_xy.json',\n",
    "                                               'C:/Users/RESOLFT/Desktop/config_json/zdc_detail_xz.json'], asMeasurements=False)),\n",
    "                                           DefaultLocationKeeper(NewestSettingsSelector(pipeline, levels.overview)),\n",
    "                                           ZDCOffsetSettingsGenerator(detector)\n",
    "                                           )\n",
    "            .withDelay(2.0))\n",
    "\n",
    "\n",
    "pipeline.withPipelineLevels(levels)\n",
    "pipeline.withNameHandler(DefaultNameHandler('C:/Users//RESOLFT/Desktop/TEST_GEN/', levels))\n",
    "pipeline.withImspectorConnection(ImspectorConnection(im))\n",
    "\n",
    "pipeline.withCallbackAtLevel(atg, levels.overview)\n",
    "pipeline.withCallbackAtLevel(atg_detail, levels.overview)\n",
    "pipeline.withAddedStoppingCondition(TimedStoppingCriterion(2400))\n",
    "\n",
    "atg(pipeline)"
   ]
  },
  {
   "cell_type": "code",
   "execution_count": null,
   "metadata": {
    "scrolled": false
   },
   "outputs": [],
   "source": [
    "pipeline.run()"
   ]
  },
  {
   "cell_type": "code",
   "execution_count": null,
   "metadata": {
    "scrolled": false
   },
   "outputs": [],
   "source": [
    "pipeline.data"
   ]
  },
  {
   "cell_type": "code",
   "execution_count": null,
   "metadata": {
    "scrolled": false
   },
   "outputs": [],
   "source": [
    "for k,v in pipeline.data.items():\n",
    "    pyplot.figure()\n",
    "    pyplot.imshow(np.apply_along_axis(np.max, 2, v.data[0][0][0,:,:,:]))"
   ]
  },
  {
   "cell_type": "code",
   "execution_count": null,
   "metadata": {
    "scrolled": true
   },
   "outputs": [],
   "source": [
    "offOld = np.array([ -2.29999978e-06,   6.00000021e-07,   7.31280000e-06])\n",
    "lenOld = np.array([  4.99500000e-05,   4.99500000e-05,   1.00000000e-05])\n",
    "pszOld = np.array([  1.50000000e-07,   1.50000000e-07,   2.50000000e-07])\n",
    "res = np.array([200.5, 135.0, 8.5])\n",
    "\n",
    "offOld - lenOld / 2 + res * pszOld"
   ]
  },
  {
   "cell_type": "markdown",
   "metadata": {},
   "source": [
    "## Title\n",
    "\n",
    "asas $\\sum_0^1 x$"
   ]
  },
  {
   "cell_type": "code",
   "execution_count": null,
   "metadata": {
    "scrolled": true
   },
   "outputs": [],
   "source": [
    "im = specpy.Imspector()\n",
    "\n",
    "c = get_current_stage_coords(im)\n",
    "print(c)\n",
    "sp = SpiralOffsetGenerator()\n",
    "sp.withStart(c)\n",
    "sp.withZOffset(c[2] + 5e-6)\n",
    "\n",
    "\n",
    "\n",
    "gen = DefaultStageOffsetsSettingsGenerator(sp)\n",
    "gen = DefaultLocationKeeper(DefaultStageOffsetsSettingsGenerator(sp))\n",
    "\n",
    "for _ in range(5):\n",
    "    upd = gen()[0][0][0]\n",
    "    print(upd)\n",
    "    im.active_measurement().set_parameters('', upd)\n",
    "    time.sleep(0.5)\n",
    "    print(get_current_stage_coords(im))"
   ]
  }
 ],
 "metadata": {
  "kernelspec": {
   "display_name": "Python 3",
   "language": "python",
   "name": "python3"
  },
  "language_info": {
   "codemirror_mode": {
    "name": "ipython",
    "version": 3
   },
   "file_extension": ".py",
   "mimetype": "text/x-python",
   "name": "python",
   "nbconvert_exporter": "python",
   "pygments_lexer": "ipython3",
   "version": "3.5.1"
  }
 },
 "nbformat": 4,
 "nbformat_minor": 2
}
