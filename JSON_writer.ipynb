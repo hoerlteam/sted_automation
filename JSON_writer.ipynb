{
 "cells": [
  {
   "cell_type": "code",
   "execution_count": 1,
   "metadata": {
    "collapsed": true
   },
   "outputs": [],
   "source": [
    "from functools import reduce\n",
    "import json\n",
    "import sys\n",
    "\n",
    "from specpy import *"
   ]
  },
  {
   "cell_type": "code",
   "execution_count": null,
   "metadata": {
    "collapsed": true
   },
   "outputs": [],
   "source": [
    "def dump_to_json(params, out_fd):\n",
    "    \n",
    "    json_dict = flatten_dict(params, \"\")\n",
    "    \n",
    "    return json.dump(json_dict, out_fd, indent=2, separators=(',', ': '), sort_keys=True)\n",
    "\n",
    "def flatten_dict(d, prefix):\n",
    "    if isinstance(d, dict):\n",
    "        dicts = list()\n",
    "        for (k,v) in d.items():\n",
    "            dicts.append(flatten_dict(v, \"/\".join([prefix, k])))\n",
    "        return reduce(lambda x, y: dict(list(x.items()) + list(y.items())), dicts)\n",
    "    elif isinstance(d, list):\n",
    "        dicts = list()\n",
    "        for i in range(len(d)):\n",
    "            dicts.append(flatten_dict(d[i], \"/\".join([prefix, str(i)])))\n",
    "        return reduce(lambda x, y: dict(list(x.items()) + list(y.items())), dicts)\n",
    "    else:\n",
    "        return {prefix[1:]: d}"
   ]
  },
  {
   "cell_type": "code",
   "execution_count": null,
   "metadata": {
    "collapsed": true,
    "scrolled": false
   },
   "outputs": [],
   "source": [
    "## OLD STYLE PARAMETER DUMP ##\n",
    "\n",
    "params = Imspector().active_measurement().active_configuration().parameters('')\n",
    "\n",
    "with open('C:/Users/RESOLFT/Desktop/sir_ov_60xwater.json', 'w') as fd:\n",
    "    dump_to_json(params, fd)\n",
    "dump_to_json(params, sys.stdout)"
   ]
  },
  {
   "cell_type": "code",
   "execution_count": null,
   "metadata": {
    "collapsed": true,
    "scrolled": false
   },
   "outputs": [],
   "source": [
    "## NEW (pipeline2) STYLE PARAMETER DUMP ##\n",
    "\n",
    "params = Imspector().active_measurement().active_configuration().parameters('')\n",
    "with open('C:/Users/RESOLFT/Desktop/config_json/20180723_sir-detail2d-100x.json', 'w') as fd:\n",
    "    json.dump(params, fd, indent=2)\n",
    "json.dump(params, sys.stdout, indent=2)"
   ]
  },
  {
   "cell_type": "code",
   "execution_count": null,
   "metadata": {
    "collapsed": true,
    "scrolled": true
   },
   "outputs": [],
   "source": [
    "## NEW (pipeline2) STYLE PARAMETER DUMP ##\n",
    "## IMSPECTOR SETTINGS ##\n",
    "\n",
    "params = Imspector().parameters('')\n",
    "with open('C:/Users/RESOLFT/Desktop/config_json/20180712_imspector_leftNONE.json', 'w') as fd:\n",
    "    json.dump(params, fd, indent=2)\n",
    "json.dump(params, sys.stdout, indent=2)"
   ]
  },
  {
   "cell_type": "markdown",
   "metadata": {},
   "source": [
    "# testing code below"
   ]
  },
  {
   "cell_type": "raw",
   "metadata": {},
   "source": [
    "globals()\n",
    "locals()"
   ]
  },
  {
   "cell_type": "code",
   "execution_count": null,
   "metadata": {
    "collapsed": true
   },
   "outputs": [],
   "source": [
    "im = Imspector()\n",
    "ms = im.active_measurement()\n",
    "c = ms.configuration(ms.configuration_names()[1])\n",
    "\n",
    "\n",
    "ms.activate(c)\n",
    "ms.active_configuration().name()"
   ]
  },
  {
   "cell_type": "code",
   "execution_count": null,
   "metadata": {
    "collapsed": true
   },
   "outputs": [],
   "source": [
    "flatten_dict(params, '')"
   ]
  },
  {
   "cell_type": "code",
   "execution_count": null,
   "metadata": {
    "collapsed": true
   },
   "outputs": [],
   "source": [
    "'221'.isdigit()"
   ]
  }
 ],
 "metadata": {
  "kernelspec": {
   "display_name": "Python 3",
   "language": "python",
   "name": "python3"
  },
  "language_info": {
   "codemirror_mode": {
    "name": "ipython",
    "version": 3
   },
   "file_extension": ".py",
   "mimetype": "text/x-python",
   "name": "python",
   "nbconvert_exporter": "python",
   "pygments_lexer": "ipython3",
   "version": "3.5.1"
  }
 },
 "nbformat": 4,
 "nbformat_minor": 1
}
