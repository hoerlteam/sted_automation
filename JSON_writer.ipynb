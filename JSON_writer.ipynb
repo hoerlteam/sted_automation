{
 "cells": [
  {
   "cell_type": "code",
   "execution_count": null,
   "metadata": {
    "collapsed": true
   },
   "outputs": [],
   "source": [
    "from specpy import *\n",
    "from functools import reduce\n",
    "import json\n",
    "params = Imspector().active_measurement().parameters('')\n",
    "import sys"
   ]
  },
  {
   "cell_type": "code",
   "execution_count": null,
   "metadata": {
    "collapsed": true
   },
   "outputs": [],
   "source": [
    "type(params)\n",
    "\n",
    "params\n",
    "\n",
    "from functools import reduce\n",
    "\n",
    "\n",
    "def dump_to_json(params, out_fd):\n",
    "    \n",
    "    json_dict = flatten_dict(params, \"\")\n",
    "    \n",
    "    return json.dump(json_dict, out_fd, indent=2, separators=(',', ': '), sort_keys=True)\n",
    "\n",
    "def flatten_dict(d, prefix):\n",
    "    if isinstance(d, dict):\n",
    "        dicts = list()\n",
    "        for (k,v) in d.items():\n",
    "            dicts.append(flatten_dict(v, \"/\".join([prefix, k])))\n",
    "        return reduce(lambda x, y: dict(list(x.items()) + list(y.items())), dicts)\n",
    "    elif isinstance(d, list):\n",
    "        dicts = list()\n",
    "        for i in range(len(d)):\n",
    "            dicts.append(flatten_dict(d[i], \"/\".join([prefix, str(i)])))\n",
    "        return reduce(lambda x, y: dict(list(x.items()) + list(y.items())), dicts)\n",
    "    else:\n",
    "        return {prefix[1:]: d}"
   ]
  },
  {
   "cell_type": "code",
   "execution_count": null,
   "metadata": {
    "scrolled": false
   },
   "outputs": [],
   "source": [
    "with open('C:/Users/RESOLFT/Desktop/ov013_30sted_water.json', 'w') as fd:\n",
    "    dump_to_json(params, fd)\n",
    "dump_to_json(params, sys.stdout)"
   ]
  },
  {
   "cell_type": "code",
   "execution_count": null,
   "metadata": {
    "collapsed": true
   },
   "outputs": [],
   "source": []
  },
  {
   "cell_type": "raw",
   "metadata": {},
   "source": [
    "globals()\n",
    "locals()"
   ]
  },
  {
   "cell_type": "code",
   "execution_count": null,
   "metadata": {
    "collapsed": true
   },
   "outputs": [],
   "source": [
    "im = Imspector()\n",
    "ms = im.active_measurement()\n",
    "c = ms.configuration(ms.configuration_names()[1])\n",
    "\n",
    "\n",
    "ms.activate(c)\n",
    "ms.active_configuration().name()"
   ]
  },
  {
   "cell_type": "code",
   "execution_count": null,
   "metadata": {
    "collapsed": true
   },
   "outputs": [],
   "source": [
    "flatten_dict(params, '')"
   ]
  },
  {
   "cell_type": "code",
   "execution_count": null,
   "metadata": {
    "collapsed": true
   },
   "outputs": [],
   "source": [
    "'221'.isdigit()"
   ]
  }
 ],
 "metadata": {
  "kernelspec": {
   "display_name": "Python 3",
   "language": "python",
   "name": "python3"
  },
  "language_info": {
   "codemirror_mode": {
    "name": "ipython",
    "version": 3
   },
   "file_extension": ".py",
   "mimetype": "text/x-python",
   "name": "python",
   "nbconvert_exporter": "python",
   "pygments_lexer": "ipython3",
   "version": "3.5.1"
  }
 },
 "nbformat": 4,
 "nbformat_minor": 1
}
