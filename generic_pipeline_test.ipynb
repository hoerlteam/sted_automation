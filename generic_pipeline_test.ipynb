{
 "cells": [
  {
   "cell_type": "code",
   "execution_count": null,
   "metadata": {},
   "outputs": [],
   "source": [
    "import specpy as sp\n",
    "import numpy as np\n",
    "from itertools import count\n",
    "from pprint import pprint\n",
    "import json\n",
    "from queue import PriorityQueue"
   ]
  },
  {
   "cell_type": "code",
   "execution_count": null,
   "metadata": {
    "scrolled": false
   },
   "outputs": [],
   "source": [
    "im = sp.Imspector()\n",
    "im.version()"
   ]
  },
  {
   "cell_type": "code",
   "execution_count": null,
   "metadata": {},
   "outputs": [],
   "source": [
    "class AcquisitionPriorityQueue(PriorityQueue):\n",
    "    def __init__(self):\n",
    "        PriorityQueue.__init__(self)\n",
    "        self.ctr = count()\n",
    "    def put(self, item, prio):\n",
    "        PriorityQueue.put(self, (prio, next(self.ctr), item))\n",
    "    def get(self, *args, **kwargs):\n",
    "        lvl, _, item = PriorityQueue.get(self, *args, **kwargs)\n",
    "        return (lvl, item)\n",
    "        \n",
    "class _pipeline_level:\n",
    "    def __init__(self, parent, name):\n",
    "        self.parent = parent\n",
    "        self.name = name\n",
    "    \n",
    "    def __eq__(self, other):\n",
    "        return self.name == other.name\n",
    "    \n",
    "    def __le__(self, other):\n",
    "        return self.parent.levels.index(self) <= self.parent.levels.index(other)\n",
    "    \n",
    "    def __lt__(self, other):\n",
    "        return self.parent.levels.index(self) < self.parent.levels.index(other)\n",
    "    \n",
    "    def __str__(self):\n",
    "        return self.name\n",
    "    \n",
    "    def __repr__(self):\n",
    "        return self.name\n",
    "        \n",
    "\n",
    "class PipelineLevels:\n",
    "    levels = []\n",
    "    def __init__(self, *args):\n",
    "        for arg in reversed(args):\n",
    "            lvl = _pipeline_level(self, arg)\n",
    "            self.levels.append(lvl)\n",
    "            setattr(self, arg, lvl)\n",
    "\n",
    "            \n",
    "pl = PipelineLevels('overview', 'detail', 'minfield')\n",
    "        \n",
    "pq = AcquisitionPriorityQueue()\n",
    "\n",
    "def done_and_enqueue_sted(no, nsteds, qu, pip):\n",
    "    print('ov {} done'.format(no))\n",
    "    for _ in range(nsteds):\n",
    "        qu.put( lambda : print('sted done'), pip.sted)\n",
    "\n",
    "pq.put( lambda : done_and_enqueue_sted(0, 5, pq, pl) , pl.overview)\n",
    "pq.put( lambda : done_and_enqueue_sted(1, 5, pq, pl) , pl.overview)\n",
    "\n",
    "while not pq.empty():\n",
    "    lvl, fun = pq.get()\n",
    "    fun()\n",
    "\n",
    "print('Done')"
   ]
  },
  {
   "cell_type": "code",
   "execution_count": null,
   "metadata": {
    "scrolled": false
   },
   "outputs": [],
   "source": [
    "it = count()\n",
    "\n",
    "\n",
    "ms = im.create_measurement()\n",
    "ms.set_parameters('', params)\n",
    "\n",
    "im.connect_begin(lambda : next(it), 1)\n",
    "im.run(ms)\n",
    "\n",
    "params = ms.parameters('')\n",
    "js = json.dumps(ms.parameters(''), indent=2)\n",
    "\n",
    "im.close(ms)\n",
    "print(next(it))\n",
    "\n",
    "print(js)\n",
    "justoix = dict([(k,v) for k,v in params.items() if (k == 'OlympusIX')])\n",
    "\n",
    "#pprint(im.parameters(''))"
   ]
  }
 ],
 "metadata": {
  "kernelspec": {
   "display_name": "Python 3",
   "language": "python",
   "name": "python3"
  },
  "language_info": {
   "codemirror_mode": {
    "name": "ipython",
    "version": 3
   },
   "file_extension": ".py",
   "mimetype": "text/x-python",
   "name": "python",
   "nbconvert_exporter": "python",
   "pygments_lexer": "ipython3",
   "version": "3.5.1"
  }
 },
 "nbformat": 4,
 "nbformat_minor": 2
}
