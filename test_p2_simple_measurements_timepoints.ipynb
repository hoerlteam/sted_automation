{
 "cells": [
  {
   "cell_type": "code",
   "execution_count": null,
   "metadata": {},
   "outputs": [],
   "source": [
    "import specpy\n",
    "\n",
    "im = specpy.get_application()\n",
    "ms = im.active_measurement()"
   ]
  },
  {
   "cell_type": "code",
   "execution_count": null,
   "metadata": {},
   "outputs": [],
   "source": [
    "# simple parameter setting example\n",
    "\n",
    "ypos = ms.parameters('ExpControl/scan/range/coarse_y/g_off')\n",
    "ypos += 1000e-06\n",
    "ms.set_parameters('ExpControl/scan/range/coarse_y/g_off', ypos)"
   ]
  },
  {
   "cell_type": "code",
   "execution_count": null,
   "metadata": {},
   "outputs": [],
   "source": [
    "im.run(ms)"
   ]
  },
  {
   "cell_type": "markdown",
   "metadata": {},
   "source": [
    "Test running pipeline with current measurement settings"
   ]
  },
  {
   "cell_type": "code",
   "execution_count": null,
   "metadata": {
    "tags": []
   },
   "outputs": [],
   "source": [
    "import h5py as h5\n",
    "\n",
    "from pipeline2.taskgeneration import AcquisitionTaskGenerator\n",
    "from pipeline2.taskgeneration.taskgeneration import TimeSeriesCallback\n",
    "import pipeline2 as p2\n",
    "\n",
    "\n",
    "save_path = 'D:/AUTOMATION/TEST/'\n",
    "\n",
    "# make output dir if it does not exist already\n",
    "if not os.path.exists(save_path):\n",
    "    os.makedirs(save_path)\n",
    "\n",
    "pll = p2.PipelineLevels('image')\n",
    "name_handler = p2.DefaultNameHandler(save_path, pll)\n",
    "\n",
    "# get all parameters of active measurement\n",
    "params = specpy.get_application().active_measurement().active_configuration().parameters('')\n",
    "\n",
    "# task generator to image with current settings\n",
    "task_gen_current_settings = AcquisitionTaskGenerator(pll.image,\n",
    "                                 p2.taskgeneration.JSONFileConfigLoader([params])\n",
    ")\n",
    "\n",
    "# abuse name_handler to get h5 filename\n",
    "# calling with empty index gives just the random hash\n",
    "h5file_name = name_handler.get_path([]).replace('.msr', '.h5')\n",
    "\n",
    "# open resulting h5 file in context manager\n",
    "with h5.File(h5file_name, mode='a') as h5fd:\n",
    "    data_store = p2.HDF5DataStore(h5fd, pll)\n",
    "\n",
    "    # init pipeline\n",
    "    pl = (p2.AcquisitionPipeline('test-pipeline')\n",
    "            .withImspectorConnection(p2.imspector.ImspectorConnection(im).withVerbose())\n",
    "            .withPipelineLevels(pll)\n",
    "            .withNameHandler(name_handler)\n",
    "        )\n",
    "\n",
    "    # attach h5 data store\n",
    "    pl.withDataStorage(data_store)\n",
    "\n",
    "    task_gen_current_settings(pl)\n",
    "\n",
    "    pl.run()\n"
   ]
  },
  {
   "cell_type": "markdown",
   "metadata": {},
   "source": [
    "Test timeseries with current settings"
   ]
  },
  {
   "cell_type": "code",
   "execution_count": null,
   "metadata": {
    "tags": []
   },
   "outputs": [],
   "source": [
    "import h5py as h5\n",
    "\n",
    "from pipeline2.taskgeneration import AcquisitionTaskGenerator\n",
    "from pipeline2.taskgeneration.taskgeneration import TimeSeriesCallback\n",
    "import pipeline2 as p2\n",
    "\n",
    "\n",
    "save_path = 'D:/AUTOMATION/TEST/'\n",
    "\n",
    "# make output dir if it does not exist already\n",
    "if not os.path.exists(save_path):\n",
    "    os.makedirs(save_path)\n",
    "\n",
    "pll = p2.PipelineLevels('timepoint', 'image')\n",
    "name_handler = p2.DefaultNameHandler(save_path, pll)\n",
    "\n",
    "# get all parameters of active measurement\n",
    "params = specpy.get_application().active_measurement().active_configuration().parameters('')\n",
    "\n",
    "# task generator to image with current settings\n",
    "task_gen_current_settings = AcquisitionTaskGenerator(pll.image,\n",
    "                                 p2.taskgeneration.JSONFileConfigLoader([params])\n",
    ")\n",
    "\n",
    "timeseries_callback = TimeSeriesCallback(pll.timepoint)\n",
    "timeseries_callback.time_points = [0, 30, 60]\n",
    "\n",
    "# abuse name_handler to get h5 filename\n",
    "# calling with empty index gives just the random hash\n",
    "h5file_name = name_handler.get_path([]).replace('.msr', '.h5')\n",
    "\n",
    "# open resulting h5 file in context manager\n",
    "with h5.File(h5file_name, mode='a') as h5fd:\n",
    "    data_store = p2.HDF5DataStore(h5fd, pll)\n",
    "\n",
    "    # init pipeline\n",
    "    pl = (p2.AcquisitionPipeline('test-pipeline')\n",
    "            .withImspectorConnection(p2.imspector.ImspectorConnection(im).withVerbose())\n",
    "            .withPipelineLevels(pll)\n",
    "            .withNameHandler(name_handler)\n",
    "        )\n",
    "\n",
    "    # attach h5 data store\n",
    "    pl.withDataStorage(data_store)\n",
    "\n",
    "    pl.withCallbackAtLevel(timeseries_callback, pll.timepoint)\n",
    "    pl.withCallbackAtLevel(task_gen_current_settings, pll.timepoint)\n",
    "\n",
    "    timeseries_callback.initialize_time_series(pl)\n",
    "    pl.run()\n",
    "\n",
    "\n"
   ]
  }
 ],
 "metadata": {
  "kernelspec": {
   "display_name": "Python 3.9.4 ('anaconda-py39')",
   "language": "python",
   "name": "python3"
  },
  "language_info": {
   "codemirror_mode": {
    "name": "ipython",
    "version": 3
   },
   "file_extension": ".py",
   "mimetype": "text/x-python",
   "name": "python",
   "nbconvert_exporter": "python",
   "pygments_lexer": "ipython3",
   "version": "3.9.4"
  },
  "vscode": {
   "interpreter": {
    "hash": "88b6ea773a423baafb5938928b63c05a5624c69f4ce9ceee5769142531e02ac0"
   }
  }
 },
 "nbformat": 4,
 "nbformat_minor": 4
}
