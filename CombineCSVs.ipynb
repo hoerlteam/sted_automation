{
 "cells": [
  {
   "cell_type": "code",
   "execution_count": 1,
   "metadata": {
    "collapsed": true
   },
   "outputs": [],
   "source": [
    "import re\n",
    "import os"
   ]
  },
  {
   "cell_type": "code",
   "execution_count": null,
   "metadata": {
    "collapsed": false
   },
   "outputs": [],
   "source": [
    "### for single samples\n",
    "\n",
    "dr = '/Users/david/Desktop/AA_4th_shipment/'\n",
    "csvs = [f for f in next(os.walk(dr))[2] if f.endswith('.csv')]\n",
    "print(csvs)\n",
    "\n",
    "p = re.compile('(.*?)_(.*?C)_(.*?s)\\.csv')\n",
    "\n",
    "with open(os.path.join(dr, 'out.csv'), 'w') as outfd:\n",
    "    \n",
    "    with open(os.path.join(dr, csvs[0]), 'r') as fstfd:\n",
    "        outfd.write(fstfd.readline().strip() + ',cell,temp,time\\n')\n",
    "    \n",
    "    for c in csvs:\n",
    "        gr = list(re.match(p, c).groups())\n",
    "        with open(os.path.join(dr, c), 'r') as fd:\n",
    "            fd.readline()\n",
    "            for line in fd.readlines():\n",
    "                outfd.write(line.strip() + ',' + ','.join(gr) + '\\n')\n",
    "            \n",
    "        "
   ]
  },
  {
   "cell_type": "code",
   "execution_count": 2,
   "metadata": {
    "collapsed": false
   },
   "outputs": [
    {
     "name": "stdout",
     "output_type": "stream",
     "text": [
      "['gm_aC_150s_1.csv', 'gm_aC_150s_2.csv', 'gm_aC_150s_3.csv', 'gm_aC_150s_4.csv', 'gm_aC_180s_1.csv', 'gm_aC_180s_2.csv', 'gm_aC_180s_3.csv', 'gm_aC_180s_4.csv', 'gm_aC_180s_5.csv', 'image_counts.csv', 'k562_aC_150s_1.csv', 'k562_aC_150s_2.csv', 'k562_aC_150s_4.csv', 'k562_aC_180s_1.csv', 'k562_aC_180s_2.csv', 'k562_aC_180s_3.csv', 'k562_aC_180s_4.csv', 'k562_aC_180s_5.csv']\n"
     ]
    }
   ],
   "source": [
    "### for multiple samples of same condition\n",
    "\n",
    "dr = '/Users/david/Desktop/AA_combined_results/'\n",
    "csvs = [f for f in next(os.walk(dr))[2] if f.endswith('.csv')]\n",
    "print(csvs)\n",
    "\n",
    "p = re.compile('(.*?)_(.*?C)_(.*?s)_([0-9]+)\\.csv')\n",
    "\n",
    "with open(os.path.join(dr, 'out.csv'), 'w') as outfd:\n",
    "    \n",
    "    with open(os.path.join(dr, csvs[0]), 'r') as fstfd:\n",
    "        outfd.write(fstfd.readline().strip() + ',cell,temp,time,sample\\n')\n",
    "    \n",
    "    for c in csvs:\n",
    "        if re.match(p, c):\n",
    "            gr = list(re.match(p, c).groups())\n",
    "            with open(os.path.join(dr, c), 'r') as fd:\n",
    "                fd.readline()\n",
    "                for line in fd.readlines():\n",
    "                    outfd.write(line.strip() + ',' + ','.join(gr) + '\\n')"
   ]
  },
  {
   "cell_type": "code",
   "execution_count": null,
   "metadata": {
    "collapsed": false
   },
   "outputs": [],
   "source": [
    "# out.csv in subfolders\n",
    "dr = '/Volumes/project_data/cooperation_data/Preliminary_projects/Darmstadt - gammaH2AX/20160723_SP5'\n",
    "\n",
    "toprocess = list()\n",
    "for d, ds, f in os.walk(dr):\n",
    "    if 'res.csv' in f:\n",
    "        toprocess.append(os.path.join(d, 'res.csv'))\n",
    "        \n",
    "with open(os.path.join(dr, 'combined.csv'), 'w') as resfd:\n",
    "    \n",
    "    with open(toprocess[0], 'r') as fstfd:        \n",
    "        resfd.write(fstfd.readline().strip() + ',cond\\n' )\n",
    "        for line in fstfd.readlines():\n",
    "            resfd.write(line.strip() + ',' + toprocess[0].split(os.path.sep)[-2] + '\\n')\n",
    "            \n",
    "    for i in range(1, len(toprocess)):\n",
    "        with open(toprocess[i], 'r') as infd:        \n",
    "            infd.readline()\n",
    "            for line in infd.readlines():\n",
    "                resfd.write(line.strip() + ',' + toprocess[i].split(os.path.sep)[-2] + '\\n')\n",
    "            "
   ]
  }
 ],
 "metadata": {
  "kernelspec": {
   "display_name": "Python 3",
   "language": "python",
   "name": "python3"
  },
  "language_info": {
   "codemirror_mode": {
    "name": "ipython",
    "version": 3
   },
   "file_extension": ".py",
   "mimetype": "text/x-python",
   "name": "python",
   "nbconvert_exporter": "python",
   "pygments_lexer": "ipython3",
   "version": "3.5.1"
  }
 },
 "nbformat": 4,
 "nbformat_minor": 0
}
