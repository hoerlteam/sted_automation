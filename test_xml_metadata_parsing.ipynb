{
 "cells": [
  {
   "cell_type": "code",
   "execution_count": null,
   "id": "initial_id",
   "metadata": {
    "collapsed": true
   },
   "outputs": [],
   "source": [
    "import msr\n",
    "from xml.etree import ElementTree"
   ]
  },
  {
   "cell_type": "code",
   "outputs": [],
   "source": [
    "filename = 'C:/Users/david/Desktop/msr-test-files/2889b245416cd9783c627f413caa45c9_overview_1_detail_0.msr'\n",
    "\n",
    "with msr.OBFFile(filename) as reader:\n",
    "    meta = reader.stack_footers[0].tag_dictionary\n",
    "    et = ElementTree.fromstring(meta['imspector'])\n",
    "\n",
    "# get all element types present in XML\n",
    "types = set()\n",
    "for elem in et.find('hwr').iter():\n",
    "    types.add(elem.attrib['type'])\n",
    "types"
   ],
   "metadata": {
    "collapsed": false
   },
   "id": "e08d7632c42aefaa",
   "execution_count": null
  },
  {
   "cell_type": "code",
   "outputs": [],
   "source": [
    "from pipeline2.utils.xml_metadata import handle_xml_element\n",
    "\n",
    "handle_xml_element(et.find('doc'))"
   ],
   "metadata": {
    "collapsed": false
   },
   "id": "7bd810d60829f111",
   "execution_count": null
  },
  {
   "cell_type": "code",
   "outputs": [],
   "source": [
    "from h5py import File\n",
    "import json\n",
    "\n",
    "file_h5 = 'C:/Users/david/Desktop/msr-test-files/6542d40dcd6ed1833ed868ac060f73a1.h5'\n",
    "file_msr = 'C:/Users/david/Desktop/msr-test-files/6542d40dcd6ed1833ed868ac060f73a1_field_0_sted_0.msr'\n",
    "\n",
    "with msr.OBFFile(file_msr) as reader:\n",
    "    meta = reader.stack_footers[0].tag_dictionary\n",
    "    et = ElementTree.fromstring(meta['imspector'])\n",
    "    meta_from_msr = handle_xml_element(et.find('doc'))\n",
    "\n",
    "with File(file_h5, 'r') as f:\n",
    "    meta_from_h5 = json.loads(f['experiment/field0_sted0/0'].attrs['measurement_meta'])"
   ],
   "metadata": {
    "collapsed": false
   },
   "id": "1245fd2c8510744b",
   "execution_count": null
  },
  {
   "cell_type": "code",
   "outputs": [],
   "source": [
    "from pipeline2.util import diff_dicts\n",
    "\n",
    "diff_dicts(meta_from_h5, meta_from_msr)"
   ],
   "metadata": {
    "collapsed": false
   },
   "id": "34553b0a1e9befb8",
   "execution_count": null
  },
  {
   "cell_type": "code",
   "outputs": [],
   "source": [
    "from pipeline2.util import filter_dict\n",
    "\n",
    "k = 'Pinhole/size_used_au'\n",
    "filter_dict(meta_from_msr, k, False), filter_dict(meta_from_h5, k, False), et.find('doc/' + k).text"
   ],
   "metadata": {
    "collapsed": false
   },
   "id": "567beb0526d2fb56",
   "execution_count": null
  }
 ],
 "metadata": {
  "kernelspec": {
   "display_name": "Python 3",
   "language": "python",
   "name": "python3"
  },
  "language_info": {
   "codemirror_mode": {
    "name": "ipython",
    "version": 2
   },
   "file_extension": ".py",
   "mimetype": "text/x-python",
   "name": "python",
   "nbconvert_exporter": "python",
   "pygments_lexer": "ipython2",
   "version": "2.7.6"
  }
 },
 "nbformat": 4,
 "nbformat_minor": 5
}
