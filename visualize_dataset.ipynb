{
 "cells": [
  {
   "cell_type": "code",
   "execution_count": null,
   "metadata": {
    "collapsed": false,
    "scrolled": false
   },
   "outputs": [],
   "source": [
    "import numpy as np\n",
    "import h5py\n",
    "from matplotlib import pyplot as plt\n",
    "from matplotlib.patches import Rectangle\n",
    "\n",
    "from pipeline2 import H5DataReader\n",
    "from pipeline2.detection import SimpleSingleChannelSpotDetector\n",
    "from pipeline2.taskgeneration import BoundingBoxLocationGrouper\n",
    "from pipeline2.util import filter_dict\n",
    "\n",
    "%matplotlib notebook\n",
    "plt.rcParams['figure.figsize'] = [7,7]\n",
    "\n",
    "def blend(img, cmap, contrast=8, alpha=.8):\n",
    "    \n",
    "    norm = plt.Normalize()(img)\n",
    "    blend = cmap(norm)\n",
    "    \n",
    "    # old alpha (everything below mode transparent, everything above alpha)\n",
    "    #freq, edges = np.histogram(img.ravel(), bins=100)\n",
    "    #mode = edges[np.argmax(freq)+1]\n",
    "    #blend[:,:,-1] = (img > mode) * alpha\n",
    "    \n",
    "    blend[:,:,-1] = norm**(1/contrast) * alpha\n",
    "    return blend\n",
    "\n",
    "\n",
    "def do_h5_visualization(path):\n",
    "    with h5py.File(path, 'r') as fd:\n",
    "        plt.figure()    \n",
    "        r = H5DataReader(fd)\n",
    "        #r2 = type('',(object,),{'get_data':lambda self : r.get_data(idx)})()\n",
    "        #det = SimpleSingleChannelSpotDetector(r2, 2, 1.5, 0, 3, 5, False).withPlotDetections().withVerbose()\n",
    "        #BoundingBoxLocationGrouper(det, [5e-6, 5e-6, 2e-6]).withVerbose().get_locations()\n",
    "\n",
    "        cms = [plt.cm.Reds_r, plt.cm.Greens_r, plt.cm.Blues_r]\n",
    "        cols = ['red', 'green', 'blue']\n",
    "\n",
    "        for idx in r.idxes:\n",
    "\n",
    "            rd = r.get_data(idx)\n",
    "            dta = rd.data\n",
    "\n",
    "\n",
    "            meta = rd.measurementSettings[0]\n",
    "            offsOldStg = np.array([filter_dict(\n",
    "                meta, 'ExpControl/scan/range/offsets/coarse/{}/g_off'.format(c), False) for c in ['x', 'y', 'z']], dtype=float)\n",
    "\n",
    "            offsOldG = np.array([filter_dict(\n",
    "                    meta, 'ExpControl/scan/range/{}/g_off'.format(c), False) for c in ['x', 'y', 'z']], dtype=float)\n",
    "\n",
    "            offsOld = offsOldStg + offsOldG + np.array([filter_dict(\n",
    "                    meta, 'ExpControl/scan/range/{}/off'.format(c), False) for c in ['x', 'y', 'z']], dtype=float)\n",
    "\n",
    "            lensOld = np.array([filter_dict(\n",
    "                    meta, 'ExpControl/scan/range/{}/len'.format(c), False) for c in ['x', 'y', 'z']], dtype=float)\n",
    "\n",
    "            pszOld = np.array([filter_dict(\n",
    "                    meta, 'ExpControl/scan/range/{}/psz'.format(c), False) for c in ['x', 'y', 'z']], dtype=float)\n",
    "\n",
    "            #left, right, bottom, top\n",
    "            left = offsOld[0] - (lensOld[0] + pszOld[0]) /2\n",
    "            right = offsOld[0] + (lensOld[0] + pszOld[0])/2\n",
    "            bottom = offsOld[1] + (lensOld[1] + pszOld[1])/2\n",
    "            top = offsOld[1] - (lensOld[1] + pszOld[1])/2\n",
    "\n",
    "            # project and show\n",
    "            img = np.squeeze(np.apply_along_axis(np.max, 1, dta[0][0]))\n",
    "            plt.imshow(blend(img, cms[len(idx)-1]), extent=(left, right, bottom, top))\n",
    "\n",
    "            # TODO: keep track of min/max and zoom out\n",
    "            #plt.xlim(0,20)\n",
    "            #plt.ylim(0,20)\n",
    "\n",
    "            ax = plt.gca()\n",
    "            ax.add_artist(Rectangle((left, top), right-left, bottom-top, fill=False, color=cols[len(idx)-1]))\n",
    "\n",
    "        plt.gca().patch.set_facecolor('black')\n",
    "    "
   ]
  },
  {
   "cell_type": "code",
   "execution_count": null,
   "metadata": {
    "collapsed": false
   },
   "outputs": [],
   "source": [
    "path = '/Volumes/cooperation_data/TobiasRagoczy_StamLab/DavidHoerl/20180226_pipeline2test/7d0fcf9627909e8b1afa42d73edbf0fd.h5'\n",
    "\n",
    "do_h5_visualization(path)"
   ]
  }
 ],
 "metadata": {
  "kernelspec": {
   "display_name": "Python 3",
   "language": "python",
   "name": "python3"
  },
  "language_info": {
   "codemirror_mode": {
    "name": "ipython",
    "version": 3
   },
   "file_extension": ".py",
   "mimetype": "text/x-python",
   "name": "python",
   "nbconvert_exporter": "python",
   "pygments_lexer": "ipython3",
   "version": "3.6.0"
  }
 },
 "nbformat": 4,
 "nbformat_minor": 2
}
