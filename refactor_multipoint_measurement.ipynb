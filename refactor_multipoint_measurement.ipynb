{
 "cells": [
  {
   "cell_type": "markdown",
   "metadata": {},
   "source": [
    "# Manual Multi-Point measurement\n",
    "\n",
    "This notebook is designed to repeat a measurement at multiple user-defined positions.\n",
    "\n",
    "The list of positions can be set by hand by moving the stage and repeatedly getting the current stage coordinates from Imspector."
   ]
  },
  {
   "cell_type": "code",
   "execution_count": null,
   "metadata": {},
   "outputs": [],
   "source": [
    "import specpy\n",
    "\n",
    "from pipeline2.taskgeneration.coordinate_building_blocks import StagePositionListGenerator, StageOffsetsSettingsGenerator\n",
    "from pipeline2.callback_buildingblocks.static_settings import JSONSettingsLoader\n",
    "from pipeline2.taskgeneration import AcquisitionTaskGenerator\n",
    "from pipeline2.pipeline import AcquisitionPipeline\n",
    "from pipeline2.imspector import get_current_stage_coords"
   ]
  },
  {
   "cell_type": "markdown",
   "metadata": {},
   "source": [
    "## 1: Parameters\n",
    "\n",
    "For this automation pipeline, we only need to know where to save our data and which settings to use for each position"
   ]
  },
  {
   "cell_type": "code",
   "execution_count": null,
   "metadata": {},
   "outputs": [],
   "source": [
    "# where to save & whether to save combined HDF5 file\n",
    "save_folder = 'D:/AUTOMATION/TEST/multipoint'\n",
    "save_hdf5 = True\n",
    "\n",
    "# path of measurement parameters (dumped to JSON file)\n",
    "measurement_parameters = 'C:/Users/RESOLFT/Desktop/config_json/20200921_2colorFISH_ov.json'"
   ]
  },
  {
   "cell_type": "markdown",
   "metadata": {},
   "source": [
    "### 1a (OPTIONAL): Use settings from current measurement in Imspector\n",
    "\n",
    "Run this cell to re-use the settings of current measurement (and configuration) in Imspector instead of loading them from a file."
   ]
  },
  {
   "cell_type": "code",
   "execution_count": null,
   "metadata": {},
   "outputs": [],
   "source": [
    "imspector = specpy.get_application()\n",
    "measurement_parameters = imspector.active_measurement().parameters('')"
   ]
  },
  {
   "cell_type": "markdown",
   "metadata": {},
   "source": [
    "### 1b (OPTIONAL): Use settings from current measurement in Imspector (multiple configurations)\n",
    "\n",
    "Run this cell to re-use the settings of current measurement in Imspector.\n",
    "\n",
    "In contrast to 1a, this will use all configurations of the current measurement and run them all at each position in the multipoint experiment. "
   ]
  },
  {
   "cell_type": "code",
   "execution_count": null,
   "metadata": {},
   "outputs": [],
   "source": [
    "measurement_parameters = []\n",
    "\n",
    "measurement = imspector.active_measurement()\n",
    "for configuration in measurement.configuration_names():\n",
    "    measurement.activate(measurement.configuration(configuration))\n",
    "    measurement_parameters.append(measurement.parameters(''))"
   ]
  },
  {
   "cell_type": "markdown",
   "metadata": {},
   "source": [
    "## 2: Building list of coordinates to image\n",
    "\n",
    "Now, we manually build a list of stage coordinates to image.\n",
    "\n",
    "Run the second cell multiple times (after moving to positions you want to image at) to add multiple points."
   ]
  },
  {
   "cell_type": "code",
   "execution_count": null,
   "metadata": {},
   "outputs": [],
   "source": [
    "# start with empty position list\n",
    "coordinate_list = []"
   ]
  },
  {
   "cell_type": "code",
   "execution_count": null,
   "metadata": {},
   "outputs": [],
   "source": [
    "# append current stage position, run multiple times to enqueue multiple positions to image at\n",
    "coordinate_list.append(get_current_stage_coords())"
   ]
  },
  {
   "cell_type": "code",
   "execution_count": null,
   "metadata": {},
   "outputs": [],
   "source": [
    "# optionally reverse position list (saves initial move if we start right after setting last position)\n",
    "coordinate_list = coordinate_list[::-1]"
   ]
  },
  {
   "cell_type": "code",
   "execution_count": null,
   "metadata": {},
   "outputs": [],
   "source": [
    "# show for verification\n",
    "coordinate_list"
   ]
  },
  {
   "cell_type": "markdown",
   "metadata": {},
   "source": [
    "## 3: run multipoint acquisition"
   ]
  },
  {
   "cell_type": "code",
   "execution_count": null,
   "metadata": {},
   "outputs": [],
   "source": [
    "# callback that will create an acquisition task with given measurement parameters\n",
    "# at the next stage coordinates in the coordinate list (the next 'position')\n",
    "next_position_generator = AcquisitionTaskGenerator('position',\n",
    "    JSONSettingsLoader(measurement_parameters, as_measurements=False),\n",
    "    StageOffsetsSettingsGenerator(StagePositionListGenerator(coordinate_list)))\n",
    "\n",
    "# build pipeline object (1 level: 'position')\n",
    "pipeline = AcquisitionPipeline('multipoint-acquisition', save_folder, ['position'], save_combined_hdf5=save_hdf5)\n",
    "# attach callback so that after each position, the next one will be enqueued\n",
    "pipeline.add_callback(next_position_generator, 'position')\n",
    "\n",
    "# start with initial task from callback\n",
    "pipeline.run(next_position_generator)"
   ]
  }
 ],
 "metadata": {
  "kernelspec": {
   "display_name": "Python 3.7.6 ('base')",
   "language": "python",
   "name": "python3"
  },
  "language_info": {
   "codemirror_mode": {
    "name": "ipython",
    "version": 3
   },
   "file_extension": ".py",
   "mimetype": "text/x-python",
   "name": "python",
   "nbconvert_exporter": "python",
   "pygments_lexer": "ipython3",
   "version": "3.7.6"
  },
  "orig_nbformat": 4,
  "vscode": {
   "interpreter": {
    "hash": "caf6efcfc89aba1bdbf0711d0a9a79bee9c38cecffe6efe1da5a20860731374b"
   }
  }
 },
 "nbformat": 4,
 "nbformat_minor": 2
}
