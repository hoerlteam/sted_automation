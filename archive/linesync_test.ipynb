{
 "cells": [
  {
   "cell_type": "code",
   "execution_count": 26,
   "metadata": {
    "collapsed": true
   },
   "outputs": [],
   "source": [
    "import json\n",
    "import specpy as sp"
   ]
  },
  {
   "cell_type": "code",
   "execution_count": 2,
   "metadata": {
    "collapsed": true
   },
   "outputs": [],
   "source": [
    "im = sp.Imspector()"
   ]
  },
  {
   "cell_type": "code",
   "execution_count": 49,
   "metadata": {
    "collapsed": true
   },
   "outputs": [],
   "source": [
    "# get (and save) settings for\n",
    "# xy-scan with frame sync\n",
    "\n",
    "par_xy_file = 'c:/Users/RESOLFT/Desktop/ms_params.json'\n",
    "par_xy = im.active_measurement().parameters('')\n",
    "\n",
    "# we have to delete this as it does not exist in a new measurement?\n",
    "#del par_xy['Measurement']['LoopMeasurement']\n",
    "\n",
    "with open(par_xy_file, 'w') as fd:\n",
    "    json.dump(par_xy, fd, indent=1)"
   ]
  },
  {
   "cell_type": "code",
   "execution_count": 50,
   "metadata": {
    "collapsed": true
   },
   "outputs": [],
   "source": [
    "# get (and save) settings for\n",
    "# xz-scan with line sync\n",
    "\n",
    "par_xz_file = 'c:/Users/RESOLFT/Desktop/20180305_xz_test.json'\n",
    "par_xz = im.active_measurement().parameters('')\n",
    "\n",
    "# we have to delete this as it does not exist in a new measurement?\n",
    "#del par_xz['Measurement']['LoopMeasurement']\n",
    "\n",
    "with open(par_xz_file, 'w') as fd:\n",
    "    json.dump(par_xy, fd, indent=1)"
   ]
  },
  {
   "cell_type": "code",
   "execution_count": 54,
   "metadata": {
    "collapsed": true
   },
   "outputs": [],
   "source": [
    "im.create_measurement()\n",
    "ms = im.active_measurement()\n",
    "ms.set_parameters('', par_xy)\n",
    "im.run(ms)\n",
    "\n",
    "ms.set_parameters('', par_xz)\n",
    "# manually set \n",
    "#ms.set_parameters('Measurement/axes/num_synced', 1)\n",
    "im.run(ms)\n",
    "\n",
    "ms.set_parameters('', par_xy)\n",
    "im.run(ms)"
   ]
  },
  {
   "cell_type": "code",
   "execution_count": 15,
   "metadata": {},
   "outputs": [
    {
     "name": "stdout",
     "output_type": "stream",
     "text": [
      "1.1.8\n",
      "2\n",
      "2\n",
      "1\n",
      "2\n"
     ]
    }
   ],
   "source": [
    "import specpy as sp\n",
    "\n",
    "print(sp.__version__)\n",
    "# > 1.1.8\n",
    "\n",
    "# connect to Imspector and create new measurement\n",
    "# (assuming the default sync setting is Frame sync)\n",
    "im = sp.Imspector()\n",
    "im.create_measurement()\n",
    "ms = im.active_measurement()\n",
    "\n",
    "print(ms.parameters('Measurement/axes/num_synced'))\n",
    "# > 2 \n",
    "# (Frame sync)\n",
    "\n",
    "# change sync axis in parameter dict & update all parameters\n",
    "par = ms.parameters('')\n",
    "par['Measurement']['axes']['num_synced'] = 1\n",
    "ms.set_parameters('', par)\n",
    "\n",
    "print(ms.parameters('Measurement/axes/num_synced'))\n",
    "# > 2\n",
    "# (Frame sync)\n",
    "\n",
    "# update just the num_synced parameter\n",
    "ms.set_parameters('Measurement/axes/num_synced', 1)\n",
    "\n",
    "print(ms.parameters('Measurement/axes/num_synced'))\n",
    "# > 1\n",
    "# (Line sync)\n",
    "\n",
    "# switching to another measurement and the back to ms resets num_synced\n",
    "im.create_measurement()\n",
    "im.activate(ms)\n",
    "print(ms.parameters('Measurement/axes/num_synced'))\n",
    "# > 2 \n",
    "# (Frame sync)"
   ]
  },
  {
   "cell_type": "code",
   "execution_count": 8,
   "metadata": {
    "collapsed": true
   },
   "outputs": [],
   "source": [
    "def gen_mode_flag(mode_str):\n",
    "\n",
    "        _mode_vals = {\n",
    "        'x' : 0,\n",
    "        'y' : 1,\n",
    "        'z' : 2,\n",
    "        't' : 3\n",
    "        }\n",
    "\n",
    "        if len(mode_str) > 4:\n",
    "            return None\n",
    "        res = 0\n",
    "        for _ in range(3 - len(mode_str)):\n",
    "            \n",
    "            res = (res + 1) << 2\n",
    "            res = (res + 1) << 2\n",
    "        for i, c in enumerate(reversed(mode_str)):\n",
    "            res = res << 2\n",
    "            res = res + _mode_vals[c]\n",
    "            if not i == len(mode_str) - 1:\n",
    "                res = res << 2\n",
    "        return res"
   ]
  },
  {
   "cell_type": "code",
   "execution_count": 10,
   "metadata": {},
   "outputs": [
    {
     "data": {
      "text/plain": [
       "528"
      ]
     },
     "execution_count": 10,
     "metadata": {},
     "output_type": "execute_result"
    }
   ],
   "source": [
    "gen_mode_flag('xyz')"
   ]
  },
  {
   "cell_type": "code",
   "execution_count": 11,
   "metadata": {},
   "outputs": [
    {
     "name": "stdout",
     "output_type": "stream",
     "text": [
      "1.1.8\n",
      "1e-05\n",
      "1e-05\n",
      "2e-05\n"
     ]
    },
    {
     "name": "stderr",
     "output_type": "stream",
     "text": [
      "c:\\program files\\python35\\lib\\site-packages\\ipykernel_launcher.py:22: FutureWarning: Measurement.parameters() will be removed. Please use Measurement.parameters('') instead. \n"
     ]
    }
   ],
   "source": [
    "import specpy as sp\n",
    "\n",
    "print(sp.__version__)\n",
    "# > 1.1.8\n",
    "\n",
    "# connect to Imspector and create new measurement\n",
    "im = sp.Imspector()\n",
    "im.create_measurement()\n",
    "ms = im.active_measurement()\n",
    "\n",
    "# set to xyz mode and set a defined z length\n",
    "ms.set_parameters('ExpControl/scan/range/mode', 528) # xyz\n",
    "ms.set_parameters('ExpControl/scan/range/z/len', 1e-5) # set z fov len to 10um\n",
    "\n",
    "# length is set as expected\n",
    "print(ms.parameters('ExpControl/scan/range/z/len'))\n",
    "# -> 1e-05\n",
    "\n",
    "# switch to xy-mode -> z length is grayed out in UI\n",
    "ms.set_parameters('ExpControl/scan/range/mode', 1296) # xy\n",
    "\n",
    "# get parameters and change them to xyz-scan with different z-length\n",
    "par = ms.parameters('')\n",
    "par['ExpControl']['scan']['range']['mode'] = 528 # xyz\n",
    "par['ExpControl']['scan']['range']['z']['len'] = 2e-5\n",
    "par['Measurement']['axes']['scan_axes'] = ['ExpControl X', 'ExpControl Y', 'ExpControl Z', 'None']\n",
    "\n",
    "# set whole parameter object\n",
    "# fields that were grayed out are *NOT* changed!\n",
    "# fields are activated *after* this call\n",
    "ms.set_parameters('', par)\n",
    "print(ms.parameters('ExpControl/scan/range/z/len'))\n",
    "# -> 1e-05\n",
    "\n",
    "# set all parameters again -> correct setting\n",
    "ms.set_parameters('', par)\n",
    "print(ms.parameters('ExpControl/scan/range/z/len'))\n",
    "# -> 2e-05"
   ]
  }
 ],
 "metadata": {
  "kernelspec": {
   "display_name": "Python 3",
   "language": "python",
   "name": "python3"
  },
  "language_info": {
   "codemirror_mode": {
    "name": "ipython",
    "version": 3
   },
   "file_extension": ".py",
   "mimetype": "text/x-python",
   "name": "python",
   "nbconvert_exporter": "python",
   "pygments_lexer": "ipython3",
   "version": "3.5.1"
  }
 },
 "nbformat": 4,
 "nbformat_minor": 2
}
