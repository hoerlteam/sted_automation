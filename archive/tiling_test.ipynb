{
 "cells": [
  {
   "cell_type": "code",
   "execution_count": 115,
   "metadata": {},
   "outputs": [],
   "source": [
    "from itertools import repeat\n",
    "\n",
    "import numpy as np\n",
    "from matplotlib import pyplot as plt"
   ]
  },
  {
   "cell_type": "code",
   "execution_count": 29,
   "metadata": {},
   "outputs": [
    {
     "data": {
      "text/plain": [
       "array([-1.35, -0.45,  0.45,  1.35])"
      ]
     },
     "execution_count": 29,
     "metadata": {},
     "output_type": "execute_result"
    }
   ],
   "source": [
    "def centered_tiles_1d(center_position, length, n_tiles, overlap):\n",
    "\n",
    "    # integer steps\n",
    "    x = np.arange(np.ceil(-n_tiles / 2), np.ceil(n_tiles / 2))\n",
    "    # times distance considering overlap\n",
    "    x *= length * (1 - overlap)\n",
    "\n",
    "    # offset by half a tile of even number of tiles\n",
    "    if not (n_tiles % 2):\n",
    "        x += length * (1 - overlap) / 2\n",
    "\n",
    "    x += center_position\n",
    "    return x\n",
    "\n",
    "centered_tiles_1d(0, 1.0, 4, 0.1)"
   ]
  },
  {
   "cell_type": "code",
   "execution_count": 153,
   "metadata": {},
   "outputs": [
    {
     "data": {
      "text/plain": [
       "array([-1.6, -0.7,  0.2,  1.1])"
      ]
     },
     "execution_count": 153,
     "metadata": {},
     "output_type": "execute_result"
    }
   ],
   "source": [
    "def minmax_tiles_1d(min_position, max_position, length, overlap):\n",
    "\n",
    "    # center of range\n",
    "    center_position = (min_position + max_position) / 2\n",
    "\n",
    "    # necessary number of tiles\n",
    "    total_length = max_position - min_position\n",
    "    n_tiles = np.ceil(total_length / (length * (1 - overlap))) + 1\n",
    "\n",
    "    return centered_tiles_1d(center_position, length, n_tiles, overlap)\n",
    "\n",
    "minmax_tiles_1d(-1.5, 1, 1, 0.1)\n"
   ]
  },
  {
   "cell_type": "code",
   "execution_count": 147,
   "metadata": {},
   "outputs": [
    {
     "data": {
      "text/plain": [
       "array([[1, 5, 3],\n",
       "       [4, 2, 6]])"
      ]
     },
     "execution_count": 147,
     "metadata": {},
     "output_type": "execute_result"
    }
   ],
   "source": [
    "def alternate_axes(arr, alternate_along_axis, axes_to_alternate, offset=1):\n",
    "\n",
    "    # wrap single axis to alternate\n",
    "    if np.isscalar(axes_to_alternate):\n",
    "        axes_to_alternate = (axes_to_alternate, )\n",
    "\n",
    "    # copy arr as to not modify input\n",
    "    arr=arr.copy()\n",
    "\n",
    "    # select every second position along the axis to alternate on\n",
    "    selection = tuple(slice(offset,s,2) if i==alternate_along_axis else slice(s) for i,s in enumerate(arr.shape))\n",
    "\n",
    "    # perform inversion of the axes to alternate\n",
    "    # note the clumsy slice(s, -(s+1), -1) seems to be necessary to represent [::-1] indexing\n",
    "    alternation_selection = tuple(slice(s, -(s+1), -1) if i in axes_to_alternate else slice(s) for i,s in enumerate(arr[selection].shape))\n",
    "\n",
    "    # perform actual alternation\n",
    "    arr[selection] = arr[selection][alternation_selection]\n",
    "\n",
    "    return arr\n",
    "\n",
    "arr = np.array([[1,2,3], [4,5,6]])\n",
    "alternate_axes(arr, 1, 0)\n"
   ]
  },
  {
   "cell_type": "code",
   "execution_count": 146,
   "metadata": {},
   "outputs": [
    {
     "data": {
      "text/plain": [
       "array([[-0.9 , -0.45],\n",
       "       [-0.9 ,  0.45],\n",
       "       [ 0.  ,  0.45],\n",
       "       [ 0.  , -0.45],\n",
       "       [ 0.9 , -0.45],\n",
       "       [ 0.9 ,  0.45]])"
      ]
     },
     "execution_count": 146,
     "metadata": {},
     "output_type": "execute_result"
    }
   ],
   "source": [
    "def centered_tiles(center_position, length, n_tiles, overlap, snake_rows=True):\n",
    "\n",
    "    # repeat length, n_tiles, overlap if only scalar value is provided\n",
    "    if np.isscalar(length):\n",
    "        length = repeat(length)\n",
    "    if np.isscalar(n_tiles):\n",
    "        n_tiles = repeat(n_tiles)\n",
    "    if np.isscalar(overlap):\n",
    "        overlap = repeat(overlap)\n",
    "\n",
    "    grid = np.meshgrid(*(centered_tiles_1d(x, l, n, o) for x, l, n, o in zip(center_position, length, n_tiles, overlap)), indexing='ij')\n",
    "    grid = np.stack(grid, -1)\n",
    "\n",
    "    if snake_rows :\n",
    "        # alternate along rows\n",
    "        grid = alternate_axes(grid, 0, 1)\n",
    "\n",
    "    return grid.reshape((-1, len(center_position)))\n",
    "\n",
    "centered_tiles([0,0], 1, (3,2), 0.1, True)"
   ]
  },
  {
   "cell_type": "code",
   "execution_count": 155,
   "metadata": {},
   "outputs": [
    {
     "data": {
      "text/plain": [
       "array([[-1.35, -1.35],\n",
       "       [-1.35, -0.45],\n",
       "       [-1.35,  0.45],\n",
       "       [-1.35,  1.35],\n",
       "       [-0.45,  1.35],\n",
       "       [-0.45,  0.45],\n",
       "       [-0.45, -0.45],\n",
       "       [-0.45, -1.35],\n",
       "       [ 0.45, -1.35],\n",
       "       [ 0.45, -0.45],\n",
       "       [ 0.45,  0.45],\n",
       "       [ 0.45,  1.35],\n",
       "       [ 1.35,  1.35],\n",
       "       [ 1.35,  0.45],\n",
       "       [ 1.35, -0.45],\n",
       "       [ 1.35, -1.35]])"
      ]
     },
     "execution_count": 155,
     "metadata": {},
     "output_type": "execute_result"
    }
   ],
   "source": [
    "def minmax_tiles(min_position, max_position, length, overlap, snake_rows=True):\n",
    "\n",
    "    # repeat length, overlap if only scalar value is provided\n",
    "    if np.isscalar(length):\n",
    "        length = repeat(length)\n",
    "    if np.isscalar(overlap):\n",
    "        overlap = repeat(overlap)\n",
    "\n",
    "    grid = np.meshgrid(*(minmax_tiles_1d(mi, ma, l, o) for mi, ma, l, o in zip(min_position, max_position, length, overlap)), indexing='ij')\n",
    "    grid = np.stack(grid, -1)\n",
    "\n",
    "    if snake_rows :\n",
    "        # alternate along rows\n",
    "        grid = alternate_axes(grid, 0, 1)\n",
    "\n",
    "    return grid.reshape((-1, len(min_position)))\n",
    "\n",
    "minmax_tiles([-1,-1], [1, 1], 1, 0.1, True)"
   ]
  }
 ],
 "metadata": {
  "kernelspec": {
   "display_name": "Python 3.9.4 ('anaconda-py39')",
   "language": "python",
   "name": "python3"
  },
  "language_info": {
   "codemirror_mode": {
    "name": "ipython",
    "version": 3
   },
   "file_extension": ".py",
   "mimetype": "text/x-python",
   "name": "python",
   "nbconvert_exporter": "python",
   "pygments_lexer": "ipython3",
   "version": "3.9.4"
  },
  "orig_nbformat": 4,
  "vscode": {
   "interpreter": {
    "hash": "88b6ea773a423baafb5938928b63c05a5624c69f4ce9ceee5769142531e02ac0"
   }
  }
 },
 "nbformat": 4,
 "nbformat_minor": 2
}
