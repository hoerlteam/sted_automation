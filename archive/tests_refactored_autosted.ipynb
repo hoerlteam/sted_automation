{
 "cells": [
  {
   "cell_type": "markdown",
   "metadata": {},
   "source": [
    "# Various Tests\n",
    "\n",
    "This notebook collects test code that was part of the files in the autosted module"
   ]
  },
  {
   "cell_type": "markdown",
   "metadata": {},
   "source": [
    "## FilenameHandler"
   ]
  },
  {
   "cell_type": "code",
   "execution_count": null,
   "metadata": {},
   "outputs": [],
   "source": [
    "from autosted.pipeline import FilenameHandler\n",
    "\n",
    "FilenameHandler.random_prefix_length = 6\n",
    "file_handler = FilenameHandler(\n",
    "    \"/path/to/file\", [\"overview\", \"detail\"], min_index_padding_length=3\n",
    ")\n",
    "print(file_handler.get_path((2, 3), ending=\".h5\"))\n",
    "print(file_handler.get_path(ending=\".h5\"))\n",
    "\n",
    "file_handler = FilenameHandler(\n",
    "    \"/path/to/file\",\n",
    "    [\"pre-overview\", \"overview\", \"detail\"],\n",
    "    min_index_padding_length=3,\n",
    ")\n",
    "print(file_handler.get_path((2, 3, 4), ending=\".h5\", mask_levels=[\"pre-overview\"]))"
   ]
  },
  {
   "cell_type": "markdown",
   "metadata": {},
   "source": [
    "## data"
   ]
  },
  {
   "cell_type": "code",
   "execution_count": null,
   "metadata": {},
   "outputs": [],
   "source": [
    "from autosted.data import HDF5DataReader, _hdf5_group_path\n",
    "\n",
    "def _path_test():\n",
    "    pll = (\"ov\", \"det\", \"det2\")\n",
    "    idxes = (1, 2)\n",
    "    print(_hdf5_group_path(pll, idxes))\n",
    "\n",
    "\n",
    "def main():\n",
    "    path = \"C:/Users/david/Desktop/msr-test-files/6542d40dcd6ed1833ed868ac060f73a1.h5\"\n",
    "    r = HDF5DataReader(path)\n",
    "    print(r[(0, 22)].measurement_settings)\n",
    "\n",
    "_path_test()"
   ]
  },
  {
   "cell_type": "markdown",
   "metadata": {},
   "source": [
    "## Coordinate grouping"
   ]
  },
  {
   "cell_type": "code",
   "execution_count": null,
   "metadata": {},
   "outputs": [],
   "source": [
    "from autosted.utils.fov_util import group_in_bounding_boxes\n",
    "\n",
    "points = [[0, 0, 0], [0.5, 0.5, 0.5], [1, 1, 1.5]]\n",
    "size = [1, 1, 1]\n",
    "print(group_in_bounding_boxes(points, size))"
   ]
  },
  {
   "cell_type": "markdown",
   "metadata": {},
   "source": [
    "## Task Generation & broadcasting"
   ]
  },
  {
   "cell_type": "code",
   "execution_count": null,
   "metadata": {},
   "outputs": [],
   "source": [
    "from autosted.taskgeneration import AcquisitionTaskGenerator\n",
    "from autosted.taskgeneration.taskgeneration import broadcast_updates\n",
    "\n",
    "def main():\n",
    "\n",
    "    from autosted.callback_buildingblocks.regular_position_generators import (\n",
    "        SpiralOffsetGenerator,\n",
    "    )\n",
    "\n",
    "    spiralGen = SpiralOffsetGenerator().withStart([0, 0]).withFOV([5, 5]).withZOffset(1)\n",
    "    for _ in range(5):\n",
    "        print(spiralGen.get_locations())\n",
    "\n",
    "\n",
    "def ATGTest():\n",
    "    from unittest.mock import MagicMock\n",
    "    from autosted.callback_buildingblocks.coordinate_value_wrappers import (\n",
    "        ZDCOffsetSettingsGenerator,\n",
    "    )\n",
    "\n",
    "    locMock = MagicMock(return_value=[])\n",
    "    locMock.get_locations = MagicMock(return_value=[])\n",
    "    og = ZDCOffsetSettingsGenerator(locMock)\n",
    "\n",
    "    pipelineMock = MagicMock()\n",
    "    atg = AcquisitionTaskGenerator(0, og)\n",
    "    atg(pipelineMock)\n",
    "\n",
    "    print(locMock.get_locations())\n",
    "\n",
    "\n",
    "if __name__ == \"__main__\":\n",
    "    test_updates = [(\"u1\", \"u2\", \"u3\"), [\"v1\", \"v2\", \"v3\"]]\n",
    "    print(broadcast_updates(test_updates))\n",
    "\n",
    "    u1 = [\"coords1\", \"coords1-1\"]\n",
    "    u2 = [\"coords2\", \"coords2-1\"]\n",
    "    u3 = [\"coords3\", \"coords3-1\"]\n",
    "    v1 = [\n",
    "        \"settings1\",\n",
    "        \"settings2\",\n",
    "    ]\n",
    "    test_updates = ((u1, u2, u3), (v1,))\n",
    "\n",
    "    for meas_updates in broadcast_updates(test_updates):\n",
    "        print(broadcast_updates(meas_updates))"
   ]
  },
  {
   "cell_type": "markdown",
   "metadata": {},
   "source": [
    "## Spot Detection"
   ]
  },
  {
   "cell_type": "code",
   "execution_count": null,
   "metadata": {},
   "outputs": [],
   "source": [
    "if __name__ == \"__main__\":\n",
    "\n",
    "    import logging\n",
    "    import numpy as np\n",
    "    from autosted.callback_buildingblocks.coordinate_value_wrappers import ValuesToSettingsDictCallback\n",
    "    from autosted.detection.spot_detection import CoordinateDetectorWrapper\n",
    "    from autosted.utils.parameter_constants import (OFFSET_SCAN_PARAMETERS, PIXEL_SIZE_PARAMETERS, FOV_LENGTH_PARAMETERS)\n",
    "    from autosted.data import MeasurementData\n",
    "    from pprint import pprint\n",
    "\n",
    "    logging.basicConfig(level=logging.INFO)\n",
    "\n",
    "    img = np.zeros((1, 1, 201, 201), dtype=float)\n",
    "    img[0, 0, 100, 100] = 5\n",
    "    img[0, 0, 20, 50] = 5\n",
    "\n",
    "    img_ch2 = img.copy()\n",
    "\n",
    "    off = [0, 0, 0]\n",
    "    pixel_size = [0.1, 0.1, 0.1]\n",
    "    fov = np.array([0.1, 0.1, 0.1]) * 200\n",
    "    settings_call = ValuesToSettingsDictCallback(\n",
    "        lambda: ((off, pixel_size, fov),),\n",
    "        (OFFSET_SCAN_PARAMETERS, PIXEL_SIZE_PARAMETERS, FOV_LENGTH_PARAMETERS),\n",
    "    )\n",
    "    measurement_settings, hardware_settings = settings_call()[0][0]\n",
    "\n",
    "    data = MeasurementData()\n",
    "    data.append(hardware_settings, measurement_settings, [img, img_ch2])\n",
    "    data_call = lambda: data\n",
    "\n",
    "    def fun(img, *other_imgs, sigma=3):\n",
    "        from scipy.ndimage import gaussian_laplace\n",
    "        from skimage.feature import peak_local_max\n",
    "\n",
    "        for oi in other_imgs:\n",
    "            print(oi.shape)\n",
    "\n",
    "        return peak_local_max(\n",
    "            -gaussian_laplace(img.astype(float), sigma), threshold_abs=1e-6\n",
    "        )\n",
    "\n",
    "    detector = CoordinateDetectorWrapper(\n",
    "        fun, data_call, channels=(0, 1), detection_kwargs={\"sigma\": 3}\n",
    "    )\n",
    "    #\n",
    "    # detector = LegacySpotPairFinder(data_call, 1, [500, 0.1], plot_detections=True, return_parameter_dict=True)\n",
    "    detector.normalization_range = (0, 100)\n",
    "    # detector.plot_colors = ('cyan', 'magenta')\n",
    "\n",
    "    res = detector()\n",
    "    # res = ParameterValuesRepeater(SimpleManualOffset(detector, [13,13,13]), 2, nested=False)()\n",
    "    pprint(res)"
   ]
  },
  {
   "cell_type": "markdown",
   "metadata": {},
   "source": [
    "### Legacy spot detection"
   ]
  },
  {
   "cell_type": "code",
   "execution_count": null,
   "metadata": {},
   "outputs": [],
   "source": [
    "if __name__ == \"__main__\":\n",
    "\n",
    "    from autosted.data import MeasurementData\n",
    "    from pprint import pprint\n",
    "\n",
    "    logging.basicConfig(level=logging.INFO)\n",
    "\n",
    "    img = np.zeros((1, 1, 201, 201), dtype=float)\n",
    "    img[0, 0, 100, 100] = 5\n",
    "    img[0, 0, 20, 50] = 5\n",
    "\n",
    "    img_ch2 = img.copy()\n",
    "\n",
    "    off = [0, 0, 0]\n",
    "    pixel_size = [0.1, 0.1, 0.1]\n",
    "    fov = np.array([0.1, 0.1, 0.1]) * 200\n",
    "    settings_call = ValuesToSettingsDictCallback(\n",
    "        lambda: ((off, pixel_size, fov),),\n",
    "        (OFFSET_SCAN_PARAMETERS, PIXEL_SIZE_PARAMETERS, FOV_LENGTH_PARAMETERS),\n",
    "    )\n",
    "    measurement_settings, hardware_settings = settings_call()[0][0]\n",
    "\n",
    "    data = MeasurementData()\n",
    "    data.append(hardware_settings, measurement_settings, [img, img_ch2])\n",
    "    data_call = lambda: data\n",
    "\n",
    "    detector = SimpleSingleChannelSpotDetector(\n",
    "        data_call, 1, 0.1, plot_detections=True, return_parameter_dict=False\n",
    "    )\n",
    "    detector.invert_dimensions = (False, False, True)\n",
    "    #\n",
    "    # detector = LegacySpotPairFinder(data_call, 1, [500, 0.1], plot_detections=True, return_parameter_dict=True)\n",
    "    detector.normalization_range = (0, 100)\n",
    "    # detector.plot_colors = ('cyan', 'magenta')\n",
    "\n",
    "    res = detector()\n",
    "    # res = ParameterValuesRepeater(SimpleManualOffset(detector, [13,13,13]), 2, nested=False)()\n",
    "    pprint(res)\n"
   ]
  },
  {
   "cell_type": "markdown",
   "metadata": {},
   "source": [
    "## ROI detection"
   ]
  },
  {
   "cell_type": "code",
   "execution_count": null,
   "metadata": {},
   "outputs": [],
   "source": [
    "if __name__ == \"__main__\":\n",
    "\n",
    "    from pprint import pprint\n",
    "    from autosted.callback_buildingblocks.coordinate_value_wrappers import ValuesToSettingsDictCallback\n",
    "    import numpy as np\n",
    "    import logging\n",
    "    from skimage.measure import regionprops\n",
    "    from autosted.utils.parameter_constants import (OFFSET_SCAN_PARAMETERS, PIXEL_SIZE_PARAMETERS, FOV_LENGTH_PARAMETERS)\n",
    "    from autosted.detection.roi_detection import SegmentationWrapper, ROIDetectorWrapper\n",
    "    from autosted.data import MeasurementData\n",
    "\n",
    "    logging.basicConfig(level=logging.INFO)\n",
    "\n",
    "    img = np.zeros((1, 5, 201, 201), dtype=float)\n",
    "\n",
    "    img[0, 0, 100:111, 100:111] = 5\n",
    "    img[0, 0, 20:45, 50:85] = 10\n",
    "\n",
    "    off = [0, 0, 0]\n",
    "    pixel_size = [0.1, 0.1, 0.1]\n",
    "    fov = np.array([0.1, 0.1, 0.1]) * (201 - 1)\n",
    "\n",
    "    settings_call = ValuesToSettingsDictCallback(\n",
    "        lambda: ((off, pixel_size, fov),),\n",
    "        (OFFSET_SCAN_PARAMETERS, PIXEL_SIZE_PARAMETERS, FOV_LENGTH_PARAMETERS),\n",
    "    )\n",
    "    measurement_settings, hardware_settings = settings_call()[0][0]\n",
    "\n",
    "    data = MeasurementData()\n",
    "    data.append(hardware_settings, measurement_settings, [img])\n",
    "    data_call = lambda: data\n",
    "\n",
    "    def detection_fun(img, thresh=0):\n",
    "        from scipy.ndimage import label\n",
    "\n",
    "        return label(img > thresh)[0]\n",
    "\n",
    "    def detection_rois(img, thresh=0):\n",
    "        from scipy.ndimage import label\n",
    "\n",
    "        return [r.bbox for r in regionprops(label(img > thresh)[0])]\n",
    "\n",
    "    callback = SegmentationWrapper(\n",
    "        detection_fun,\n",
    "        data_call,\n",
    "        return_parameter_dict=True,\n",
    "        detection_kwargs={\"thresh\": 0.1},\n",
    "        regionprops_filters={\"area\": (24, 2000)},\n",
    "    )\n",
    "    callback = ROIDetectorWrapper(detection_rois, data_call, return_parameter_dict=True,\n",
    "                                   detection_kwargs={'thresh': 1})\n",
    "    callback.invert_dimensions = (False, True, True)\n",
    "    callback.plot_detections = True\n",
    "\n",
    "    res = callback()\n",
    "\n",
    "    pprint(res)"
   ]
  },
  {
   "cell_type": "markdown",
   "metadata": {},
   "source": [
    "### Legacy nucleus detection"
   ]
  },
  {
   "cell_type": "code",
   "execution_count": null,
   "metadata": {},
   "outputs": [],
   "source": [
    "if __name__ == \"__main__\":\n",
    "\n",
    "    from autosted.data import MeasurementData\n",
    "    from pprint import pprint\n",
    "    import logging\n",
    "    from autosted.callback_buildingblocks.coordinate_value_wrappers import (\n",
    "        ValuesToSettingsDictCallback,\n",
    "    )\n",
    "    from skimage.io import imread\n",
    "\n",
    "    img = imread(\"/Users/david/Downloads/dapi_nuclei.tif\")\n",
    "    img = img.reshape((1, 1, img.shape[0], img.shape[1]))\n",
    "\n",
    "    logging.basicConfig(level=logging.INFO)\n",
    "\n",
    "    off = [0, 0, 0]\n",
    "    pixel_size = [0.1, 0.1, 0.1]\n",
    "    fov = np.array([0.1, 0.1, 0.1]) * np.array(img.shape[1:])\n",
    "    settings_call = ValuesToSettingsDictCallback(\n",
    "        lambda: ((off, pixel_size, fov),),\n",
    "        (OFFSET_SCAN_PARAMETERS, PIXEL_SIZE_PARAMETERS, FOV_LENGTH_PARAMETERS),\n",
    "    )\n",
    "\n",
    "    measurement_settings, hardware_settings = settings_call()[0][0]\n",
    "\n",
    "    data = MeasurementData()\n",
    "    data.append(hardware_settings, measurement_settings, [img])\n",
    "    data_call = lambda: data\n",
    "\n",
    "    detector = SimpleNucleusMidplaneDetector(data_call, plot_detections=True)\n",
    "    detector = CellposeNucleusMidplaneDetector(\n",
    "        data_call, diameter=20, plot_detections=True, manual_offset=1\n",
    "    )\n",
    "    # res = detector()\n",
    "\n",
    "    from autosted.callback_buildingblocks.coordinate_value_wrappers import (\n",
    "        ScanFieldSettingsGenerator,\n",
    "    )\n",
    "\n",
    "    res = ScanFieldSettingsGenerator(detector, True)()\n",
    "    pprint(res)"
   ]
  },
  {
   "cell_type": "markdown",
   "metadata": {},
   "source": [
    "## Acceptance check"
   ]
  },
  {
   "cell_type": "code",
   "execution_count": null,
   "metadata": {},
   "outputs": [],
   "source": [
    "if __name__ == \"__main__\":\n",
    "\n",
    "    import numpy as np\n",
    "    from autosted.taskgeneration import AcquisitionTaskGenerator\n",
    "    from autosted.callback_buildingblocks.static_settings import (\n",
    "        ScanModeSettingsGenerator,\n",
    "    )\n",
    "    from autosted.data import MeasurementData\n",
    "    from autosted.detection.clasification_check import AcceptanceCheck\n",
    "\n",
    "    logging.basicConfig(level=logging.INFO)\n",
    "\n",
    "    data = MeasurementData()\n",
    "    data.append({}, {}, np.zeros((1, 1, 100, 100)))\n",
    "    data_call = lambda: data\n",
    "\n",
    "    gen = AcquisitionTaskGenerator(\n",
    "        \"test\",\n",
    "        ScanModeSettingsGenerator(\"xy\"),\n",
    "        AcceptanceCheck(lambda *x: True, data_call),\n",
    "    )\n",
    "    _, task = gen()\n",
    "    print(task[0].get_all_updates(True))"
   ]
  },
  {
   "cell_type": "markdown",
   "metadata": {},
   "source": [
    "## Coordinate Wrappers"
   ]
  },
  {
   "cell_type": "code",
   "execution_count": null,
   "metadata": {},
   "outputs": [],
   "source": [
    "from autosted.callback_buildingblocks.coordinate_value_wrappers import *\n",
    "\n",
    "if __name__ == \"__main__\":\n",
    "\n",
    "    # dummy callback returning list of 3D coordinates\n",
    "    positions = [[1, 2, 3], [4, 5, 6]]\n",
    "    position_callback = lambda: positions\n",
    "\n",
    "    # test ScanOffsetsSettingsGenerator / Stage... / ZDC...\n",
    "    gen = ZDCOffsetSettingsGenerator(position_callback, False)\n",
    "    res = gen()\n",
    "    pprint.pprint(res)\n",
    "\n",
    "    # dummy callback returning pairs of 3D coordinates\n",
    "    # -> can be interpreted as offset, size for ScanFieldSettingsGenerator\n",
    "    # or as pairs of offsets from MultipleScanOffsetsSettingsGenerator\n",
    "    coord_pairs = [((1, 2, 3), (1, 2, 3)), ((2, 3, 4), (5, 6, 7))]\n",
    "    coord_pairs_callback = lambda: coord_pairs\n",
    "\n",
    "    # test field/ROI settings generator\n",
    "    gen = ScanFieldSettingsGenerator(coord_pairs_callback, True)\n",
    "    res = gen()\n",
    "    pprint.pprint(res)\n",
    "\n",
    "    # test multiple offsets generator\n",
    "    gen = MultipleScanOffsetsSettingsGenerator(coord_pairs_callback, True)\n",
    "    res = gen()\n",
    "    pprint.pprint(res)\n"
   ]
  },
  {
   "cell_type": "markdown",
   "metadata": {},
   "source": [
    "## Regular position generators"
   ]
  },
  {
   "cell_type": "code",
   "execution_count": null,
   "metadata": {},
   "outputs": [],
   "source": [
    "from autosted.callback_buildingblocks.regular_position_generators import *\n",
    "\n",
    "def __test_main():\n",
    "\n",
    "    logging.basicConfig(level=logging.INFO)\n",
    "\n",
    "    positions = [[1, 2], [3, 4]]\n",
    "    generator = PositionListOffsetGenerator(positions, return_parameter_dict=True)\n",
    "    print(generator())\n",
    "\n",
    "    generator = SpiralOffsetGenerator([5, 5], [2, 0, 0], return_parameter_dict=True)\n",
    "    print(generator())\n",
    "    print(generator())\n",
    "\n",
    "\n",
    "if __name__ == \"__main__\":\n",
    "    __test_main()"
   ]
  },
  {
   "cell_type": "markdown",
   "metadata": {},
   "source": [
    "## Static settings generators"
   ]
  },
  {
   "cell_type": "code",
   "execution_count": null,
   "metadata": {},
   "outputs": [],
   "source": [
    "from autosted.callback_buildingblocks.static_settings import *\n",
    "\n",
    "if __name__ == \"__main__\":\n",
    "\n",
    "    generator = DifferentFirstFOVSettingsGenerator(\n",
    "        [None, None, None], first_lengths=[15e-6, None, None]\n",
    "    )\n",
    "    print(generator())\n",
    "    print(generator())\n",
    "\n",
    "    generator = PinholeSizeSettingsGenerator(25e-6)\n",
    "    print(generator())"
   ]
  },
  {
   "cell_type": "markdown",
   "metadata": {},
   "source": [
    "### Test LocationKeeper / Remover on existing data"
   ]
  },
  {
   "cell_type": "code",
   "execution_count": null,
   "metadata": {},
   "outputs": [],
   "source": [
    "a = [1,2,3]\n",
    "callable(a)\n",
    "\n",
    "from autosted.utils.tiling import centered_tiles, minmax_tiles\n",
    "from autosted.callback_buildingblocks.coordinate_value_wrappers import StageOffsetsSettingsGenerator\n",
    "from autosted.callback_buildingblocks.parameter_filtering import LocationRemover, LocationKeeper\n",
    "\n",
    "\n",
    "LocationKeeper(StageOffsetsSettingsGenerator(lambda: centered_tiles([0,0,0], 25, (1,2,2)), as_measurements=False))()\n",
    "\n",
    "# minmax_tiles([0, 0,-10,-10], [0, 0, 10, 10], 10)"
   ]
  },
  {
   "cell_type": "code",
   "execution_count": null,
   "metadata": {},
   "outputs": [],
   "source": [
    "from autosted.callback_buildingblocks.parameter_filtering import LocationKeeper, LocationRemover\n",
    "from h5py import File\n",
    "import json\n",
    "\n",
    "test_h5_file = '/Users/david/Downloads/data/agl_data/NanoFISH/Gabi/GS204_RNA-DNA-FISH_sequential_test/20240310_DNAFISH/raw/eaabc467594570449c5abdcf48df3ac7.h5'\n",
    "with File(test_h5_file) as fd:\n",
    "    hardware_meta = json.loads(fd['experiment/field0/0'].attrs['global_meta'])\n",
    "    measurement_meta = json.loads(fd['experiment/field0/0'].attrs['measurement_meta'])\n",
    "\n",
    "callback = lambda : [[(measurement_meta, hardware_meta)]]\n",
    "callback = lambda : [[(measurement_meta, None)]]\n",
    "\n",
    "LocationKeeper(callback)()"
   ]
  },
  {
   "cell_type": "code",
   "execution_count": null,
   "metadata": {},
   "outputs": [],
   "source": [
    "from autosted.data import HDF5DataReader\n",
    "from autosted.callback_buildingblocks.data_selection import NewestSettingsSelector\n",
    "from unittest.mock import Mock\n",
    "\n",
    "data = HDF5DataReader(test_h5_file)\n",
    "\n",
    "pipeline = Mock()\n",
    "pipeline.data = data\n",
    "pipeline.hierarchy_levels = ['field', 'sted']\n"
   ]
  },
  {
   "cell_type": "code",
   "execution_count": null,
   "metadata": {},
   "outputs": [],
   "source": [
    "from pprint import pprint\n",
    "\n",
    "res = LocationRemover(NewestSettingsSelector(pipeline, 'sted'))()\n",
    "pprint(res[0][0][0])"
   ]
  },
  {
   "cell_type": "markdown",
   "metadata": {},
   "source": [
    "### Data reading from H5"
   ]
  },
  {
   "cell_type": "code",
   "execution_count": null,
   "metadata": {},
   "outputs": [],
   "source": [
    "import re\n",
    "\n",
    "pipeline_levels = [\"field\", \"sted\", \"abc\"]\n",
    "\n",
    "# p_old = re.compile('(\\\\d+)(?:_){,1}'.join(map(lambda l : '(?:{}){{,1}}'.format(l), pipeline_levels)) + '(\\\\d+)')\n",
    "\n",
    "# idx_pattern = re.compile('(\\\\d+)_{,1}'.join(f'(?:{l}_){{,1}}' for l in pipeline_levels) + '(\\\\d+)')\n",
    "\n",
    "p_old = \"(?:_)?\".join(f\"(?:{level}(\\\\d+))?\" for level in pipeline_levels)\n",
    "p_old = re.compile(p_old)\n",
    "idx_pattern = \"(?:_)?\".join(f\"(?:{level}_?(\\\\d+))?\" for level in pipeline_levels)\n",
    "idx_pattern = re.compile(idx_pattern)\n",
    "\n",
    "s1 = \"field200\"\n",
    "s2 = \"field_20001_sted_121\"\n",
    "idx_pattern.match(s1).groups()\n",
    "\n",
    "# idx_pattern\n",
    "\n",
    "# if not ((x:=p_old.match(s2)) or (x:=idx_pattern.match(s2))): pass\n",
    "# x.groups()\n",
    "\n",
    "# any(None)"
   ]
  },
  {
   "cell_type": "code",
   "execution_count": null,
   "metadata": {},
   "outputs": [],
   "source": [
    "from autosted.data import _hdf5_group_path, HDF5DataReader\n",
    "\n",
    "_hdf5_group_path([\"overview\", \"detail\"], (1,3,5), \"experiment\", \"_\", \"_\")\n",
    "\n",
    "reader = HDF5DataReader('/Users/david/Desktop/scratch_data/K562_DeadAB_60Oligos/K562_WT/raw/556fcbf64dec2b9ea66309ef3a547006.h5')\n",
    "reader[(0,)].data"
   ]
  },
  {
   "cell_type": "code",
   "execution_count": null,
   "metadata": {},
   "outputs": [],
   "source": [
    "from matplotlib import pyplot as plt\n",
    "plt.imshow(reader[(0,)].data[0][0].squeeze().max(0))"
   ]
  },
  {
   "cell_type": "markdown",
   "metadata": {},
   "source": [
    "### Value Combinations generator"
   ]
  },
  {
   "cell_type": "code",
   "execution_count": null,
   "metadata": {},
   "outputs": [],
   "source": [
    "from autosted.callback_buildingblocks import ValueCombinationsGenerator\n",
    "\n",
    "if __name__ == \"__main__\":\n",
    "\n",
    "    from autosted.callback_buildingblocks import ValuesToSettingsDictCallback\n",
    "    from pprint import pprint\n",
    "\n",
    "    gen = ValueCombinationsGenerator([[1,2,3], 'ab'], 2, True)\n",
    "    call = ValuesToSettingsDictCallback(gen, (\"path/to/1\", \"path/to/2\"))\n",
    "\n",
    "    for _ in range(5):\n",
    "        pprint(call())"
   ]
  }
 ],
 "metadata": {
  "kernelspec": {
   "display_name": "env-py312",
   "language": "python",
   "name": "python3"
  },
  "language_info": {
   "codemirror_mode": {
    "name": "ipython",
    "version": 3
   },
   "file_extension": ".py",
   "mimetype": "text/x-python",
   "name": "python",
   "nbconvert_exporter": "python",
   "pygments_lexer": "ipython3",
   "version": "3.12.7"
  }
 },
 "nbformat": 4,
 "nbformat_minor": 2
}
