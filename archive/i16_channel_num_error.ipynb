{
 "cells": [
  {
   "cell_type": "code",
   "execution_count": 2,
   "metadata": {},
   "outputs": [
    {
     "name": "stdout",
     "output_type": "stream",
     "text": [
      "16.3.10599-1948 1.2.1\n"
     ]
    }
   ],
   "source": [
    "import specpy as sp\n",
    "\n",
    "i = sp.Imspector()\n",
    "print(i.version(), sp.__version__)\n",
    "\n",
    "# 1) MANUALLY create new measurement\n",
    "# 2) add a channel in Imspector UI\n",
    "\n",
    "# 3) save parameters\n",
    "ms = i.active_measurement()\n",
    "params = ms.parameters('')"
   ]
  },
  {
   "cell_type": "code",
   "execution_count": 3,
   "metadata": {},
   "outputs": [
    {
     "ename": "RuntimeError",
     "evalue": "Internal error: Invalid argument for device 'ExpControl'\nInvalid argument for parameter 'measurement'\nInvalid argument for parameter 'channels': Parameter has array type..",
     "output_type": "error",
     "traceback": [
      "\u001b[1;31m---------------------------------------------------------------------------\u001b[0m",
      "\u001b[1;31mRuntimeError\u001b[0m                              Traceback (most recent call last)",
      "\u001b[1;32m<ipython-input-3-955b28cc61dd>\u001b[0m in \u001b[0;36m<module>\u001b[1;34m()\u001b[0m\n\u001b[0;32m      3\u001b[0m \u001b[1;31m# 5) try to set parameters -> error\u001b[0m\u001b[1;33m\u001b[0m\u001b[1;33m\u001b[0m\u001b[0m\n\u001b[0;32m      4\u001b[0m \u001b[0mms\u001b[0m \u001b[1;33m=\u001b[0m \u001b[0mi\u001b[0m\u001b[1;33m.\u001b[0m\u001b[0mactive_measurement\u001b[0m\u001b[1;33m(\u001b[0m\u001b[1;33m)\u001b[0m\u001b[1;33m\u001b[0m\u001b[0m\n\u001b[1;32m----> 5\u001b[1;33m \u001b[0mms\u001b[0m\u001b[1;33m.\u001b[0m\u001b[0mset_parameters\u001b[0m\u001b[1;33m(\u001b[0m\u001b[1;34m''\u001b[0m\u001b[1;33m,\u001b[0m \u001b[0mparams\u001b[0m\u001b[1;33m)\u001b[0m\u001b[1;33m\u001b[0m\u001b[0m\n\u001b[0m",
      "\u001b[1;31mRuntimeError\u001b[0m: Internal error: Invalid argument for device 'ExpControl'\nInvalid argument for parameter 'measurement'\nInvalid argument for parameter 'channels': Parameter has array type.."
     ]
    }
   ],
   "source": [
    "# 4) MANUALLY create new measurement (only one channel!)\n",
    "\n",
    "# 5) try to set parameters -> error\n",
    "ms = i.active_measurement()\n",
    "ms.set_parameters('', params)"
   ]
  }
 ],
 "metadata": {
  "kernelspec": {
   "display_name": "Python 3",
   "language": "python",
   "name": "python3"
  },
  "language_info": {
   "codemirror_mode": {
    "name": "ipython",
    "version": 3
   },
   "file_extension": ".py",
   "mimetype": "text/x-python",
   "name": "python",
   "nbconvert_exporter": "python",
   "pygments_lexer": "ipython3",
   "version": "3.5.1"
  }
 },
 "nbformat": 4,
 "nbformat_minor": 2
}
