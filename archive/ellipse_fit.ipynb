{
 "cells": [
  {
   "cell_type": "code",
   "execution_count": 209,
   "metadata": {
    "collapsed": false
   },
   "outputs": [],
   "source": [
    "import numpy as np\n",
    "from matplotlib import pyplot as plt\n",
    "from matplotlib.patches import Ellipse\n",
    "import os, sys\n",
    "import PIL\n",
    "from scipy import ndimage\n",
    "from scipy.optimize import curve_fit, minimize, fmin_powell\n",
    "\n",
    "\n",
    "%matplotlib inline"
   ]
  },
  {
   "cell_type": "code",
   "execution_count": 212,
   "metadata": {
    "collapsed": false
   },
   "outputs": [],
   "source": [
    "def in_ellipse(xs_, params):\n",
    "    xs = xs_[:,0]\n",
    "    ys = xs_[:,1]\n",
    "    xs_s = xs - params[0]\n",
    "    ys_s = ys - params[1]\n",
    "    a = (np.cos(params[4]) * xs_s + np.sin(params[4]) * ys_s)**2 / params[2]**2\n",
    "    b = (np.sin(params[4]) * xs_s - np.cos(params[4]) * ys_s)**2 / params[3]**2\n",
    "    return (a + b <= 1) * 1\n",
    "\n",
    "def fit_ellipse(img):\n",
    "    img = (img > 0) * 1\n",
    "    print(img.max())\n",
    "    xsiz, ysiz = img.shape\n",
    "    params = [xsiz/2, ysiz/2, xsiz, ysiz, 0]\n",
    "    xs = np.dstack(np.meshgrid(range(xsiz), range(ysiz), indexing='ij')).reshape((-1,2))\n",
    "    print(xs)\n",
    "    return minimize(lambda x : np.sum((img.ravel() - in_ellipse(xs, x))**2), params, method='Powell')\n",
    "    "
   ]
  },
  {
   "cell_type": "code",
   "execution_count": 214,
   "metadata": {
    "collapsed": false
   },
   "outputs": [
    {
     "data": {
      "image/png": "[encoded data removed]",
      "text/plain": [
       "<matplotlib.figure.Figure at 0x11b7abe80>"
      ]
     },
     "metadata": {},
     "output_type": "display_data"
    },
    {
     "name": "stdout",
     "output_type": "stream",
     "text": [
      "1\n",
      "[[  0   0]\n",
      " [  0   1]\n",
      " [  0   2]\n",
      " ..., \n",
      " [ 49 132]\n",
      " [ 49 133]\n",
      " [ 49 134]]\n",
      "   direc: array([[ 1.219371  , -0.37043654, -5.43550974, -3.08722901, -0.13839018],\n",
      "       [ 0.        ,  1.        ,  0.        ,  0.        ,  0.        ],\n",
      "       [-0.39490747, -0.39490747, -0.39490747, -0.39490747, -0.12881618],\n",
      "       [ 0.        ,  0.        ,  0.        ,  1.        ,  0.        ],\n",
      "       [-0.21070003, -0.05813825, -1.02973892, -0.26050807, -0.02233201]])\n",
      "     fun: 824\n",
      " message: 'Optimization terminated successfully.'\n",
      "    nfev: 1533\n",
      "     nit: 13\n",
      "  status: 0\n",
      " success: True\n",
      "       x: array([  24.25434025,   67.83322755,   30.98533929,  132.60856208,\n",
      "          0.28212331])\n",
      "1\n",
      "[[  0   0]\n",
      " [  0   1]\n",
      " [  0   2]\n",
      " ..., \n",
      " [ 49 132]\n",
      " [ 49 133]\n",
      " [ 49 134]]\n",
      "1\n",
      "[[  0   0]\n",
      " [  0   1]\n",
      " [  0   2]\n",
      " ..., \n",
      " [195  69]\n",
      " [195  70]\n",
      " [195  71]]\n",
      "   direc: array([[  1.00000000e+00,   0.00000000e+00,   0.00000000e+00,\n",
      "          0.00000000e+00,   0.00000000e+00],\n",
      "       [  0.00000000e+00,   1.00000000e+00,   0.00000000e+00,\n",
      "          0.00000000e+00,   0.00000000e+00],\n",
      "       [  6.44456813e-03,   6.44456813e-03,   6.44456813e-03,\n",
      "          6.44456813e-03,   1.91148215e-03],\n",
      "       [  0.00000000e+00,   0.00000000e+00,   0.00000000e+00,\n",
      "          1.00000000e+00,   0.00000000e+00],\n",
      "       [ -2.50009759e-02,  -3.07280847e-03,   3.71207362e+00,\n",
      "         -4.23554608e-02,  -6.06190945e-04]])\n",
      "     fun: 2088\n",
      " message: 'Optimization terminated successfully.'\n",
      "    nfev: 503\n",
      "     nit: 5\n",
      "  status: 0\n",
      " success: True\n",
      "       x: array([ 100.41464003,   38.47190655,  304.09345213,   71.27618619,\n",
      "          0.75138907])\n",
      "1\n",
      "[[  0   0]\n",
      " [  0   1]\n",
      " [  0   2]\n",
      " ..., \n",
      " [195  69]\n",
      " [195  70]\n",
      " [195  71]]\n",
      "1\n",
      "[[ 0  0]\n",
      " [ 0  1]\n",
      " [ 0  2]\n",
      " ..., \n",
      " [58 50]\n",
      " [58 51]\n",
      " [58 52]]\n",
      "   direc: array([[ 1.,  0.,  0.,  0.,  0.],\n",
      "       [ 0.,  1.,  0.,  0.,  0.],\n",
      "       [ 0.,  0.,  1.,  0.,  0.],\n",
      "       [ 0.,  0.,  0.,  1.,  0.],\n",
      "       [ 0.,  0.,  0.,  0.,  1.]])\n",
      "     fun: 672\n",
      " message: 'Optimization terminated successfully.'\n",
      "    nfev: 61\n",
      "     nit: 1\n",
      "  status: 0\n",
      " success: True\n",
      "       x: array([ 32.08792896,  29.08792896,  61.58792896,  55.58792896,   2.58792896])\n",
      "1\n",
      "[[ 0  0]\n",
      " [ 0  1]\n",
      " [ 0  2]\n",
      " ..., \n",
      " [58 50]\n",
      " [58 51]\n",
      " [58 52]]\n"
     ]
    },
    {
     "data": {
      "image/png": "[encoded data removed]",
      "text/plain": [
       "<matplotlib.figure.Figure at 0x11aa45f28>"
      ]
     },
     "metadata": {},
     "output_type": "display_data"
    }
   ],
   "source": [
    "xsiz = 100\n",
    "ysiz = 100\n",
    "\n",
    "xc = 10\n",
    "yc = 50\n",
    "a = 10\n",
    "b = 20\n",
    "rot = np.pi/4\n",
    "\n",
    "xs = np.dstack(np.meshgrid(range(xsiz), range(ysiz), indexing='ij')).reshape((-1,2))\n",
    "\n",
    "res = in_ellipse(xs, [xc, yc, a, b, rot]).reshape(100,100)\n",
    "\n",
    "\n",
    "\n",
    "fig = plt.figure()\n",
    "ax = fig.add_subplot(1,1,1)\n",
    "\n",
    "plt.imshow(res)\n",
    "\n",
    "\n",
    "ax.add_patch(Ellipse([yc, xc], a*2, b*2, 45, fill=False, color='white'))\n",
    "\n",
    "plt.show()\n",
    "os.getcwd()\n",
    "\n",
    "\n",
    "pimg = PIL.Image.open('/Users/david/Desktop/ell.tif')\n",
    "img = np.array(pimg.getdata(), np.uint8).reshape((400, 400))\n",
    "\n",
    "fig = plt.figure()\n",
    "ax = fig.add_subplot(1,1,1)\n",
    "\n",
    "img2 = ndimage.label(img)[0]\n",
    "plt.imshow(img2)\n",
    "objs = ndimage.measurements.find_objects(img2)\n",
    "\n",
    "for o in objs:\n",
    "    imgtofit = img2[o]\n",
    "    print(fit_ellipse(np.array(imgtofit, np.float)))\n",
    "    params = fit_ellipse(np.array(imgtofit, np.float)).x\n",
    "    x1 = params[1] + o[1].start\n",
    "    y1 = params[0] + o[0].start\n",
    "    ax.add_patch(Ellipse([y1, x1], params[3], params[2], params[4] / np.pi * 180, fill=False, color='white'))"
   ]
  },
  {
   "cell_type": "code",
   "execution_count": null,
   "metadata": {
    "collapsed": true
   },
   "outputs": [],
   "source": []
  },
  {
   "cell_type": "code",
   "execution_count": 130,
   "metadata": {
    "collapsed": false
   },
   "outputs": [
    {
     "data": {
      "text/plain": [
       "array([ 0,  0,  0, ..., 99, 99, 99])"
      ]
     },
     "execution_count": 130,
     "metadata": {},
     "output_type": "execute_result"
    }
   ],
   "source": [
    "np.dstack(np.meshgrid(range(xsiz), range(ysiz), indexing='ij')).reshape((-1,2))[:,0]"
   ]
  }
 ],
 "metadata": {
  "kernelspec": {
   "display_name": "Python 3",
   "language": "python",
   "name": "python3"
  },
  "language_info": {
   "codemirror_mode": {
    "name": "ipython",
    "version": 3
   },
   "file_extension": ".py",
   "mimetype": "text/x-python",
   "name": "python",
   "nbconvert_exporter": "python",
   "pygments_lexer": "ipython3",
   "version": "3.5.1"
  }
 },
 "nbformat": 4,
 "nbformat_minor": 0
}
