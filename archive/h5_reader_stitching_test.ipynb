{
 "cells": [
  {
   "cell_type": "code",
   "execution_count": 1,
   "id": "initial_id",
   "metadata": {
    "collapsed": true
   },
   "outputs": [],
   "source": [
    "import numpy as np\n",
    "from matplotlib import pyplot as plt\n",
    "\n",
    "from calmutils.stitching.fusion import fuse_image_blockwise\n",
    "from calmutils.stitching.stitching import stitch\n",
    "from calmutils.misc.json import recursive_dict_query\n",
    "from autosted.data import HDF5DataReader\n",
    "from autosted.utils.parameter_constants import OFFSET_STAGE_GLOBAL_PARAMETERS, PIXEL_SIZE_PARAMETERS"
   ]
  },
  {
   "cell_type": "code",
   "execution_count": 2,
   "id": "d32961f30b5db57c",
   "metadata": {},
   "outputs": [],
   "source": [
    "h5file = '/Volumes/cooperation_data/ArgyrisPapantonis-nuclear_architecture/David_Hoerl/auto_sir_comp_analysis_workspace/raw_data_compressed_h5/20210326_IMR90_young_untr/rep4/b40a6115aae453d1abdc6b90a18b56dc.h5'\n",
    "\n",
    "reader = HDF5DataReader(h5file)"
   ]
  },
  {
   "cell_type": "code",
   "execution_count": null,
   "id": "120d27e74d8304cd",
   "metadata": {},
   "outputs": [],
   "source": [
    "# pick images to fuse\n",
    "# NOTE: should have the same pixel size, do not mix overview-detail\n",
    "# idxs_to_fuse = [(i,) for i in range(9)]\n",
    "idxs_to_fuse = [i for i in reader.keys() if len(i) == 1]\n",
    "\n",
    "imgs_to_fuse = []\n",
    "translation_vectors = []\n",
    "first_translation_vec = None\n",
    "\n",
    "for idx in idxs_to_fuse:\n",
    "    \n",
    "    # get image data, drop empty time dimension\n",
    "    img = reader[idx].data[0][0].squeeze()\n",
    "    imgs_to_fuse.append(img.astype(float))\n",
    "    \n",
    "    # get stage position, make translation matrix\n",
    "    settings = reader[idx].measurement_settings[0]\n",
    "    stage_coords = [recursive_dict_query(settings, key) for key in OFFSET_STAGE_GLOBAL_PARAMETERS]\n",
    "    pixel_sizes = [recursive_dict_query(settings, key) for key in PIXEL_SIZE_PARAMETERS]\n",
    "    # NOTE: we flip z position, so stage agrees with image coordinates\n",
    "    translation_vec = np.array([-1, 1, 1]) * np.array(stage_coords) / np.array(pixel_sizes)\n",
    "    if first_translation_vec is None:\n",
    "        first_translation_vec = translation_vec\n",
    "    translation_vectors.append(translation_vec - first_translation_vec)\n",
    "    \n",
    "transforms = stitch(imgs_to_fuse, translation_vectors, corr_thresh=0.75)\n",
    "\n",
    "# run fusion and show\n",
    "img_fused = fuse_image_blockwise(imgs_to_fuse, transforms, block_size=[25, 1500, 1500], interpolation_mode='linear')\n",
    "plt.imshow(img_fused.max(axis=0), cmap='magma')"
   ]
  },
  {
   "cell_type": "code",
   "execution_count": null,
   "id": "7f0b1399ba078b04",
   "metadata": {},
   "outputs": [],
   "source": [
    "# pick center of images to fuse\n",
    "only_earlier_idxs = True\n",
    "center_idx = (40,)\n",
    "idxs_to_fuse = []\n",
    "\n",
    "# get stage position of center tile\n",
    "settings = reader[center_idx].measurement_settings[0]\n",
    "stage_coords_center = [recursive_dict_query(settings, key) for key in OFFSET_STAGE_GLOBAL_PARAMETERS]\n",
    "\n",
    "# collect tiles within range of center\n",
    "for idx in reader.keys():\n",
    "    \n",
    "    if len(idx) != 1:\n",
    "        continue\n",
    "    \n",
    "    # get stage position\n",
    "    settings = reader[idx].measurement_settings[0]\n",
    "    stage_coords = [recursive_dict_query(settings, key) for key in OFFSET_STAGE_GLOBAL_PARAMETERS]\n",
    "    \n",
    "    if (np.linalg.norm(np.array(stage_coords_center) - np.array(stage_coords)) < 75e-6\n",
    "        and (not only_earlier_idxs or idx[0] <= center_idx[0])):\n",
    "        idxs_to_fuse.append(idx)\n",
    "    \n",
    "print('stitching indices:', idxs_to_fuse)\n",
    "\n",
    "imgs_to_fuse = []\n",
    "translation_vectors = []\n",
    "\n",
    "for idx in idxs_to_fuse:\n",
    "    \n",
    "    # get image data, drop empty time dimension\n",
    "    img = reader[idx].data[0][0].squeeze()\n",
    "    imgs_to_fuse.append(img)\n",
    "    \n",
    "    # get stage position, make translation matrix\n",
    "    settings = reader[idx].measurement_settings[0]\n",
    "    stage_coords = [recursive_dict_query(settings, key) for key in OFFSET_STAGE_GLOBAL_PARAMETERS]\n",
    "    pixel_sizes = [recursive_dict_query(settings, key) for key in PIXEL_SIZE_PARAMETERS]\n",
    "    # NOTE: we flip z position, so stage agrees with image coordinates\n",
    "    tr = np.array([-1, 1, 1]) * np.array(stage_coords) / np.array(pixel_sizes)\n",
    "    translation_vectors.append(tr)\n",
    "    \n",
    "transforms = stitch(imgs_to_fuse, translation_vectors, subpixel=True, corr_thresh=0.75, reference_idx=0)\n",
    "\n",
    "# run fusion and show\n",
    "img_fused = fuse_image_blockwise(imgs_to_fuse, transforms, block_size=[25, 1500, 1500])\n",
    "plt.imshow(img_fused.max(axis=0), cmap='magma')"
   ]
  },
  {
   "cell_type": "code",
   "execution_count": 4,
   "id": "8e639e8b8c7ad3be",
   "metadata": {},
   "outputs": [],
   "source": [
    "import napari\n",
    "\n",
    "if napari.current_viewer() is not None:\n",
    "    napari.current_viewer().close()\n",
    "    \n",
    "viewer = napari.view_image(img_fused, scale=(3,1,1))"
   ]
  },
  {
   "cell_type": "code",
   "execution_count": null,
   "id": "c8c9c8a8208d7a0",
   "metadata": {},
   "outputs": [],
   "source": [
    "from calmutils.imageio.tiff_imagej import save_tiff_imagej\n",
    "\n",
    "save_tiff_imagej('/Users/david/Desktop/test.tif', img_fused.astype(np.uint16), axes='zyx')"
   ]
  }
 ],
 "metadata": {
  "kernelspec": {
   "display_name": "env-py312",
   "language": "python",
   "name": "python3"
  },
  "language_info": {
   "codemirror_mode": {
    "name": "ipython",
    "version": 3
   },
   "file_extension": ".py",
   "mimetype": "text/x-python",
   "name": "python",
   "nbconvert_exporter": "python",
   "pygments_lexer": "ipython3",
   "version": "3.12.7"
  }
 },
 "nbformat": 4,
 "nbformat_minor": 5
}
