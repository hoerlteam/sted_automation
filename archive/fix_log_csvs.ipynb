{
 "cells": [
  {
   "cell_type": "code",
   "execution_count": 14,
   "metadata": {
    "collapsed": false
   },
   "outputs": [],
   "source": [
    "from csv import DictReader, DictWriter\n",
    "from sys import stdout\n",
    "\n",
    "def fix_csv(filename, outfilename=None, global_coords = None):\n",
    "    \n",
    "    if outfilename is None:\n",
    "        outfilename = filename\n",
    "    \n",
    "    fieldnames = None\n",
    "    rows = list()\n",
    "    \n",
    "    with open(filename, 'r') as fd:\n",
    "        dr = DictReader(fd)\n",
    "        fieldnames = dr.fieldnames\n",
    "        for r in dr:\n",
    "            rows.append(r)\n",
    "            \n",
    "    if not global_coords is None:\n",
    "        for r in rows:\n",
    "            r['stg_x'] = float(r['stg_x']) + global_coords[0]\n",
    "            r['stg_y'] = float(r['stg_y']) + global_coords[1]\n",
    "            r['stg_z'] = float(r['stg_z']) + global_coords[2]\n",
    "            \n",
    "    with open(outfilename, 'w') as fd:\n",
    "        dw = DictWriter(fd, fieldnames, lineterminator='\\n')\n",
    "        dw.writeheader()\n",
    "        dw.writerows(rows)\n",
    "    \n"
   ]
  },
  {
   "cell_type": "code",
   "execution_count": null,
   "metadata": {
    "collapsed": true
   },
   "outputs": [],
   "source": [
    "fix_csv('/Users/RESOLFT/Desktop/AUTOMATION/6th_shipment_20161219/mixed_HS1345_HS2_B/GM_180sec_B/log.csv', global_coords=[11649.3e-6, -5182.4e-6, 1894.1e-6])"
   ]
  }
 ],
 "metadata": {
  "kernelspec": {
   "display_name": "Python 3",
   "language": "python",
   "name": "python3"
  },
  "language_info": {
   "codemirror_mode": {
    "name": "ipython",
    "version": 3
   },
   "file_extension": ".py",
   "mimetype": "text/x-python",
   "name": "python",
   "nbconvert_exporter": "python",
   "pygments_lexer": "ipython3",
   "version": "3.5.1"
  }
 },
 "nbformat": 4,
 "nbformat_minor": 0
}
