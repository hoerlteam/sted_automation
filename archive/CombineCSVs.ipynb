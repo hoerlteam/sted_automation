{
 "cells": [
  {
   "cell_type": "code",
   "execution_count": null,
   "metadata": {
    "collapsed": true
   },
   "outputs": [],
   "source": [
    "import re\n",
    "import os\n",
    "import pandas as pd\n",
    "import numpy as np"
   ]
  },
  {
   "cell_type": "markdown",
   "metadata": {},
   "source": [
    "# combination of csvs with metadata in filename\n",
    "\n",
    "the following patterns may be used:\n",
    "\n",
    "* \\_cell(.*?)_ -> celltype\n",
    "* \\_temp(.*?)_ -> temperature\n",
    "* \\_time(.*?)_ -> hybridization time\n",
    "* \\_sted(.*?)_ -> sted laser power\n",
    "* \\_shipment(.*?)_ -> shipment name\n",
    "* \\_slide(.*?)_ -> slide id : use (shipment nr)-(slide nr)\n",
    "* \\_target(.*?)_ -> targeted loci"
   ]
  },
  {
   "cell_type": "code",
   "execution_count": null,
   "metadata": {
    "collapsed": false
   },
   "outputs": [],
   "source": [
    "dr = '/Users/david/Desktop/VisitFebMar2017/'\n",
    "csvs = [f for f in next(os.walk(dr))[2] if f.endswith('.csv') and not 'COMBINED' in f]\n",
    "\n",
    "\n",
    "recell = re.compile('.*?_cell(.*?)_.*?')\n",
    "retemp = re.compile('.*?_temp(.*?)_.*?')\n",
    "retime = re.compile('.*?_time(.*?)_.*?')\n",
    "rested = re.compile('.*?_sted(.*?)_.*?')\n",
    "reshipment = re.compile('.*?_shipment(.*?)_.*?')\n",
    "reslide = re.compile('.*?_slide(.*?)_.*?')\n",
    "retarget = re.compile('.*?_target(.*?)_.*?')\n",
    "\n",
    "\n",
    "res = pd.DataFrame()\n",
    "\n",
    "\n",
    "for csv in csvs:\n",
    "    \n",
    "    tmp = pd.read_csv(os.path.join(dr, csv))\n",
    "    \n",
    "    cell = np.nan if recell.match(csv) == None else recell.match(csv).groups()[0]\n",
    "    temp = np.nan if retemp.match(csv) == None else retemp.match(csv).groups()[0]\n",
    "    time = np.nan if retime.match(csv) == None else retime.match(csv).groups()[0]\n",
    "    sted = np.nan if rested.match(csv) == None else rested.match(csv).groups()[0]\n",
    "    shipment = np.nan if reshipment.match(csv) == None else reshipment.match(csv).groups()[0]\n",
    "    slide = np.nan if reslide.match(csv) == None else reslide.match(csv).groups()[0]\n",
    "    target = np.nan if retarget.match(csv) == None else retarget.match(csv).groups()[0]\n",
    "    \n",
    "    tmp['cell'] = cell\n",
    "    tmp['temp'] = temp\n",
    "    tmp['time'] = time\n",
    "    tmp['sted'] = sted\n",
    "    tmp['shipment'] = shipment\n",
    "    tmp['slide'] = slide\n",
    "    tmp['target'] = target\n",
    "        \n",
    "    res = res.append(tmp, ignore_index=True)\n",
    "    \n",
    "res['len'] = np.sqrt((res.d01 - res.d02)**2 + (res.d11 - res.d12)**2 + (res.d21 - res.d22)**2)\n",
    "res['len2d'] = np.sqrt((res.d01 - res.d02)**2 + (res.d11 - res.d12)**2 )\n",
    "res.to_csv(os.path.join(dr, 'result_COMBINED.csv'), index=False)\n",
    "    "
   ]
  },
  {
   "cell_type": "markdown",
   "metadata": {},
   "source": [
    "# old code"
   ]
  },
  {
   "cell_type": "code",
   "execution_count": null,
   "metadata": {
    "collapsed": false
   },
   "outputs": [],
   "source": [
    "### for single samples\n",
    "\n",
    "dr = '/Users/david/Desktop/AA_4th_shipment/'\n",
    "csvs = [f for f in next(os.walk(dr))[2] if f.endswith('.csv')]\n",
    "print(csvs)\n",
    "\n",
    "p = re.compile('(.*?)_(.*?C)_(.*?s)\\.csv')\n",
    "\n",
    "with open(os.path.join(dr, 'out.csv'), 'w') as outfd:\n",
    "    \n",
    "    with open(os.path.join(dr, csvs[0]), 'r') as fstfd:\n",
    "        outfd.write(fstfd.readline().strip() + ',cell,temp,time\\n')\n",
    "    \n",
    "    for c in csvs:\n",
    "        gr = list(re.match(p, c).groups())\n",
    "        with open(os.path.join(dr, c), 'r') as fd:\n",
    "            fd.readline()\n",
    "            for line in fd.readlines():\n",
    "                outfd.write(line.strip() + ',' + ','.join(gr) + '\\n')"
   ]
  },
  {
   "cell_type": "code",
   "execution_count": null,
   "metadata": {
    "collapsed": false
   },
   "outputs": [],
   "source": [
    "### for multiple samples of same condition\n",
    "\n",
    "dr = '/Users/david/Desktop/AA_combined_results/'\n",
    "csvs = [f for f in next(os.walk(dr))[2] if f.endswith('.csv')]\n",
    "print(csvs)\n",
    "\n",
    "p = re.compile('(.*?)_(.*?C)_(.*?s)_([0-9]+)\\.csv')\n",
    "\n",
    "with open(os.path.join(dr, 'out.csv'), 'w') as outfd:\n",
    "    \n",
    "    with open(os.path.join(dr, csvs[0]), 'r') as fstfd:\n",
    "        outfd.write(fstfd.readline().strip() + ',cell,temp,time,sample\\n')\n",
    "    \n",
    "    for c in csvs:\n",
    "        if re.match(p, c):\n",
    "            gr = list(re.match(p, c).groups())\n",
    "            with open(os.path.join(dr, c), 'r') as fd:\n",
    "                fd.readline()\n",
    "                for line in fd.readlines():\n",
    "                    outfd.write(line.strip() + ',' + ','.join(gr) + '\\n')"
   ]
  },
  {
   "cell_type": "code",
   "execution_count": null,
   "metadata": {
    "collapsed": false
   },
   "outputs": [],
   "source": [
    "# out.csv in subfolders\n",
    "dr = '/Volumes/project_data/cooperation_data/Preliminary_projects/Darmstadt - gammaH2AX/20160723_SP5'\n",
    "\n",
    "toprocess = list()\n",
    "for d, ds, f in os.walk(dr):\n",
    "    if 'res.csv' in f:\n",
    "        toprocess.append(os.path.join(d, 'res.csv'))\n",
    "        \n",
    "with open(os.path.join(dr, 'combined.csv'), 'w') as resfd:\n",
    "    \n",
    "    with open(toprocess[0], 'r') as fstfd:        \n",
    "        resfd.write(fstfd.readline().strip() + ',cond\\n' )\n",
    "        for line in fstfd.readlines():\n",
    "            resfd.write(line.strip() + ',' + toprocess[0].split(os.path.sep)[-2] + '\\n')\n",
    "            \n",
    "    for i in range(1, len(toprocess)):\n",
    "        with open(toprocess[i], 'r') as infd:        \n",
    "            infd.readline()\n",
    "            for line in infd.readlines():\n",
    "                resfd.write(line.strip() + ',' + toprocess[i].split(os.path.sep)[-2] + '\\n')"
   ]
  }
 ],
 "metadata": {
  "kernelspec": {
   "display_name": "Python 3",
   "language": "python",
   "name": "python3"
  },
  "language_info": {
   "codemirror_mode": {
    "name": "ipython",
    "version": 3
   },
   "file_extension": ".py",
   "mimetype": "text/x-python",
   "name": "python",
   "nbconvert_exporter": "python",
   "pygments_lexer": "ipython3",
   "version": "3.5.1"
  }
 },
 "nbformat": 4,
 "nbformat_minor": 0
}
