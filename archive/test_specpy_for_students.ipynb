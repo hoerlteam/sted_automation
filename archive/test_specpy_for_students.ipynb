{
 "cells": [
  {
   "cell_type": "code",
   "execution_count": null,
   "metadata": {},
   "outputs": [],
   "source": [
    "import specpy\n",
    "\n",
    "# connect to imspector\n",
    "im = specpy.get_application()"
   ]
  },
  {
   "cell_type": "code",
   "execution_count": null,
   "metadata": {},
   "outputs": [],
   "source": [
    "# run current measurement from code\n",
    "im.run(im.active_measurement())"
   ]
  },
  {
   "cell_type": "code",
   "execution_count": null,
   "metadata": {},
   "outputs": [],
   "source": [
    "import numpy as np\n",
    "from matplotlib import pyplot as plt\n",
    "\n",
    "# get image data as numpy array\n",
    "ms = im.active_measurement()\n",
    "img = ms.stack(1).data()\n",
    "\n",
    "# plot\n",
    "fig, ax = plt.subplots(figsize=(8,8))\n",
    "ax.imshow(np.squeeze(img), cmap='afmhot')"
   ]
  },
  {
   "cell_type": "code",
   "execution_count": null,
   "metadata": {},
   "outputs": [],
   "source": [
    "# get a parameter, e.g. x offset (position)\n",
    "x_offset = im.active_measurement().parameters('ExpControl/scan/range/x/off')\n",
    "x_offset"
   ]
  },
  {
   "cell_type": "code",
   "execution_count": null,
   "metadata": {},
   "outputs": [],
   "source": [
    "# increase x offset by 10 micron\n",
    "im.active_measurement().set_parameters('ExpControl/scan/range/x/off', x_offset - 10e-6)"
   ]
  }
 ],
 "metadata": {
  "kernelspec": {
   "display_name": "Python 3.7.6 ('base')",
   "language": "python",
   "name": "python3"
  },
  "language_info": {
   "codemirror_mode": {
    "name": "ipython",
    "version": 3
   },
   "file_extension": ".py",
   "mimetype": "text/x-python",
   "name": "python",
   "nbconvert_exporter": "python",
   "pygments_lexer": "ipython3",
   "version": "3.7.6"
  },
  "orig_nbformat": 4,
  "vscode": {
   "interpreter": {
    "hash": "caf6efcfc89aba1bdbf0711d0a9a79bee9c38cecffe6efe1da5a20860731374b"
   }
  }
 },
 "nbformat": 4,
 "nbformat_minor": 2
}
