{
 "cells": [
  {
   "cell_type": "markdown",
   "metadata": {},
   "source": [
    "# Save Imspector measurement parameters as JSON\n",
    "\n",
    "This notebook can be used to save the parameters of an measurement to a JSON text file, so we can re-use them in automated measurements.\n",
    "\n",
    "Some parameters can be set from the automation code, but the following, among others, should be saved to a file and re-used:\n",
    "\n",
    "* how many and which channels to use\n",
    "* objective\n",
    "* laser powers\n",
    "* 3d STED setting (percent)\n",
    "* dwell times and line accumulation\n",
    "* RESCue\n",
    "* ..."
   ]
  },
  {
   "cell_type": "markdown",
   "metadata": {},
   "source": [
    "## Imports\n",
    "Run this once!"
   ]
  },
  {
   "cell_type": "code",
   "execution_count": null,
   "metadata": {
    "collapsed": true
   },
   "outputs": [],
   "source": [
    "from functools import reduce\n",
    "import json\n",
    "import sys\n",
    "import os\n",
    "\n",
    "from specpy import Imspector"
   ]
  },
  {
   "cell_type": "markdown",
   "metadata": {},
   "source": [
    "## 1) Specify file to save parameters to"
   ]
  },
  {
   "cell_type": "code",
   "execution_count": null,
   "metadata": {},
   "outputs": [],
   "source": [
    "# CHANGE ME!\n",
    "settings_path = 'C:/Users/RESOLFT/Desktop/config_json/old_pipeline/20180821_imspector_settings_default2.json'\n",
    "\n",
    "\n",
    "# make sure we use slash instead of backslash\n",
    "settings_path = settings_path.replace(os.sep, '/')\n",
    "\n",
    "print('Will save settings to: {}'.format(settings_path))\n",
    "# warn if file exists\n",
    "if os.path.exists(settings_path):\n",
    "    print('WARNING: selected file already exists, it will be overwritten!')"
   ]
  },
  {
   "cell_type": "markdown",
   "metadata": {},
   "source": [
    "## 2) Saving parameters\n",
    "\n",
    "1. open existing or create **new measurement** in Imspector\n",
    "2. set all parameters\n",
    "3. execute code below to save to a .JSON file\n",
    "\n",
    "** make sure the correct window is selected in Imspector! **"
   ]
  },
  {
   "cell_type": "code",
   "execution_count": null,
   "metadata": {
    "collapsed": true,
    "scrolled": false
   },
   "outputs": [],
   "source": [
    "# make sure the directory to which we want to save exists\n",
    "if not os.path.exists(settings_path.rsplit('/', 1)[0]):\n",
    "    os.makedirs(settings_path.rsplit('/', 1)[0])\n",
    "\n",
    "# get all parameters of active measurement\n",
    "params = Imspector().active_measurement().active_configuration().parameters('')\n",
    "# dump to file as json\n",
    "with open(settings_path, 'w') as fd:\n",
    "    json.dump(params, fd, indent=2)\n",
    "\n",
    "# print what we just saved\n",
    "print(\"\"\"\n",
    "Wrote parameters to {}\n",
    "\n",
    "Saved parameters:\n",
    "=================\n",
    "\"\"\".format(settings_path))\n",
    "json.dump(params, sys.stdout, indent=2)"
   ]
  },
  {
   "cell_type": "markdown",
   "metadata": {},
   "source": [
    "## 3) (Optional) Saving Imspector settings\n",
    "\n",
    "To save Imspector settings (e.g. SLM parameters) instead of the current measurement parameters, run the code below.\n",
    "** This is currently not necessary in most cases, only use it if you know what you are doing! **"
   ]
  },
  {
   "cell_type": "code",
   "execution_count": null,
   "metadata": {
    "scrolled": false
   },
   "outputs": [],
   "source": [
    "# make sure the directory to which we want to save exists\n",
    "if not os.path.exists(settings_path.rsplit('/', 1)[0]):\n",
    "    os.makedirs(settings_path.rsplit('/', 1)[0])\n",
    "\n",
    "# get all parameters of active measurement\n",
    "params = Imspector().parameters('')\n",
    "# dump to file as json\n",
    "with open(settings_path, 'w') as fd:\n",
    "    json.dump(params, fd, indent=2)\n",
    "\n",
    "# print what we just saved\n",
    "print(\"\"\"\n",
    "Wrote Imspector settings to {}\n",
    "\n",
    "Saved settings:\n",
    "===============\n",
    "\"\"\".format(settings_path))\n",
    "json.dump(params, sys.stdout, indent=2)"
   ]
  }
 ],
 "metadata": {
  "kernelspec": {
   "display_name": "Python 3",
   "language": "python",
   "name": "python3"
  },
  "language_info": {
   "codemirror_mode": {
    "name": "ipython",
    "version": 3
   },
   "file_extension": ".py",
   "mimetype": "text/x-python",
   "name": "python",
   "nbconvert_exporter": "python",
   "pygments_lexer": "ipython3",
   "version": "3.5.1"
  }
 },
 "nbformat": 4,
 "nbformat_minor": 2
}
