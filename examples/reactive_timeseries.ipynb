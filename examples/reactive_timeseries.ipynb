{
 "cells": [
  {
   "cell_type": "code",
   "execution_count": 1,
   "metadata": {},
   "outputs": [],
   "source": [
    "import logging\n",
    "import sys\n",
    "\n",
    "import specpy as sp\n",
    "\n",
    "from autosted import AcquisitionPipeline\n",
    "from autosted.taskgeneration import AcquisitionTaskGenerator\n",
    "from autosted.stoppingcriteria.stoppingcriteria import MaximumAcquisitionsStoppingCriterion\n",
    "from autosted.callback_buildingblocks.static_settings import JSONSettingsLoader\n",
    "\n",
    "# configure logging\n",
    "logging.basicConfig(stream=sys.stdout, level=logging.INFO)"
   ]
  },
  {
   "cell_type": "code",
   "execution_count": 2,
   "metadata": {},
   "outputs": [],
   "source": [
    "parameters = sp.get_application().value_at(\"\", sp.ValueTree.Measurement).get()\n",
    "\n",
    "# Alternatively, load from a file or specify path\n",
    "# parameters = \"path/to/parameters.json\""
   ]
  },
  {
   "cell_type": "code",
   "execution_count": null,
   "metadata": {},
   "outputs": [],
   "source": [
    "pipeline = AcquisitionPipeline(data_save_path=\"acquisition_data/test\", hierarchy_levels=[\"image\"])\n",
    "\n",
    "# callback to repeatedly image with same settings, with delay\n",
    "next_image_callback = AcquisitionTaskGenerator(\n",
    "    \"image\",\n",
    "    JSONSettingsLoader(parameters),\n",
    "    delay=10 # time to wait from last acquisition at level \"image\"\n",
    ")\n",
    "\n",
    "pipeline.add_callback(next_image_callback, \"image\")\n",
    "\n",
    "# stop after 10 images\n",
    "pipeline.add_stopping_condition(MaximumAcquisitionsStoppingCriterion(10))\n",
    "\n",
    "pipeline.run(next_image_callback)"
   ]
  },
  {
   "cell_type": "code",
   "execution_count": null,
   "metadata": {},
   "outputs": [],
   "source": [
    "from autosted.callback_buildingblocks.data_selection import NewestSettingsSelector\n",
    "from autosted.callback_buildingblocks.repetition import ResultsRepeater\n",
    "from autosted.taskgeneration.taskgeneration import DummyUpdateGenerator\n",
    "from autosted.detection.clasification_check import AcceptanceCheck\n",
    "\n",
    "pipeline = AcquisitionPipeline(data_save_path=\"acquisition_data/test\", hierarchy_levels=[\"slow\", \"fast\"])\n",
    "\n",
    "next_slow_image_callback = AcquisitionTaskGenerator(\n",
    "    \"slow\",\n",
    "    JSONSettingsLoader(parameters),\n",
    "    delay=10\n",
    ")\n",
    "\n",
    "# simple boolean check if the index of latest \"slow\" acquisition is divisible by switch frequency\n",
    "switch_after_n_slow_images = 3\n",
    "# NOTE: the check gets passed an image, but we just ignore it\n",
    "# in a realistic application, we would detect an event of interest in the image\n",
    "check_function = lambda img: (max(pipeline.data.keys())[0] + 1) % switch_after_n_slow_images == 0\n",
    "\n",
    "num_fast_images = 3\n",
    "fast_images_callback = AcquisitionTaskGenerator(\n",
    "    \"fast\",\n",
    "    # 1. check if we should switch to fast mode\n",
    "    # if True, this returns a dummy update, if False, no updates at all\n",
    "    AcceptanceCheck(check_function),\n",
    "    # 2. get actual settings (copy \"slow\" settings)\n",
    "    NewestSettingsSelector(),\n",
    "    # 3. repeat a dummy update so we actually enqueue multiple \"fast\" images\n",
    "    ResultsRepeater(DummyUpdateGenerator(), n=num_fast_images),\n",
    "    delay=5 # time to wait from last acquisition at level \"fast\"\n",
    ")\n",
    "\n",
    "pipeline.add_callback(next_slow_image_callback, \"slow\")\n",
    "pipeline.add_callback(fast_images_callback, \"slow\")\n",
    "pipeline.add_stopping_condition(MaximumAcquisitionsStoppingCriterion(20))\n",
    "\n",
    "pipeline.run(next_slow_image_callback)"
   ]
  }
 ],
 "metadata": {
  "kernelspec": {
   "display_name": "autosted-env",
   "language": "python",
   "name": "python3"
  },
  "language_info": {
   "codemirror_mode": {
    "name": "ipython",
    "version": 3
   },
   "file_extension": ".py",
   "mimetype": "text/x-python",
   "name": "python",
   "nbconvert_exporter": "python",
   "pygments_lexer": "ipython3",
   "version": "3.11.4"
  }
 },
 "nbformat": 4,
 "nbformat_minor": 2
}
