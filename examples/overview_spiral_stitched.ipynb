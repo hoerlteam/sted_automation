{
 "cells": [
  {
   "cell_type": "code",
   "execution_count": 15,
   "id": "ad1582d6",
   "metadata": {},
   "outputs": [],
   "source": [
    "import specpy\n",
    "\n",
    "from autosted import AcquisitionPipeline\n",
    "from autosted.imspector import get_current_stage_coords\n",
    "from autosted.callback_buildingblocks.static_settings import JSONSettingsLoader\n",
    "from autosted.callback_buildingblocks.parameter_filtering import LocationRemover\n",
    "from autosted.callback_buildingblocks.regular_position_generators import SpiralOffsetGenerator\n",
    "from autosted.stoppingcriteria import MaximumAcquisitionsStoppingCriterion\n",
    "from autosted.taskgeneration import AcquisitionTaskGenerator\n",
    "from autosted.callback_buildingblocks.stitched_data_selection import StitchedNewestDataSelector\n",
    "from autosted.detection.roi_detection import ROIDetectorWrapper"
   ]
  },
  {
   "cell_type": "code",
   "execution_count": 16,
   "id": "ff7da15d",
   "metadata": {},
   "outputs": [],
   "source": [
    "# where to save & whether to save combined HDF5 file\n",
    "save_folder = 'examples/acquisition_data/20241126_stitching_test'\n",
    "save_hdf5 = True\n",
    "\n",
    "# path of measurement parameters (dumped to JSON file)\n",
    "measurement_parameters = 'examples/config_json/20241010_overview_3d_640.json'\n",
    "\n",
    "# yx move size (should be smaller than FOV from parameters if we want on-the-fly stitching)\n",
    "move_size = [45e-6, 45e-6]"
   ]
  },
  {
   "cell_type": "code",
   "execution_count": null,
   "id": "463170e3",
   "metadata": {},
   "outputs": [],
   "source": [
    "# get current coordinates and print, so we can go back to that position\n",
    "start_coords = get_current_stage_coords()\n",
    "print(start_coords)"
   ]
  },
  {
   "cell_type": "code",
   "execution_count": null,
   "id": "ad4daddd",
   "metadata": {
    "scrolled": false
   },
   "outputs": [],
   "source": [
    "# build pipeline object (1 level: 'field')\n",
    "pipeline = AcquisitionPipeline(save_folder, ['field'], save_combined_hdf5=save_hdf5, name='multipoint-acquisition')\n",
    "\n",
    "# callback that will create an acquisition task with given measurement parameters\n",
    "# at the next stage coordinates in the coordinate list (the next 'position')\n",
    "next_position_generator = AcquisitionTaskGenerator('field',\n",
    "    LocationRemover(JSONSettingsLoader(measurement_parameters)),\n",
    "    SpiralOffsetGenerator(move_size, start_coords[1:])\n",
    "    )\n",
    "\n",
    "# a dummy detector with a detection function that always returns no detections\n",
    "# it will, however, plot the stitched images with plot_detections=True (default)\n",
    "dummy_callback = AcquisitionTaskGenerator('field',\n",
    "    ROIDetectorWrapper(\n",
    "        lambda x: [],\n",
    "        data_source_callback=StitchedNewestDataSelector(pipeline, 'field', register_tiles=True),\n",
    "        plot_detections=True)\n",
    ")\n",
    "# attach callback so that after each position, the next one will be enqueued\n",
    "pipeline.add_callback(next_position_generator, 'field')\n",
    "\n",
    "pipeline.add_callback(dummy_callback, 'field')\n",
    "\n",
    "# set maximum number of acquisitions before stop\n",
    "pipeline.add_stopping_condition(MaximumAcquisitionsStoppingCriterion(10))\n",
    "\n",
    "# start with initial task from callback\n",
    "pipeline.run(next_position_generator)"
   ]
  }
 ],
 "metadata": {
  "kernelspec": {
   "display_name": "test-env",
   "language": "python",
   "name": "python3"
  },
  "language_info": {
   "codemirror_mode": {
    "name": "ipython",
    "version": 3
   },
   "file_extension": ".py",
   "mimetype": "text/x-python",
   "name": "python",
   "nbconvert_exporter": "python",
   "pygments_lexer": "ipython3",
   "version": "3.11.11"
  }
 },
 "nbformat": 4,
 "nbformat_minor": 5
}
