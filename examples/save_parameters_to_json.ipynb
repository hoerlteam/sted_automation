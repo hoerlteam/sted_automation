{
 "cells": [
  {
   "cell_type": "markdown",
   "metadata": {},
   "source": [
    "# Save Imspector measurement parameters as JSON\n",
    "\n",
    "This notebook can be used to save the parameters of a measurement to JSON text files, so we can re-use them in automated measurements using a ```JSONSettingsLoader``` callback.\n",
    "\n",
    "Some parameters (pixel size, FOV length) can be set from the automation code via dedicated callbacks, but in general, the idea is to save *template parameters* for all images you wish to take in an automation run (overviews, STED details, ...) and only change things like stage/scan position dynamically during the run.\n",
    "\n",
    "So the following, among others, should be saved to a file and re-used:\n",
    "\n",
    "* how many and which channels to use\n",
    "* objective\n",
    "* laser powers\n",
    "* 3d STED setting (percent)\n",
    "* dwell times and line accumulation\n",
    "* RESCue\n",
    "* ...\n",
    "\n",
    "## Hints\n",
    "\n",
    "* it's best to deactivate easyCommander before saving parameters\n",
    "* pay attention to settings like \"lock aspect ratio\" in Imspector (making image size settable in only one dimension)\n",
    "    * if a setting is grayed-out in the GUI, we can't change it from code either"
   ]
  },
  {
   "cell_type": "markdown",
   "metadata": {},
   "source": [
    "## Basic saving\n",
    "\n",
    "We want to save the whole Imspector parameter tree, which we can get as a dictionary via the ```.value_at('', ...)``` method.\n",
    "\n",
    "Then, we can just save it using the ```json``` module:"
   ]
  },
  {
   "cell_type": "code",
   "execution_count": null,
   "metadata": {},
   "outputs": [],
   "source": [
    "import json\n",
    "\n",
    "import specpy as sp\n",
    "\n",
    "\n",
    "# get current measurement parameters and hardware parameters\n",
    "imspector = sp.get_application()\n",
    "current_measurement_parameters = imspector.value_at('', sp.ValueTree.Measurement).get()\n",
    "hardware_parameters = imspector.value_at('', sp.ValueTree.Hardware).get()\n",
    "\n",
    "# dump to JSON\n",
    "with open('parameters.json', 'w') as fd:\n",
    "    json.dump(current_measurement_parameters, fd, indent=1)"
   ]
  },
  {
   "cell_type": "markdown",
   "metadata": {},
   "source": [
    "## Batch Saving all parameters\n",
    "\n",
    "In the code below, we can save the parameters of all configurations of a mesurement to multiple JSON files, with automatic naming.\n",
    "\n",
    "Optionally, this also saves hardware settings (e.g. SLM calibration). **Currently, changing them during automation runs not necessary in most cases, only use it if you know what you are doing!**\n",
    "\n",
    "First, we select what to save and where:"
   ]
  },
  {
   "cell_type": "code",
   "execution_count": 35,
   "metadata": {},
   "outputs": [],
   "source": [
    "import json\n",
    "import os\n",
    "import warnings\n",
    "\n",
    "import specpy as sp\n",
    "\n",
    "\n",
    "# directory to save to\n",
    "output_directory = 'config_json'\n",
    "\n",
    "# base filename\n",
    "output_filename = 'test2color'\n",
    "\n",
    "# whether to save all configurations or only the currently selected one\n",
    "save_all_configurations = True\n",
    "\n",
    "# whether to also save hardware parameters\n",
    "save_hardware_parameters = True\n",
    "\n",
    "# Whether to overwrite existing files\n",
    "overwrite_existing_files = False"
   ]
  },
  {
   "cell_type": "markdown",
   "metadata": {},
   "source": [
    "Now, follow the steps below to save the parameters:\n",
    "\n",
    "1. open existing or create **new measurement** in Imspector\n",
    "2. set all parameters in Imspector\n",
    "3. execute code below to save JSON file(s)\n",
    "\n",
    "**make sure the correct window is selected in Imspector!**"
   ]
  },
  {
   "cell_type": "code",
   "execution_count": null,
   "metadata": {
    "scrolled": true
   },
   "outputs": [],
   "source": [
    "# make output directory absolute\n",
    "output_directory = os.path.abspath(output_directory)\n",
    "\n",
    "# make sure the directory to which we want to save exists\n",
    "if not os.path.exists(output_directory):\n",
    "    os.makedirs(output_directory)\n",
    "\n",
    "# connect to Imspector & active measurement\n",
    "imspector = sp.get_application()\n",
    "ms = imspector.active_measurement()\n",
    "conf_active = ms.active_configuration()\n",
    "\n",
    "if save_all_configurations: confs_to_save = {name: ms.configuration(name) for name in ms.configuration_names()}\n",
    "else: confs_to_save = {conf_active.name(): conf_active}\n",
    "\n",
    "for name, conf in confs_to_save.items():\n",
    "\n",
    "    # if we save multiple confs, add conf name to outfile\n",
    "    if save_all_configurations: outfile = os.path.join(output_directory, output_filename + f'_{name}.json')\n",
    "    else: outfile = os.path.join(output_directory, output_filename + '.json')\n",
    "\n",
    "    if os.path.exists(outfile) and not overwrite_existing_files:\n",
    "        warnings.warn(f'target file {outfile} exists, skipping.')\n",
    "        continue\n",
    "\n",
    "    # activate and get measurement parameters\n",
    "    ms.activate(conf)\n",
    "    parameters = imspector.value_at('', sp.ValueTree.Measurement).get()\n",
    "\n",
    "    # dump to JSON\n",
    "    with open(outfile, 'w') as fd:\n",
    "        json.dump(parameters, fd, indent=1)\n",
    "\n",
    "    print(f'saved measurement parameters of configuration {name} to {outfile}')\n",
    "\n",
    "# re-activate the previously active configuration\n",
    "ms.activate(conf_active)\n",
    "\n",
    "\n",
    "if save_hardware_parameters:\n",
    "\n",
    "    # get hardware parameters\n",
    "    hardware_params = imspector.value_at('', sp.ValueTree.Hardware).get()\n",
    "\n",
    "    outfile = os.path.join(output_directory, output_filename + '_hardware.json')\n",
    "    if os.path.exists(outfile) and not overwrite_existing_files:\n",
    "        warnings.warn(f'target file {outfile} exists, skipping.')\n",
    "    else:\n",
    "        with open(outfile, 'w') as fd:\n",
    "            json.dump(hardware_params, fd, indent=1)\n",
    "        print(f'saved hardware parameters to {outfile}')\n"
   ]
  }
 ],
 "metadata": {
  "kernelspec": {
   "display_name": "test-env",
   "language": "python",
   "name": "python3"
  },
  "language_info": {
   "codemirror_mode": {
    "name": "ipython",
    "version": 3
   },
   "file_extension": ".py",
   "mimetype": "text/x-python",
   "name": "python",
   "nbconvert_exporter": "python",
   "pygments_lexer": "ipython3",
   "version": "3.11.11"
  }
 },
 "nbformat": 4,
 "nbformat_minor": 2
}
