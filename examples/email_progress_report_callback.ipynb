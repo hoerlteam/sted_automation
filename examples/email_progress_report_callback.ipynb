{
 "cells": [
  {
   "cell_type": "markdown",
   "metadata": {},
   "source": [
    "# Callbacks beyond task generation: E-Mail\n",
    "\n",
    "While we typically use callbacks in **autoSTED** to enqueue new acquisition tasks, we can do a lot more since they are just Python functions (or callable objects). \n",
    "\n",
    "Here, we build a function to **send a progress report via e-mail** (listing how many images have been acquired) and include it as a callback into an acquisiton pipeline."
   ]
  },
  {
   "cell_type": "code",
   "execution_count": null,
   "metadata": {},
   "outputs": [],
   "source": [
    "from smtplib import SMTP\n",
    "from email.message import EmailMessage\n",
    "from getpass import getpass\n",
    "from textwrap import dedent\n",
    "from time import strftime, localtime, time\n",
    "\n",
    "from autosted.pipeline import AcquisitionPipeline\n",
    "\n",
    "\n",
    "def send_email(server, sender, password, message_content, recipient=None, subject=None, username=None):\n",
    "\n",
    "    # Build message\n",
    "    msg = EmailMessage()\n",
    "    msg.set_content(message_content)\n",
    "    msg[\"Subject\"] = subject # may be None for no subject\n",
    "    msg[\"From\"] = sender\n",
    "    # if no recipient is specified, send to yourself\n",
    "    msg[\"To\"] = sender if recipient is None else recipient\n",
    "\n",
    "    # connect to SMTP server (with TLS) and send\n",
    "    # NOTE: works e.g. with Gmail, but you may need an extra App password:\n",
    "    # https://support.google.com/accounts/answer/185833?hl=en\n",
    "    with SMTP(server, 587) as s:\n",
    "        s.ehlo()\n",
    "        s.starttls()\n",
    "        s.ehlo()\n",
    "        # login with sender email or extra username if given\n",
    "        s.login(sender if username is None else username, password)\n",
    "        s.send_message(msg)\n",
    "\n",
    "\n",
    "def get_number_of_acquisitions_per_level(pipeline=None):\n",
    "    # get currently running pipeline if none given\n",
    "    if pipeline is None:\n",
    "        pipeline = AcquisitionPipeline.running_instance\n",
    "    # count number of acquisitions in pipeline's data for each hierarchy level\n",
    "    acquisition_numbers = {}\n",
    "    for level in pipeline.hierarchy_levels:\n",
    "        num_acquisitions_at_level = len([idx for idx in pipeline.data.keys() if idx[-1][0] == level])\n",
    "        acquisition_numbers[level] = num_acquisitions_at_level\n",
    "    return acquisition_numbers\n",
    "\n",
    "\n",
    "def make_progress_report(acquisition_numbers):\n",
    "    report = dedent(\n",
    "    f\"\"\"\n",
    "    autoSTED status report at {strftime(\"%d.%m.%Y %H:%M:%S\", localtime(time()))}\n",
    "    ----------------------\n",
    "    \n",
    "    Number of acquisitions:\n",
    "    \"\"\"\n",
    "    )\n",
    "    for level, num_acquisitions_at_level in acquisition_numbers.items():\n",
    "        report += f\"{level}: {num_acquisitions_at_level}\\n\"\n",
    "    report += f\"Total acquisitions: {sum(acquisition_numbers.values())}\\n\"\n",
    "    return report\n"
   ]
  },
  {
   "cell_type": "code",
   "execution_count": null,
   "metadata": {},
   "outputs": [],
   "source": [
    "# test progress report generation\n",
    "print(make_progress_report({\"overview\": 12, \"detail\": 24}))"
   ]
  },
  {
   "cell_type": "markdown",
   "metadata": {},
   "source": [
    "## A progress report callback\n",
    "\n",
    "Here, we define a function ```send_progress_report``` that will get the current number of acquisitions of the running pipeline and send an e-mail with a progress report every 100 acquiistions.\n",
    "\n",
    "**NOTE:** Since we will use this function like other callbacks in an autoSTED pipeline, make sure it returns None (otherwise, the pipeline will try to interpret return value as new acquisition tasks).\n",
    "\n",
    "**WARNING:** to send an e-mail you need to log into the SMTP server of your provider and need to enter your password, so be careful to limit access of others to this notebook while it is running"
   ]
  },
  {
   "cell_type": "code",
   "execution_count": null,
   "metadata": {},
   "outputs": [],
   "source": [
    "# get password via hidden prompt\n",
    "# NOTE: you could just write it as a string here, but writing password in plain text is a bad idea\n",
    "# also NOTE: since the password is saved in memory here,\n",
    "# others with access to this notebook may be able to read it while the notebook is running\n",
    "password = getpass()\n",
    "server = 'smtp.gmail.com'\n",
    "sender = 'my-email@gmail.com'\n",
    "\n",
    "def send_progress_report(every_n_acquisitions=100):\n",
    "    acquisition_numbers = get_number_of_acquisitions_per_level()\n",
    "    total_acquisitions = sum(acquisition_numbers.values())\n",
    "\n",
    "    if total_acquisitions % every_n_acquisitions == 0:\n",
    "        message_content = make_progress_report(acquisition_numbers)\n",
    "        send_email(server, sender, password, message_content)"
   ]
  },
  {
   "cell_type": "markdown",
   "metadata": {},
   "source": [
    "## Including report sending in a pipeline\n",
    "\n",
    "Now, we build an Acquisition pipeline similar to ```overview_spiral.ipynb``` and include the reporting functionality:"
   ]
  },
  {
   "cell_type": "code",
   "execution_count": null,
   "metadata": {},
   "outputs": [],
   "source": [
    "from autosted.callback_buildingblocks import (\n",
    "    FOVSettingsGenerator,\n",
    "    JSONSettingsLoader,\n",
    "    LocationRemover,\n",
    "    SpiralOffsetGenerator,\n",
    ")\n",
    "from autosted.imspector import get_current_stage_coords\n",
    "from autosted.stoppingcriteria import MaximumAcquisitionsStoppingCriterion\n",
    "from autosted.taskgeneration import AcquisitionTaskGenerator"
   ]
  },
  {
   "cell_type": "code",
   "execution_count": null,
   "metadata": {},
   "outputs": [],
   "source": [
    "# where to save & whether to save combined HDF5 file\n",
    "save_folder = \"acquisition_data/spiral-test\"\n",
    "save_hdf5 = False\n",
    "\n",
    "# path of measurement parameters (dumped to JSON file)\n",
    "measurement_parameters = \"config_json/20241010_overview_3d_640.json\"\n",
    "\n",
    "# yx move size between images in spiral\n",
    "move_size = [50e-6, 50e-6]"
   ]
  },
  {
   "cell_type": "code",
   "execution_count": null,
   "metadata": {},
   "outputs": [],
   "source": [
    "# get current coordinates and print, so we can go back to that position\n",
    "start_coords = get_current_stage_coords()\n",
    "print(start_coords)"
   ]
  },
  {
   "cell_type": "markdown",
   "metadata": {},
   "source": [
    "Finally, we can build and run the pipeline.\n",
    "\n",
    "- we attach our ```send_progress_report``` as a second callback at the \"field\" level (in addition the the ```next_position_generator``` callback)\n",
    "- at the end of the run, we send an e-mail as well"
   ]
  },
  {
   "cell_type": "code",
   "execution_count": null,
   "metadata": {},
   "outputs": [],
   "source": [
    "# build pipeline object (1 level: 'field')\n",
    "pipeline = AcquisitionPipeline(\n",
    "    save_folder, [\"field\"], save_combined_hdf5=save_hdf5\n",
    ")\n",
    "\n",
    "# callback that will create an acquisition task with given measurement parameters\n",
    "# at the next stage coordinates in the coordinate list (the next 'position')\n",
    "next_position_generator = AcquisitionTaskGenerator(\n",
    "    \"field\",\n",
    "    # 1. load basic measurement parameters from file\n",
    "    LocationRemover(JSONSettingsLoader(measurement_parameters)),\n",
    "    # 2. (optional) update FOV to match spiral move size in yx (leave z & pixel size as-is -> None)\n",
    "    FOVSettingsGenerator(lengths=[None] + move_size, pixel_sizes=None),\n",
    "    # 3. get next position in spiral\n",
    "    SpiralOffsetGenerator(move_size, start_coords[1:])\n",
    ")\n",
    "\n",
    "# attach callback so that after each position, the next one will be enqueued\n",
    "pipeline.add_callback(next_position_generator, \"field\")\n",
    "\n",
    "# NOTE: attach the function to send progress report as a callback\n",
    "pipeline.add_callback(send_progress_report, \"field\")\n",
    "\n",
    "# set maximum number of acquisitions before stop\n",
    "pipeline.add_stopping_condition(MaximumAcquisitionsStoppingCriterion(500))\n",
    "\n",
    "# start with initial task from callback\n",
    "pipeline.run(next_position_generator)\n",
    "\n",
    "# NOTE: send a mail once the pipeline has finished\n",
    "finish_message = f\"autoSTED pipeline finished at {strftime('%d.%m.%Y %H:%M:%S', localtime(time()))}\"\n",
    "send_email(server, sender, password, finish_message)"
   ]
  }
 ],
 "metadata": {
  "kernelspec": {
   "display_name": "autosted-env",
   "language": "python",
   "name": "python3"
  },
  "language_info": {
   "codemirror_mode": {
    "name": "ipython",
    "version": 3
   },
   "file_extension": ".py",
   "mimetype": "text/x-python",
   "name": "python",
   "nbconvert_exporter": "python",
   "pygments_lexer": "ipython3",
   "version": "3.11.4"
  }
 },
 "nbformat": 4,
 "nbformat_minor": 2
}
