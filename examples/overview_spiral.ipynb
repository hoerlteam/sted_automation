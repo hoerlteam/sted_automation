{
 "cells": [
  {
   "cell_type": "markdown",
   "metadata": {},
   "source": [
    "# Imaging overviews in spiral"
   ]
  },
  {
   "cell_type": "code",
   "execution_count": null,
   "metadata": {},
   "outputs": [],
   "source": [
    "import specpy\n",
    "\n",
    "from autosted import AcquisitionPipeline\n",
    "from autosted.callback_buildingblocks import (\n",
    "    FOVSettingsGenerator,\n",
    "    JSONSettingsLoader,\n",
    "    LocationRemover,\n",
    "    NewestDataSelector,\n",
    "    SimpleManualOffset,\n",
    "    SpiralOffsetGenerator,\n",
    "    StageOffsetsSettingsGenerator,\n",
    ")\n",
    "from autosted.detection import SimpleFocusPlaneDetector\n",
    "from autosted.imspector import get_current_stage_coords\n",
    "from autosted.stoppingcriteria import MaximumAcquisitionsStoppingCriterion\n",
    "from autosted.taskgeneration import AcquisitionTaskGenerator"
   ]
  },
  {
   "cell_type": "code",
   "execution_count": null,
   "metadata": {},
   "outputs": [],
   "source": [
    "# where to save & whether to save combined HDF5 file\n",
    "save_folder = \"acquisition_data/spiral-test\"\n",
    "save_hdf5 = True\n",
    "\n",
    "# path of measurement parameters (dumped to JSON file)\n",
    "measurement_parameters = \"examples/config_json/20241010_overview_3d_640.json\"\n",
    "# Alternative: get current parameters\n",
    "# measurement_parameters = (\n",
    "#     specpy.get_application().value_at(\"\", specpy.ValueTree.Measurement).get()\n",
    "# )\n",
    "\n",
    "# yx move size between images in spiral\n",
    "move_size = [50e-6, 50e-6]\n",
    "\n",
    "# channel to focus in\n",
    "focus_channel = 0\n",
    "\n",
    "# manual offset (zyx) to focus\n",
    "manual_focus_offset = [0, 0, 0]"
   ]
  },
  {
   "cell_type": "code",
   "execution_count": null,
   "metadata": {},
   "outputs": [],
   "source": [
    "# get current coordinates and print, so we can go back to that position\n",
    "start_coords = get_current_stage_coords()\n",
    "print(start_coords)"
   ]
  },
  {
   "cell_type": "markdown",
   "metadata": {},
   "source": [
    "Now, we instantiate a pipeline an an ```AcquisitionTaskGenerator``` to generate the next position to image at.\n",
    "\n",
    "In addition to the example in ```basics.ipynb```, we add two optional building blocks:\n",
    "\n",
    "1. a ```FOVSettingsGenerator``` that sets image size and/or pixel size to user-defined values (e.g. size of movement in spiral)\n",
    "2. a ```SimpleFocusPlaneDetector``` that returns updated z focus positions using a simple intensity-based autofocus. It can additionally be wrapped in a ```SimpleManualOffset``` block to add a manual offset to the detected highest intensity plane."
   ]
  },
  {
   "cell_type": "code",
   "execution_count": null,
   "metadata": {},
   "outputs": [],
   "source": [
    "# build pipeline object (1 level: 'field')\n",
    "pipeline = AcquisitionPipeline(\n",
    "    save_folder, [\"field\"], save_combined_hdf5=save_hdf5\n",
    ")\n",
    "\n",
    "# callback that will create an acquisition task with given measurement parameters\n",
    "# at the next stage coordinates in the coordinate list (the next 'position')\n",
    "next_position_generator = AcquisitionTaskGenerator(\n",
    "    \"field\",\n",
    "    # 1. load basic measurement parameters from file\n",
    "    LocationRemover(JSONSettingsLoader(measurement_parameters)),\n",
    "    # 2. (optional) update FOV to match spiral move size in yx (leave z & pixel size as-is -> None)\n",
    "    FOVSettingsGenerator(lengths=[None] + move_size, pixel_sizes=None),\n",
    "    # 3. get next position, wrap values as stage offset in parameter dict\n",
    "    # NOTE: old version, by now, the inner SpiralOffsetGenerator will return a parameter dict by default\n",
    "    # so this will do the same: SpiralOffsetGenerator(move_size, start_coords[1:])\n",
    "    StageOffsetsSettingsGenerator(\n",
    "        SpiralOffsetGenerator(move_size, start_coords[1:], return_parameter_dict=False)\n",
    "    ),\n",
    "    # 4. (optional) adjust focus based on last image\n",
    "    # nested callbacks are best read inside-out:\n",
    "    # get latest data, get focus plane, optionally add manual offset, wrap values in offset settings dict\n",
    "    StageOffsetsSettingsGenerator(\n",
    "        SimpleManualOffset(\n",
    "            SimpleFocusPlaneDetector(\n",
    "                NewestDataSelector(pipeline, level=\"field\"), channel=focus_channel\n",
    "            ),\n",
    "            offset=manual_focus_offset,\n",
    "        )\n",
    "    ),\n",
    ")\n",
    "\n",
    "# attach callback so that after each position, the next one will be enqueued\n",
    "pipeline.add_callback(next_position_generator, \"field\")\n",
    "\n",
    "# set maximum number of acquisitions before stop\n",
    "pipeline.add_stopping_condition(MaximumAcquisitionsStoppingCriterion(50))\n",
    "\n",
    "# start with initial task from callback\n",
    "pipeline.run(next_position_generator)"
   ]
  }
 ],
 "metadata": {
  "kernelspec": {
   "display_name": "autosted-env",
   "language": "python",
   "name": "python3"
  },
  "language_info": {
   "codemirror_mode": {
    "name": "ipython",
    "version": 3
   },
   "file_extension": ".py",
   "mimetype": "text/x-python",
   "name": "python",
   "nbconvert_exporter": "python",
   "pygments_lexer": "ipython3",
   "version": "3.11.4"
  },
  "orig_nbformat": 4
 },
 "nbformat": 4,
 "nbformat_minor": 2
}
