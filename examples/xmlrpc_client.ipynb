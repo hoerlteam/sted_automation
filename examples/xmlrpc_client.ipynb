{
 "cells": [
  {
   "cell_type": "markdown",
   "metadata": {},
   "source": [
    "## Test calling Imspector acquisition via XMLRPC"
   ]
  },
  {
   "cell_type": "markdown",
   "metadata": {},
   "source": [
    "### 1) Call and wait for finish in one cell"
   ]
  },
  {
   "cell_type": "code",
   "execution_count": null,
   "metadata": {},
   "outputs": [],
   "source": [
    "from xmlrpc.client import ServerProxy\n",
    "\n",
    "n_tiles = [1, 1, 1]\n",
    "timepoints = [0, 10, 20]\n",
    "\n",
    "with ServerProxy('http://localhost:11005', allow_none=True) as server:\n",
    "    server.run_acquisition(n_tiles, timepoints)\n",
    "    server.finish_acquisition() "
   ]
  },
  {
   "cell_type": "markdown",
   "metadata": {},
   "source": [
    "### 2) Start async and wait seperately"
   ]
  },
  {
   "cell_type": "code",
   "execution_count": 4,
   "metadata": {},
   "outputs": [],
   "source": [
    "with ServerProxy('http://localhost:11005', allow_none=True) as server:\n",
    "    server.run_acquisition(1, [0, 10, 20])"
   ]
  },
  {
   "cell_type": "code",
   "execution_count": 5,
   "metadata": {},
   "outputs": [],
   "source": [
    "with ServerProxy('http://localhost:11005', allow_none=True) as server:\n",
    "    server.finish_acquisition() "
   ]
  }
 ],
 "metadata": {
  "kernelspec": {
   "display_name": "autosted-env",
   "language": "python",
   "name": "python3"
  },
  "language_info": {
   "codemirror_mode": {
    "name": "ipython",
    "version": 3
   },
   "file_extension": ".py",
   "mimetype": "text/x-python",
   "name": "python",
   "nbconvert_exporter": "python",
   "pygments_lexer": "ipython3",
   "version": "3.11.4"
  }
 },
 "nbformat": 4,
 "nbformat_minor": 2
}
