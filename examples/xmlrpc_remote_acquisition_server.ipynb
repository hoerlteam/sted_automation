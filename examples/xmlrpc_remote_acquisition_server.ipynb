{
 "cells": [
  {
   "cell_type": "code",
   "execution_count": 3,
   "metadata": {},
   "outputs": [],
   "source": [
    "from threading import Thread\n",
    "import os\n",
    "from xmlrpc.server import SimpleXMLRPCServer\n",
    "\n",
    "import numpy as np\n",
    "mport specpy as sp\n",
    "\n",
    "import autosted\n",
    "from autosted.callback_buildingblocks.coordinate_value_wrappers import StageOffsetsSettingsGenerator\n",
    "from autosted.callback_buildingblocks.parameter_filtering import LocationRemover\n",
    "from autosted.callback_buildingblocks.static_settings import JSONSettingsLoader\n",
    "from autosted.callback_buildingblocks.regular_position_generators import PositionListOffsetGenerator\n",
    "from autosted.taskgeneration.timeseries import TimeSeriesCallback\n",
    "from autosted.utils.tiling import centered_tiles\n",
    "\n",
    "class ImspectorAcquisition():\n",
    "\n",
    "    def __init__(self, save_dir, file_prefix) -> None:\n",
    "        self.imspector = sp.get_application()\n",
    "\n",
    "        # TODO: catch no open measurement\n",
    "        self.parameters = self.imspector.active_measurement().active_configuration().parameters('')\n",
    "\n",
    "        self.position = [self.imspector.active_measurement().active_configuration().parameters('ExpControl/scan/range/coarse_' + c + '/g_off') for c in 'zyx']\n",
    "        self.field_of_view = [self.imspector.active_measurement().active_configuration().parameters('ExpControl/scan/range/' + c + '/len') for c in 'zyx']\n",
    "        self.overlap = 0.1\n",
    "\n",
    "        self.save_path = save_dir\n",
    "        self.file_prefix = file_prefix\n",
    "\n",
    "        self.n_tiles = 1\n",
    "        self.time_points = None\n",
    "\n",
    "        self.pipeline_thread = None\n",
    "\n",
    "    def start_pipeline_thread(self):\n",
    "\n",
    "        if self.pipeline_thread is not None:\n",
    "            raise ValueError('a measurement pipeline is running currently, finish that first.')\n",
    "\n",
    "        self.pipeline_thread = Thread(target=self.run_pipeline)\n",
    "        self.pipeline_thread.start()\n",
    "\n",
    "    @staticmethod\n",
    "    def get_smallest_numeric_suffix_for_files(base_h5_path):\n",
    "        suffix = 0\n",
    "        while os.path.exists(base_h5_path.replace('.h5', f'{suffix}.h5')):\n",
    "            suffix += 1\n",
    "        return suffix\n",
    "\n",
    "    def run_pipeline(self):\n",
    "\n",
    "        # make output dir if it does not exist already\n",
    "        if not os.path.exists(self.save_path):\n",
    "            os.makedirs(self.save_path)\n",
    "\n",
    "        levels = ()\n",
    "        # add timepoint level if we want timepoints\n",
    "        if self.time_points is not None:\n",
    "            levels += ('timepoint', )\n",
    "        # call second level tile if we have tiles, else image\n",
    "        levels += (('tile', ) if np.max(self.n_tiles) > 1 else ('image', ))\n",
    "\n",
    "        # init pipeline\n",
    "        pl = autosted.AcquisitionPipeline(self.save_path, hierarchy_levels=levels)\n",
    "\n",
    "        # make name handler, add suffix to prevent overwriting exisiting files\n",
    "        numeric_suffix = ImspectorAcquisition.get_smallest_numeric_suffix_for_files(os.path.join(self.save_path, self.file_prefix + '.h5'))\n",
    "        pl.filename_handler = autosted.FilenameHandler(self.save_path, levels, prefix=f'{self.file_prefix}{numeric_suffix}')\n",
    "\n",
    "\n",
    "        tile_positions = centered_tiles(self.position, self.field_of_view, (1, self.n_tiles, self.n_tiles), self.overlap)\n",
    "        tile_generator = PositionListOffsetGenerator(tile_positions)\n",
    "        atg_images = autosted.AcquisitionTaskGenerator(levels[-1],\n",
    "            LocationRemover(JSONSettingsLoader([self.parameters])),\n",
    "            StageOffsetsSettingsGenerator(tile_generator.get_all_locations, True)\n",
    "        )\n",
    "\n",
    "        if self.time_points is not None:\n",
    "            timeseries_callback = TimeSeriesCallback(\"timepoint\")\n",
    "            timeseries_callback.time_points = self.time_points\n",
    "            pl.add_callback(timeseries_callback, \"timepoint\")\n",
    "\n",
    "            # also add tile callback\n",
    "            pl.add_callback(atg_images, \"timepoint\")\n",
    "\n",
    "        if self.time_points is not None:\n",
    "            pl.run(timeseries_callback)\n",
    "        else:\n",
    "            pl.run(atg_images)\n",
    "\n",
    "    def set_parameters_and_start_acquisition(self, n_tiles, time_points):\n",
    "\n",
    "        self.n_tiles = n_tiles\n",
    "        self.time_points = time_points\n",
    "\n",
    "        self.start_pipeline_thread()\n",
    "\n",
    "    def finish_acquisition(self):\n",
    "        if self.pipeline_thread is None:\n",
    "            return\n",
    "        self.pipeline_thread.join()\n",
    "        self.pipeline_thread = None\n",
    "\n",
    "    def run_server(self, host, port):\n",
    "        with SimpleXMLRPCServer((host, port), allow_none=True) as server:\n",
    "            server.register_function(self.finish_acquisition, 'finish_acquisition')\n",
    "            server.register_function(self.set_parameters_and_start_acquisition, 'run_acquisition')\n",
    "            server.serve_forever()\n",
    "\n"
   ]
  },
  {
   "cell_type": "markdown",
   "metadata": {},
   "source": [
    "## Run"
   ]
  },
  {
   "cell_type": "code",
   "execution_count": null,
   "metadata": {},
   "outputs": [],
   "source": [
    "save_path = 'D:/AUTOMATION/microfluidic/20230830_hyb+strip_seq1-seq3/'\n",
    "file_prefix = 'run'\n",
    "acq = ImspectorAcquisition(save_path, file_prefix)\n",
    "\n",
    "acq.run_server('10.163.69.197', 11005)"
   ]
  },
  {
   "cell_type": "markdown",
   "metadata": {},
   "source": [
    "## Tests\n",
    "\n",
    "Using the cells below, you can run an acquisition locally in blocking or threaded mode (or via XMLRPC as above)"
   ]
  },
  {
   "cell_type": "code",
   "execution_count": null,
   "metadata": {},
   "outputs": [],
   "source": [
    "# setup acquisition\n",
    "\n",
    "save_path = 'D:/AUTOMATION/microfluidic/20230403_fish_test_3/'\n",
    "file_prefix = 'dead_time_test'\n",
    "acq = ImspectorAcquisition(save_path, file_prefix)"
   ]
  },
  {
   "cell_type": "markdown",
   "metadata": {},
   "source": [
    "### Run blocking"
   ]
  },
  {
   "cell_type": "code",
   "execution_count": null,
   "metadata": {},
   "outputs": [],
   "source": [
    "acq.time_points = [0, 10, 20]\n",
    "acq.n_tiles = (1, 2)\n",
    "acq.overlap = 0.25\n",
    "acq.run_pipeline()"
   ]
  },
  {
   "cell_type": "markdown",
   "metadata": {},
   "source": [
    "### Run in seperate thread"
   ]
  },
  {
   "cell_type": "code",
   "execution_count": null,
   "metadata": {},
   "outputs": [],
   "source": [
    "acq.time_points = [0, 10, 20]\n",
    "acq.n_tiles = (1, 2)\n",
    "acq.start_pipeline_thread()"
   ]
  },
  {
   "cell_type": "code",
   "execution_count": null,
   "metadata": {},
   "outputs": [],
   "source": [
    "# blocking merge with the acquisition thread \n",
    "acq.finish_acquisition()"
   ]
  },
  {
   "cell_type": "markdown",
   "metadata": {},
   "source": [
    "### Run as XMLRPC server"
   ]
  },
  {
   "cell_type": "code",
   "execution_count": null,
   "metadata": {},
   "outputs": [],
   "source": [
    "import netifaces\n",
    "\n",
    "netifaces.interfaces()"
   ]
  },
  {
   "cell_type": "code",
   "execution_count": null,
   "metadata": {},
   "outputs": [],
   "source": [
    "acq.run_server('10.163.69.197', 11005)"
   ]
  }
 ],
 "metadata": {
  "kernelspec": {
   "display_name": "env-py312",
   "language": "python",
   "name": "python3"
  },
  "language_info": {
   "codemirror_mode": {
    "name": "ipython",
    "version": 3
   },
   "file_extension": ".py",
   "mimetype": "text/x-python",
   "name": "python",
   "nbconvert_exporter": "python",
   "pygments_lexer": "ipython3",
   "version": "3.12.7"
  }
 },
 "nbformat": 4,
 "nbformat_minor": 2
}
