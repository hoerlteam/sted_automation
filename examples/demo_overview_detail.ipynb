{
 "cells": [
  {
   "cell_type": "markdown",
   "metadata": {},
   "source": [
    "# Demo Overview-Detail imaging on simulated data\n",
    "\n",
    "Using a ```DemoImspectorConnection``` to simulate microscopy in an existing dataset, you can use this notebook to test autoSTED without a microscope."
   ]
  },
  {
   "cell_type": "code",
   "execution_count": null,
   "metadata": {},
   "outputs": [],
   "source": [
    "from autosted import AcquisitionPipeline\n",
    "from autosted.callback_buildingblocks import (JSONSettingsLoader,\n",
    "                                              LocationKeeper, LocationRemover,\n",
    "                                              NewestSettingsSelector,\n",
    "                                              ScanModeSettingsGenerator,\n",
    "                                              SpiralOffsetGenerator)\n",
    "from autosted.data import HDF5DataReader\n",
    "from autosted.detection import SegmentationWrapper\n",
    "from autosted.imspector.demo_imspector_connection import DemoImspectorConnection\n",
    "from autosted.stoppingcriteria import MaximumAcquisitionsStoppingCriterion\n",
    "from autosted.taskgeneration import AcquisitionTaskGenerator\n",
    "from autosted.utils.coordinate_utils import get_parameter_value_array_from_dict\n",
    "from autosted.utils.dict_utils import get_parameter_value_array_from_dict\n",
    "from autosted.utils.parameter_constants import OFFSET_STAGE_GLOBAL_PARAMETERS\n",
    "\n",
    "# overwrite to old, non-flipped, stage coordinates\n",
    "# TODO: remove with new test dataset\n",
    "import autosted.utils.coordinate_utils\n",
    "autosted.utils.coordinate_utils.DIRECTION_STAGE = (1,1,1)\n",
    "\n",
    "# setup logging\n",
    "import logging\n",
    "logging.basicConfig(level=logging.INFO)\n"
   ]
  },
  {
   "cell_type": "code",
   "execution_count": null,
   "metadata": {},
   "outputs": [],
   "source": [
    "dataset_path = \"/Users/david/Downloads/20241126_stitching_test/e787e527.h5\"\n",
    "\n",
    "dataset = HDF5DataReader(dataset_path)\n",
    "\n",
    "# get measurement settings & position of first image\n",
    "first_image_id = next(iter(dataset))\n",
    "measurement_settings_first = dataset[first_image_id].measurement_settings[0]\n",
    "start_coords = get_parameter_value_array_from_dict(measurement_settings_first, OFFSET_STAGE_GLOBAL_PARAMETERS)"
   ]
  },
  {
   "cell_type": "code",
   "execution_count": null,
   "metadata": {},
   "outputs": [],
   "source": [
    "from skimage.filters import threshold_otsu\n",
    "from scipy.ndimage import gaussian_filter, label\n",
    "from skimage.segmentation import clear_border\n",
    "from skimage.morphology import dilation, disk, ball\n",
    "\n",
    "\n",
    "def segment(img):\n",
    "    # blur and get Otsu threshold\n",
    "    g = gaussian_filter(img.astype(float), 5)\n",
    "    t = max(3, threshold_otsu(g))\n",
    "    # label connected components, remove objects at border, dilate\n",
    "    labels, _ = label(g > t)\n",
    "    labels = clear_border(labels)\n",
    "    labels = dilation(labels, disk(3) if img.ndim==2 else ball(3))\n",
    "    return labels"
   ]
  },
  {
   "cell_type": "code",
   "execution_count": null,
   "metadata": {},
   "outputs": [],
   "source": [
    "# pipeline with two levels: 'overview', 'detail'\n",
    "pipeline = AcquisitionPipeline(\n",
    "    data_save_path=\"acquisition_data/test\",\n",
    "    hierarchy_levels=[\"overview\", \"detail\"],\n",
    ")\n",
    "\n",
    "# set demo Imspector connection to run on simulated data\n",
    "# NOTE: needs to be done before starting the run\n",
    "imspector = DemoImspectorConnection(dataset_path)\n",
    "pipeline.imspector_connection = imspector\n",
    "\n",
    "next_overview_generator = AcquisitionTaskGenerator(\n",
    "    \"overview\",\n",
    "    # 1. base settings from file\n",
    "    JSONSettingsLoader(measurement_settings_first),\n",
    "    # 2. xy scan mode\n",
    "    ScanModeSettingsGenerator(\"xy\"),\n",
    "    # 3. coordinates from spiral\n",
    "    SpiralOffsetGenerator(\n",
    "        move_size=[50e-6, 50e-6],\n",
    "        start_position=start_coords,\n",
    "    ),\n",
    ")\n",
    "\n",
    "# acquisition task generator for details\n",
    "detail_generator = AcquisitionTaskGenerator(\n",
    "    \"detail\",\n",
    "    # 1. base settings from file\n",
    "    LocationRemover(JSONSettingsLoader(measurement_settings_first)),\n",
    "    # 2. locations (stage) from previous (overview) image\n",
    "    LocationKeeper(NewestSettingsSelector()),\n",
    "    # 3. set scan mode to xyz\n",
    "    ScanModeSettingsGenerator(\"xyz\"),\n",
    "    # 4. segmentation wrapper around segmentation function\n",
    "    SegmentationWrapper(segment),\n",
    ")\n",
    "\n",
    "pipeline.add_callback(next_overview_generator, \"overview\")\n",
    "pipeline.add_callback(detail_generator, \"overview\")\n",
    "\n",
    "pipeline.add_stopping_condition(\n",
    "    # maximum number of images per level\n",
    "    MaximumAcquisitionsStoppingCriterion(\n",
    "        max_acquisitions_per_level={\"overview\": 5, \"detail\": 20}\n",
    "    )\n",
    ")\n",
    "\n",
    "pipeline.run(initial_callback=next_overview_generator)\n"
   ]
  }
 ],
 "metadata": {
  "kernelspec": {
   "display_name": "env-py312",
   "language": "python",
   "name": "python3"
  },
  "language_info": {
   "codemirror_mode": {
    "name": "ipython",
    "version": 3
   },
   "file_extension": ".py",
   "mimetype": "text/x-python",
   "name": "python",
   "nbconvert_exporter": "python",
   "pygments_lexer": "ipython3",
   "version": "3.12.7"
  }
 },
 "nbformat": 4,
 "nbformat_minor": 2
}
