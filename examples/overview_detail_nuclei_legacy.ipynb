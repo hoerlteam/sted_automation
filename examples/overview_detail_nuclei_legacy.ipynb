{
 "cells": [
  {
   "cell_type": "markdown",
   "metadata": {},
   "source": [
    "# Automation of imaging nuclei midplanes using **autoSTED**\n",
    "\n",
    "We used the code in this notebook for overview-detail imaging of DNA-stained nuclei. The pipeline defined here will image confocal overview stacks, followed by STED midplane detail acquisitions of nuclei detected in the overviews (with on-the-fly stirching)\n",
    "\n",
    "This was done to study changes in chromatin textured during (induced) replicative senescense for [Palikyras et al. (Aging Cell, 2024)](https://onlinelibrary.wiley.com/doi/10.1111/acel.14083)\n",
    "\n",
    "### Old versions\n",
    "\n",
    "**Note:** We used older (and messier) versions (v1.0.0) of autosted (then pipeline2) for most of the published studies, which can be found under: https://doi.org/10.5281/zenodo.14627119\n",
    "\n",
    "The corresponding file in the v1.0.0 release is ```auto-nucleus-midplane.ipynb```"
   ]
  },
  {
   "cell_type": "markdown",
   "metadata": {},
   "source": [
    "## Imports and plot settings\n",
    "\n",
    "Run this once"
   ]
  },
  {
   "cell_type": "code",
   "execution_count": 5,
   "metadata": {},
   "outputs": [],
   "source": [
    "import json\n",
    "import logging\n",
    "import os\n",
    "import sys\n",
    "\n",
    "import specpy as sp\n",
    "from matplotlib import pyplot as plt\n",
    "\n",
    "from autosted import AcquisitionPipeline\n",
    "from autosted.callback_buildingblocks import (\n",
    "    JSONSettingsLoader,\n",
    "    LocationKeeper,\n",
    "    LocationRemover,\n",
    "    NewestSettingsSelector,\n",
    "    ScanFieldSettingsGenerator,\n",
    "    SpiralOffsetGenerator,\n",
    "    StageOffsetsSettingsGenerator,\n",
    "    StitchedNewestDataSelector,\n",
    ")\n",
    "from autosted.detection import SimpleFocusPlaneDetector\n",
    "from autosted.detection.legacy import SimpleNucleusMidplaneDetector\n",
    "from autosted.imspector import get_current_stage_coords\n",
    "from autosted.stoppingcriteria import TimedStoppingCriterion\n",
    "from autosted.task_filtering import AlreadyImagedFOVFilter\n",
    "from autosted.taskgeneration import AcquisitionTaskGenerator\n",
    "\n",
    "# plotting params\n",
    "plt.rcParams[\"figure.figsize\"] = [7, 7]\n",
    "\n",
    "# configure logging\n",
    "logging.basicConfig(stream=sys.stdout, level=logging.INFO)"
   ]
  },
  {
   "cell_type": "markdown",
   "metadata": {},
   "source": [
    "## Code definition for a single acquisition\n",
    "\n",
    "Run this once"
   ]
  },
  {
   "cell_type": "code",
   "execution_count": null,
   "metadata": {},
   "outputs": [],
   "source": [
    "def run_pipeline(\n",
    "    save_path,\n",
    "    ov_json,\n",
    "    det_jsons,\n",
    "    start_coords,\n",
    "    ov_moves,\n",
    "    hours_to_image=12,\n",
    "    ignore_z_overlap_check=True,\n",
    "    manual_z_offset=0,\n",
    "):\n",
    "\n",
    "    pl = AcquisitionPipeline(\n",
    "        data_save_path=save_path,\n",
    "        hierarchy_levels=(\"overview\", \"detail\"),\n",
    "        save_combined_hdf5=True,\n",
    "    )\n",
    "\n",
    "    pl.add_stopping_condition(TimedStoppingCriterion(hours_to_image * 60 * 60))\n",
    "\n",
    "    # overview task generator: same settings every time\n",
    "    atg_overview = AcquisitionTaskGenerator(\n",
    "        \"overview\",\n",
    "        LocationRemover(JSONSettingsLoader([ov_json])),\n",
    "        StageOffsetsSettingsGenerator(\n",
    "            SpiralOffsetGenerator(ov_moves, start_coords, return_parameter_dict=False)\n",
    "        ),\n",
    "        StageOffsetsSettingsGenerator(SimpleFocusPlaneDetector()),\n",
    "    )\n",
    "\n",
    "    # init detector in overview\n",
    "    detector = SimpleNucleusMidplaneDetector(\n",
    "        StitchedNewestDataSelector(pl, \"overview\"),\n",
    "        n_classes=2,\n",
    "        manual_offset=manual_z_offset,\n",
    "        verbose=True,\n",
    "        plot_detections=True,\n",
    "        region_filters={\"area\": (100, 100000)},\n",
    "        fov_expansion_factor=1.4,\n",
    "    )\n",
    "\n",
    "    # detail task generation: settings from last overview + new FOV from detector\n",
    "    atg_detail = AcquisitionTaskGenerator(\n",
    "        \"detail\",\n",
    "        LocationKeeper(NewestSettingsSelector(pl, \"overview\")),\n",
    "        LocationRemover(JSONSettingsLoader(det_jsons, None, False)),\n",
    "        ScanFieldSettingsGenerator(detector),\n",
    "    )\n",
    "\n",
    "    # add filter to ignore new bounding boxes that have intersection-over-union >0.5\n",
    "    # with any already scanned bounding boxes\n",
    "    flt = AlreadyImagedFOVFilter(pl, \"detail\", 0.5, ignore_z_overlap_check)\n",
    "    atg_detail.add_task_filters(flt)\n",
    "\n",
    "    # overview callback: re-add overview\n",
    "    pl.add_callback(atg_overview, \"overview\")\n",
    "    # overview callback 2: detect & do detail\n",
    "    pl.add_callback(atg_detail, \"overview\")\n",
    "\n",
    "    # GO\n",
    "    pl.run(atg_overview)"
   ]
  },
  {
   "cell_type": "markdown",
   "metadata": {},
   "source": [
    "## 1) initialize acquisition list and connect to Imspector\n",
    "\n",
    "Run this to initialize the acquisition queue and connect to imspector\n",
    "Re-run to clear queued acquisitions"
   ]
  },
  {
   "cell_type": "code",
   "execution_count": 7,
   "metadata": {},
   "outputs": [],
   "source": [
    "# init acq. list\n",
    "acquisitions = []\n",
    "\n",
    "# imspector object\n",
    "im = sp.get_application()"
   ]
  },
  {
   "cell_type": "markdown",
   "metadata": {},
   "source": [
    "## 2) Enqueue an acquisition\n",
    "\n",
    "Set the parameters for a new acquisition and add it to the queue.\n",
    "**Acquisition will be run at the current stage coordinates**"
   ]
  },
  {
   "cell_type": "code",
   "execution_count": null,
   "metadata": {},
   "outputs": [],
   "source": [
    "params = {}\n",
    "\n",
    "### CHANGE ME!\n",
    "params[\"save_path\"] = \"acquisition_data/auto_nuclei\"\n",
    "\n",
    "# MANUAL OFFSET IN Z, e.g. to image bottom of cell\n",
    "# params['manual_z_offset'] = 1e-6\n",
    "\n",
    "##### (OPTIONALLY) CHANGE US!\n",
    "\n",
    "# how long to image\n",
    "params[\"hours_to_image\"] = 24\n",
    "\n",
    "### PARAMETER FILES\n",
    "# paths of the parameters files\n",
    "# we can use multiple for the STED measurement (e.g. to do both a 2d and 3d STED acq.)\n",
    "params[\"ov_json\"] = \"config_json/test_overview.json\"\n",
    "params[\"det_jsons\"] = [\n",
    "    \"config_json/test_detail.json\",\n",
    "    # 'config_json/test_detail_2.json'\n",
    "]\n",
    "\n",
    "### SPIRAL MOVE SIZE ###\n",
    "# Set this smaller than the overview FOV if you want to use Stitching\n",
    "params[\"ov_moves\"] = [4e-5, 4e-5]  # how much to move in overview spiral\n",
    "\n",
    "# whether to ignore the z coordinate in checking for already imaged regions\n",
    "params[\"ignore_z_overlap_check\"] = True\n",
    "\n",
    "### Things that are set automatically\n",
    "# ensure we use slashes and not backslashes\n",
    "params[\"save_path\"] = params[\"save_path\"].replace(os.sep, \"/\")\n",
    "# start at current coordinates, do not change!\n",
    "params[\"start_coords\"] = get_current_stage_coords(im)\n",
    "\n",
    "# add to queue\n",
    "acquisitions.append(params)\n",
    "\n",
    "# print the currently queued acquisitions\n",
    "print(\n",
    "    \"\"\"\n",
    "Queued Acquisitions:\n",
    "====================\n",
    "\"\"\"\n",
    ")\n",
    "for ac in acquisitions:\n",
    "    print(json.dumps(ac, indent=1))"
   ]
  },
  {
   "cell_type": "markdown",
   "metadata": {},
   "source": [
    "## 3) Run the acquisitions\n",
    "\n",
    "Execute cell below to run the enqueued acquisitions"
   ]
  },
  {
   "cell_type": "code",
   "execution_count": null,
   "metadata": {},
   "outputs": [],
   "source": [
    "# go through queued acquisitions (in reverse)\n",
    "# and run them\n",
    "for ac in reversed(acquisitions):\n",
    "    run_pipeline(**ac)\n",
    "\n",
    "# Reset queued acquisitions\n",
    "# NOTE: if you cancelled a run, this might not be executed,\n",
    "# make sure to clear old acquisitions manually (step 1)\n",
    "acquisitions = []"
   ]
  }
 ],
 "metadata": {
  "kernelspec": {
   "display_name": "autosted-env",
   "language": "python",
   "name": "python3"
  },
  "language_info": {
   "codemirror_mode": {
    "name": "ipython",
    "version": 3
   },
   "file_extension": ".py",
   "mimetype": "text/x-python",
   "name": "python",
   "nbconvert_exporter": "python",
   "pygments_lexer": "ipython3",
   "version": "3.11.4"
  }
 },
 "nbformat": 4,
 "nbformat_minor": 2
}
