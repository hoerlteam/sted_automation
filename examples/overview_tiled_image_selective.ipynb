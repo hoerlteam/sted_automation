{
 "cells": [
  {
   "cell_type": "code",
   "execution_count": 1,
   "metadata": {},
   "outputs": [],
   "source": [
    "import specpy\n",
    "\n",
    "from autosted.callback_buildingblocks.regular_position_generators import PositionListOffsetGenerator\n",
    "from autosted.callback_buildingblocks.parameter_filtering import LocationRemover, LocationKeeper\n",
    "from autosted.callback_buildingblocks.static_settings import FOVSettingsGenerator, ScanModeSettingsGenerator\n",
    "from autosted.callback_buildingblocks.data_selection import NewestSettingsSelector\n",
    "from autosted.callback_buildingblocks.static_settings import JSONSettingsLoader\n",
    "from autosted.detection.clasification_check import AcceptanceCheck\n",
    "from autosted.utils.tiling import centered_tiles\n",
    "from autosted.taskgeneration import AcquisitionTaskGenerator\n",
    "from autosted.pipeline import AcquisitionPipeline\n",
    "from autosted.imspector import get_current_stage_coords"
   ]
  },
  {
   "cell_type": "code",
   "execution_count": 2,
   "metadata": {},
   "outputs": [],
   "source": [
    "def area_above_threshold_check(img, threshold=10, min_area=25):\n",
    "    \"\"\"simple check if enough pixels above background are in an image\"\"\"\n",
    "    return (img >= threshold).sum() >= min_area"
   ]
  },
  {
   "cell_type": "code",
   "execution_count": null,
   "metadata": {},
   "outputs": [],
   "source": [
    "# get current image from Imspector to test\n",
    "im = specpy.get_application()\n",
    "ms = im.active_measurement()\n",
    "img = ms.stack(0).data().squeeze()\n",
    "\n",
    "area_above_threshold_check(img, threshold=100)"
   ]
  },
  {
   "cell_type": "code",
   "execution_count": 11,
   "metadata": {},
   "outputs": [],
   "source": [
    "# where to save & whether to save combined HDF5 file\n",
    "save_folder = 'acquisition_data/20241010_selective_overviews'\n",
    "save_hdf5 = False\n",
    "\n",
    "# path of measurement parameters (dumped to JSON file)\n",
    "measurement_parameters = 'examples/config_json/20241010_overview_3d_640.json'\n",
    "\n",
    "# yx FOV size\n",
    "fov_size = [50e-6, 50e-6]\n",
    "\n",
    "# (larger) pixel sizes for pre_scan (e.g. 1micron)\n",
    "pre_scan_pixelsizes = [1e-6, 1e-6, 1e-6]\n",
    "\n",
    "# scan mode of pre-scan\n",
    "# 'xy' to only do one plane\n",
    "pre_scan_mode = 'xy'\n",
    "\n",
    "# parameter values for area_above_threshold_check\n",
    "acceptance_parameters = {'threshold':50, 'min_area':50}\n",
    "\n",
    "# yx number of tiles\n",
    "n_tiles = [5, 5]\n",
    "\n",
    "# how much the tiles should overlap (0-1)\n",
    "overlap_fraction = 0"
   ]
  },
  {
   "cell_type": "code",
   "execution_count": null,
   "metadata": {},
   "outputs": [],
   "source": [
    "# get current coordinates and print, so we can go back to that position\n",
    "start_coords = get_current_stage_coords()\n",
    "print(start_coords)\n",
    "\n",
    "# generate regular grid around current stage position\n",
    "coordinate_list = centered_tiles(start_coords, fov_size=[0]+fov_size, n_tiles=[1]+n_tiles, overlap=overlap_fraction)\n",
    "\n",
    "# show for verification\n",
    "coordinate_list"
   ]
  },
  {
   "cell_type": "code",
   "execution_count": 12,
   "metadata": {},
   "outputs": [],
   "source": [
    "# build pipeline object (2 levels: 'pre_scan', 'field')\n",
    "pipeline = AcquisitionPipeline(save_folder, ['pre_scan', 'field'], save_combined_hdf5=save_hdf5, name='multipoint-acquisition')\n",
    "\n",
    "# field will re-use the index of the associated pre-scan\n",
    "pipeline._levels_reusing_parent_index = ['field']\n",
    "# pre-scan index will not show up in filename (only for actual pre-scan images)\n",
    "pipeline._masked_levels_in_filename = ['pre_scan']\n",
    "\n",
    "# callback that will create an acquisition task with given measurement parameters\n",
    "# at the next stage coordinates in the coordinate list (the next 'position')\n",
    "next_position_generator = AcquisitionTaskGenerator('pre_scan',\n",
    "    LocationRemover(JSONSettingsLoader(measurement_parameters)),\n",
    "    ScanModeSettingsGenerator(pre_scan_mode),\n",
    "    FOVSettingsGenerator(pixel_sizes=pre_scan_pixelsizes),\n",
    "    PositionListOffsetGenerator(coordinate_list)\n",
    ")\n",
    "\n",
    "# callback to create a measurement with same location, but larger pixel size / 3D\n",
    "# if something is detected in pre-scan via AcceptanceCheck\n",
    "accept_position_callback = AcquisitionTaskGenerator('field',\n",
    "    LocationRemover(JSONSettingsLoader(measurement_parameters)),\n",
    "    LocationKeeper(NewestSettingsSelector()),\n",
    "    AcceptanceCheck(area_above_threshold_check, check_function_kwargs=acceptance_parameters)\n",
    ")\n",
    "\n",
    "# attach callback so that after each position, pre_scan the next one will be enqueued\n",
    "pipeline.add_callback(next_position_generator, 'pre_scan')\n",
    "\n",
    "# attach callback so that after each pre-scan, a more detailled stack will be images, if accepted\n",
    "pipeline.add_callback(accept_position_callback, 'pre_scan')\n",
    "\n",
    "# start with initial task from callback\n",
    "pipeline.run(next_position_generator)"
   ]
  }
 ],
 "metadata": {
  "kernelspec": {
   "display_name": "autosted-env",
   "language": "python",
   "name": "python3"
  },
  "language_info": {
   "codemirror_mode": {
    "name": "ipython",
    "version": 3
   },
   "file_extension": ".py",
   "mimetype": "text/x-python",
   "name": "python",
   "nbconvert_exporter": "python",
   "pygments_lexer": "ipython3",
   "version": "3.11.4"
  }
 },
 "nbformat": 4,
 "nbformat_minor": 4
}
