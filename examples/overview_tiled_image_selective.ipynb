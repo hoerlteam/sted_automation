{
 "cells": [
  {
   "cell_type": "markdown",
   "metadata": {},
   "source": [
    "# 2-step overviews with pre-scan\n",
    "\n",
    "Here, we perform imaging of overviews in a regular grid as in other notebooks. But in addition, we do a **quick pre-scan** with larger pixel size at each location. Only at tiles where we see at least some signal, we do the actual (slower) imaging."
   ]
  },
  {
   "cell_type": "code",
   "execution_count": 1,
   "metadata": {},
   "outputs": [],
   "source": [
    "import specpy\n",
    "\n",
    "from autosted.callback_buildingblocks import (\n",
    "    FOVSettingsGenerator,\n",
    "    JSONSettingsLoader,\n",
    "    LocationKeeper,\n",
    "    LocationRemover,\n",
    "    NewestSettingsSelector,\n",
    "    PositionListOffsetGenerator,\n",
    "    ScanModeSettingsGenerator,\n",
    ")\n",
    "from autosted.detection import AcceptanceCheck\n",
    "from autosted.imspector import get_current_stage_coords\n",
    "from autosted.pipeline import AcquisitionPipeline\n",
    "from autosted.taskgeneration import AcquisitionTaskGenerator\n",
    "from autosted.utils.tiling import centered_tiles"
   ]
  },
  {
   "cell_type": "markdown",
   "metadata": {},
   "source": [
    "We will make use of the ```AcceptanceCheck``` in the pipeline. For that, we need to define a function that returns a boolean (image here / don't image here) decision given an image:"
   ]
  },
  {
   "cell_type": "code",
   "execution_count": 2,
   "metadata": {},
   "outputs": [],
   "source": [
    "def area_above_threshold_check(img, threshold=10, min_area=25):\n",
    "    \"\"\"simple check if enough pixels above background are in an image\"\"\"\n",
    "    return (img >= threshold).sum() >= min_area"
   ]
  },
  {
   "cell_type": "markdown",
   "metadata": {},
   "source": [
    "To test the function, we can e.g. get the currently open image from Imspector:"
   ]
  },
  {
   "cell_type": "code",
   "execution_count": null,
   "metadata": {},
   "outputs": [],
   "source": [
    "# get current image from Imspector to test\n",
    "im = specpy.get_application()\n",
    "ms = im.active_measurement()\n",
    "img = ms.stack(0).data().squeeze()\n",
    "\n",
    "area_above_threshold_check(img, threshold=100)"
   ]
  },
  {
   "cell_type": "markdown",
   "metadata": {},
   "source": [
    "## Parameters of the acquisition"
   ]
  },
  {
   "cell_type": "code",
   "execution_count": 11,
   "metadata": {},
   "outputs": [],
   "source": [
    "# where to save & whether to save combined HDF5 file\n",
    "save_folder = \"acquisition_data/20241010_selective_overviews\"\n",
    "save_hdf5 = False\n",
    "\n",
    "# path of measurement parameters (dumped to JSON file)\n",
    "measurement_parameters = \"examples/config_json/20241010_overview_3d_640.json\"\n",
    "\n",
    "# yx FOV size\n",
    "fov_size = [50e-6, 50e-6]\n",
    "\n",
    "# (larger) pixel sizes for pre_scan (e.g. 1micron)\n",
    "pre_scan_pixelsizes = [1e-6, 1e-6, 1e-6]\n",
    "\n",
    "# scan mode of pre-scan\n",
    "# 'xy' to only do one plane\n",
    "pre_scan_mode = \"xy\"\n",
    "\n",
    "# parameter values for area_above_threshold_check\n",
    "acceptance_parameters = {\"threshold\": 50, \"min_area\": 50}\n",
    "\n",
    "# yx number of tiles\n",
    "n_tiles = [5, 5]\n",
    "\n",
    "# how much the tiles should overlap (0-1)\n",
    "overlap_fraction = 0"
   ]
  },
  {
   "cell_type": "code",
   "execution_count": null,
   "metadata": {},
   "outputs": [],
   "source": [
    "# get current coordinates and print, so we can go back to that position\n",
    "start_coords = get_current_stage_coords()\n",
    "print(start_coords)\n",
    "\n",
    "# generate regular grid around current stage position\n",
    "coordinate_list = centered_tiles(\n",
    "    start_coords,\n",
    "    fov_size=[0] + fov_size,\n",
    "    n_tiles=[1] + n_tiles,\n",
    "    overlap=overlap_fraction,\n",
    ")\n",
    "\n",
    "# show for verification\n",
    "coordinate_list"
   ]
  },
  {
   "cell_type": "markdown",
   "metadata": {},
   "source": [
    "## Setup and run pipeline\n",
    "\n",
    "Now, we set up a two-level (\"pre_scan\", \"field\") pipeline. The pre-scans are done in the regular grid defined above. Additionally in the callback generating them (```next_position_generator```), we use a ```ScanModeSettingsGenerator``` to e.g. only image one xy plane and a ```FOVSettingsGenerator``` to set a larger pixel size.\n",
    "\n",
    "Additionally, we use a second callback (```accept_position_callback```) to enqueue proper images (smaller pixel size, 3D stack) only at positions where our AcceptanceCheck is True."
   ]
  },
  {
   "cell_type": "code",
   "execution_count": 12,
   "metadata": {},
   "outputs": [],
   "source": [
    "# build pipeline object (2 levels: 'pre_scan', 'field')\n",
    "pipeline = AcquisitionPipeline(\n",
    "    save_folder,\n",
    "    [\"pre_scan\", \"field\"],\n",
    "    save_combined_hdf5=save_hdf5,\n",
    "    name=\"multipoint-acquisition\",\n",
    ")\n",
    "\n",
    "# NOTE: some internal index / filename handling\n",
    "# field will re-use the index of the associated pre-scan\n",
    "# e.g. if we image after pre-scan (2,) instead of (2, 0), we give the field idx (2, 2)\n",
    "pipeline._levels_reusing_parent_index = [\"field\"]\n",
    "# pre-scan index will not show up in filename (only for actual pre-scan images)\n",
    "pipeline._masked_levels_in_filename = [\"pre_scan\"]\n",
    "\n",
    "# callback that will create an acquisition task with given measurement parameters\n",
    "# at the next stage coordinates in the coordinate list (the next 'position')\n",
    "next_position_generator = AcquisitionTaskGenerator(\n",
    "    \"pre_scan\",\n",
    "    LocationRemover(JSONSettingsLoader(measurement_parameters)),\n",
    "    # set different scan mode (e.g. only \"xy\")\n",
    "    ScanModeSettingsGenerator(pre_scan_mode),\n",
    "    # set different pixel size\n",
    "    FOVSettingsGenerator(pixel_sizes=pre_scan_pixelsizes),\n",
    "    PositionListOffsetGenerator(coordinate_list),\n",
    ")\n",
    "\n",
    "# callback to create a measurement with same location, but larger pixel size / 3D\n",
    "# if something is detected in pre-scan via AcceptanceCheck\n",
    "accept_position_callback = AcquisitionTaskGenerator(\n",
    "    \"field\",\n",
    "    LocationRemover(JSONSettingsLoader(measurement_parameters)),\n",
    "    # re-use location of pre-scan\n",
    "    LocationKeeper(NewestSettingsSelector()),\n",
    "    AcceptanceCheck(\n",
    "        area_above_threshold_check, check_function_kwargs=acceptance_parameters\n",
    "    ),\n",
    ")\n",
    "\n",
    "# attach callback so that after each position, pre_scan the next one will be enqueued\n",
    "pipeline.add_callback(next_position_generator, \"pre_scan\")\n",
    "\n",
    "# attach callback so that after each pre-scan, a more detailled stack will be images, if accepted\n",
    "pipeline.add_callback(accept_position_callback, \"pre_scan\")\n",
    "\n",
    "# start with initial task from callback\n",
    "pipeline.run(next_position_generator)"
   ]
  }
 ],
 "metadata": {
  "kernelspec": {
   "display_name": "autosted-env",
   "language": "python",
   "name": "python3"
  },
  "language_info": {
   "codemirror_mode": {
    "name": "ipython",
    "version": 3
   },
   "file_extension": ".py",
   "mimetype": "text/x-python",
   "name": "python",
   "nbconvert_exporter": "python",
   "pygments_lexer": "ipython3",
   "version": "3.11.4"
  }
 },
 "nbformat": 4,
 "nbformat_minor": 4
}
