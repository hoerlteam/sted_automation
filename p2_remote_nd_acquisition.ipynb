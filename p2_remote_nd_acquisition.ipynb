{
 "cells": [
  {
   "cell_type": "code",
   "execution_count": null,
   "metadata": {},
   "outputs": [],
   "source": [
    "from threading import Thread\n",
    "import warnings\n",
    "import os\n",
    "from xmlrpc.server import SimpleXMLRPCServer\n",
    "\n",
    "import numpy as np\n",
    "import specpy as sp\n",
    "import h5py as h5\n",
    "\n",
    "import pipeline2 as p2\n",
    "from pipeline2.tiling import centered_tiles\n",
    "\n",
    "class ImspectorAcquisition():\n",
    "\n",
    "    def __init__(self, save_dir, file_prefix) -> None:\n",
    "        self.imspector = sp.get_application()\n",
    "\n",
    "        # TODO: catch no open measurement\n",
    "        self.parameters = self.imspector.active_measurement().active_configuration().parameters('')\n",
    "\n",
    "        self.position = [self.imspector.active_measurement().active_configuration().parameters('ExpControl/scan/range/coarse_' + c + '/g_off') for c in 'xy']\n",
    "        self.field_of_view = [self.imspector.active_measurement().active_configuration().parameters('ExpControl/scan/range/' + c + '/len') for c in 'xy']\n",
    "        self.overlap = 0.1\n",
    "\n",
    "        self.save_path = save_dir\n",
    "        self.file_prefix = file_prefix\n",
    "\n",
    "        self.n_tiles = 1\n",
    "        self.time_points = None\n",
    "\n",
    "        self.pipeline_thread = None\n",
    "\n",
    "    def start_pipeline_thread(self):\n",
    "\n",
    "        if self.pipeline_thread is not None:\n",
    "            raise ValueError('a measurement pipeline is running currently, finish that first.')\n",
    "\n",
    "        self.pipeline_thread = Thread(target=self.run_pipeline)\n",
    "        self.pipeline_thread.start()\n",
    "\n",
    "    @staticmethod\n",
    "    def get_smallest_numeric_suffix_for_files(base_h5_path):\n",
    "        suffix = 0\n",
    "        while os.path.exists(base_h5_path.replace('.h5', f'{suffix}.h5')):\n",
    "            suffix += 1\n",
    "        return suffix\n",
    "\n",
    "    def run_pipeline(self):\n",
    "\n",
    "        # make output dir if it does not exist already\n",
    "        if not os.path.exists(self.save_path):\n",
    "            os.makedirs(self.save_path)\n",
    "\n",
    "        levels = ()\n",
    "        # add timepoint level if we want timepoints\n",
    "        if self.time_points is not None:\n",
    "            levels += ('timepoint', )\n",
    "        # call second level tile if we have tiles, else image\n",
    "        levels += (('tile', ) if np.max(self.n_tiles) > 1 else ('image', ))\n",
    "\n",
    "        pll = p2.PipelineLevels(*levels)\n",
    "\n",
    "        # make name handler, add suffix to prevent overwriting exisiting files\n",
    "        numeric_suffix = ImspectorAcquisition.get_smallest_numeric_suffix_for_files(os.path.join(self.save_path, self.file_prefix + '.h5'))\n",
    "        name_handler = p2.DefaultNameHandler(self.save_path, pll, prefix=f'{self.file_prefix}{numeric_suffix}')\n",
    "\n",
    "        # init pipeline\n",
    "        pl = (p2.AcquisitionPipeline('test-pipeline')\n",
    "                .withImspectorConnection(p2.imspector.ImspectorConnection(self.imspector).withVerbose())\n",
    "                .withPipelineLevels(pll)\n",
    "                .withNameHandler(name_handler)\n",
    "            )\n",
    "\n",
    "        tile_positions = centered_tiles(self.position, self.field_of_view, self.n_tiles, self.overlap)\n",
    "        tile_generator = p2.taskgeneration.StagePositionListGenerator(tile_positions)\n",
    "        atg_images = p2.taskgeneration.AcquisitionTaskGenerator(pll.levels[-1],\n",
    "            p2.taskgeneration.DefaultLocationRemover(p2.taskgeneration.JSONFileConfigLoader([self.parameters])),\n",
    "            p2.taskgeneration.DefaultStageOffsetsSettingsGenerator(tile_generator, True, tile_generator.get_all_locations)\n",
    "        )\n",
    "\n",
    "        if self.time_points is not None:\n",
    "            timeseries_callback = p2.taskgeneration.taskgeneration.TimeSeriesCallback(pll.timepoint)\n",
    "            timeseries_callback.time_points = self.time_points\n",
    "            pl.withCallbackAtLevel(timeseries_callback, pll.timepoint)\n",
    "\n",
    "            # also add tile callback\n",
    "            pl.withCallbackAtLevel(atg_images, pll.timepoint)\n",
    "\n",
    "        h5file_name = name_handler.get_path([]).replace('.msr', '.h5')\n",
    "\n",
    "        # open resulting h5 file in context manager\n",
    "        with h5.File(h5file_name, mode='a') as h5fd:\n",
    "            data_store = p2.HDF5DataStore(h5fd, pll)\n",
    "            pl.withDataStorage(data_store)\n",
    "\n",
    "            if self.time_points is not None:\n",
    "                timeseries_callback.initialize_time_series(pl)\n",
    "            else:\n",
    "                atg_images(pl)\n",
    "\n",
    "            pl.run()\n",
    "\n",
    "\n",
    "    def set_parameters_and_start_acquisition(self, n_tiles, time_points):\n",
    "\n",
    "        self.n_tiles = n_tiles\n",
    "        self.time_points = time_points\n",
    "\n",
    "        self.start_pipeline_thread()\n",
    "\n",
    "    def finish_acquisition(self):\n",
    "        if self.pipeline_thread is None:\n",
    "            return\n",
    "        self.pipeline_thread.join()\n",
    "        self.pipeline_thread = None\n",
    "\n",
    "    def run_server(self, host, port):\n",
    "        with SimpleXMLRPCServer((host, port), allow_none=True) as server:\n",
    "            server.register_function(self.finish_acquisition, 'finish_acquisition')\n",
    "            server.register_function(self.set_parameters_and_start_acquisition, 'run_acquisition')\n",
    "            server.serve_forever()\n",
    "\n"
   ]
  },
  {
   "cell_type": "markdown",
   "metadata": {},
   "source": [
    "## Tests"
   ]
  },
  {
   "cell_type": "code",
   "execution_count": null,
   "metadata": {},
   "outputs": [],
   "source": [
    "# setup acquisition\n",
    "\n",
    "save_path = 'D:/AUTOMATION/TEST/'\n",
    "file_prefix = 'tiletest'\n",
    "acq = ImspectorAcquisition(save_path, file_prefix)"
   ]
  },
  {
   "cell_type": "markdown",
   "metadata": {},
   "source": [
    "### Run blocking"
   ]
  },
  {
   "cell_type": "code",
   "execution_count": null,
   "metadata": {},
   "outputs": [],
   "source": [
    "acq.time_points = [0, 10, 20]\n",
    "acq.n_tiles = (2, 2)\n",
    "acq.overlap = 0.25\n",
    "acq.run_pipeline()"
   ]
  },
  {
   "cell_type": "markdown",
   "metadata": {},
   "source": [
    "### Run in seperate thread"
   ]
  },
  {
   "cell_type": "code",
   "execution_count": null,
   "metadata": {},
   "outputs": [],
   "source": [
    "acq.time_points = [0, 10, 20]\n",
    "acq.n_tiles = (1, 2)\n",
    "acq.start_pipeline_thread()"
   ]
  },
  {
   "cell_type": "code",
   "execution_count": null,
   "metadata": {},
   "outputs": [],
   "source": [
    "acq.finish_acquisition()"
   ]
  },
  {
   "cell_type": "markdown",
   "metadata": {},
   "source": [
    "### Run as XMLRPC server"
   ]
  },
  {
   "cell_type": "code",
   "execution_count": null,
   "metadata": {},
   "outputs": [],
   "source": [
    "acq.run_server('localhost', 11005)"
   ]
  }
 ],
 "metadata": {
  "kernelspec": {
   "display_name": "Python 3.7.6 ('base')",
   "language": "python",
   "name": "python3"
  },
  "language_info": {
   "codemirror_mode": {
    "name": "ipython",
    "version": 3
   },
   "file_extension": ".py",
   "mimetype": "text/x-python",
   "name": "python",
   "nbconvert_exporter": "python",
   "pygments_lexer": "ipython3",
   "version": "3.7.6"
  },
  "orig_nbformat": 4,
  "vscode": {
   "interpreter": {
    "hash": "caf6efcfc89aba1bdbf0711d0a9a79bee9c38cecffe6efe1da5a20860731374b"
   }
  }
 },
 "nbformat": 4,
 "nbformat_minor": 2
}
