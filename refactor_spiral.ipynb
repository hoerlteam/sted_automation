{
 "cells": [
  {
   "cell_type": "code",
   "execution_count": null,
   "metadata": {},
   "outputs": [],
   "source": [
    "import specpy\n",
    "\n",
    "from pipeline2.taskgeneration.coordinate_building_blocks import StagePositionListGenerator, StageOffsetsSettingsGenerator\n",
    "from pipeline2.taskgeneration.coordinate_building_blocks import SpiralOffsetGenerator\n",
    "from pipeline2.taskgeneration.parameter_filtering import DefaultLocationRemover\n",
    "from pipeline2.callback_buildingblocks.static_settings import FOVSettingsGenerator\n",
    "from pipeline2.detection import SimpleFocusPlaneDetector, SimpleManualOffset\n",
    "from pipeline2.callback_buildingblocks.data_selection import NewestDataSelector\n",
    "from pipeline2.utils.tiling import centered_tiles\n",
    "from pipeline2.callback_buildingblocks.static_settings import JSONSettingsLoader\n",
    "from pipeline2.stoppingcriteria import MaximumAcquisitionsStoppingCriterion\n",
    "from pipeline2.taskgeneration import AcquisitionTaskGenerator\n",
    "from pipeline2.pipeline import AcquisitionPipeline\n",
    "from pipeline2.imspector import get_current_stage_coords"
   ]
  },
  {
   "cell_type": "code",
   "execution_count": null,
   "metadata": {},
   "outputs": [],
   "source": [
    "# where to save & whether to save combined HDF5 file\n",
    "save_folder = 'D:/AUTOMATION/Gabi/GS487_Dppa3_all_mESC/raw'\n",
    "save_hdf5 = True\n",
    "\n",
    "# path of measurement parameters (dumped to JSON file)\n",
    "measurement_parameters = 'C:/Users/RESOLFT/Desktop/config_json/gabi/20240307_590_480_overview.json'\n",
    "\n",
    "# yx FOV size\n",
    "fov_size = [50e-6, 50e-6]\n",
    "\n",
    "# channel to focus in\n",
    "focus_channel = 0\n",
    "\n",
    "# manual offset (zyx) to focus\n",
    "manual_focus_offset = [0, 0, 0]"
   ]
  },
  {
   "cell_type": "code",
   "execution_count": null,
   "metadata": {},
   "outputs": [],
   "source": [
    "# get current coordinates and print, so we can go back to that position\n",
    "start_coords = get_current_stage_coords()\n",
    "print(start_coords)"
   ]
  },
  {
   "cell_type": "code",
   "execution_count": null,
   "metadata": {},
   "outputs": [],
   "source": [
    "# build pipeline object (1 level: 'field')\n",
    "pipeline = AcquisitionPipeline('multipoint-acquisition', save_folder, ['field'], save_combined_hdf5=save_hdf5)\n",
    "\n",
    "# callback that will create an acquisition task with given measurement parameters\n",
    "# at the next stage coordinates in the coordinate list (the next 'position')\n",
    "next_position_generator = AcquisitionTaskGenerator('field',\n",
    "    DefaultLocationRemover(JSONSettingsLoader(measurement_parameters, as_measurements=False)),\n",
    "    FOVSettingsGenerator(lengths=[12e-6, 50e-6, 50e-6], pixel_sizes=None),\n",
    "    StageOffsetsSettingsGenerator(SpiralOffsetGenerator(fov_size, start_coords[1:])),\n",
    "    StageOffsetsSettingsGenerator(\n",
    "        SimpleManualOffset(\n",
    "            SimpleFocusPlaneDetector(\n",
    "                NewestDataSelector(pipeline, level='field'),\n",
    "                channel=focus_channel\n",
    "        ), offset=manual_focus_offset))\n",
    "    )\n",
    "\n",
    "# attach callback so that after each position, the next one will be enqueued\n",
    "pipeline.add_callback(next_position_generator, 'field')\n",
    "\n",
    "# set maximum number of acquisitions before stop\n",
    "pipeline.add_stopping_condition(MaximumAcquisitionsStoppingCriterion(500))\n",
    "\n",
    "# start with initial task from callback\n",
    "pipeline.run(next_position_generator)"
   ]
  }
 ],
 "metadata": {
  "kernelspec": {
   "display_name": "Python 3.7.6 ('base')",
   "language": "python",
   "name": "python3"
  },
  "language_info": {
   "codemirror_mode": {
    "name": "ipython",
    "version": 3
   },
   "file_extension": ".py",
   "mimetype": "text/x-python",
   "name": "python",
   "nbconvert_exporter": "python",
   "pygments_lexer": "ipython3",
   "version": "3.7.6"
  },
  "orig_nbformat": 4,
  "vscode": {
   "interpreter": {
    "hash": "caf6efcfc89aba1bdbf0711d0a9a79bee9c38cecffe6efe1da5a20860731374b"
   }
  }
 },
 "nbformat": 4,
 "nbformat_minor": 2
}
