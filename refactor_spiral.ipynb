{
 "cells": [
  {
   "cell_type": "code",
   "execution_count": null,
   "metadata": {},
   "outputs": [],
   "source": [
    "from autosted.callback_buildingblocks.regular_position_generators import SpiralOffsetGenerator\n",
    "from autosted.callback_buildingblocks.parameter_filtering import LocationRemover\n",
    "from autosted.callback_buildingblocks.static_settings import FOVSettingsGenerator\n",
    "from autosted.callback_buildingblocks.coordinate_value_wrappers import StageOffsetsSettingsGenerator\n",
    "from autosted.detection import SimpleFocusPlaneDetector\n",
    "from autosted.callback_buildingblocks.value_wrappers import SimpleManualOffset\n",
    "from autosted.callback_buildingblocks.data_selection import NewestDataSelector\n",
    "from autosted.callback_buildingblocks.static_settings import JSONSettingsLoader\n",
    "from autosted.stoppingcriteria import MaximumAcquisitionsStoppingCriterion, TimedStoppingCriterion\n",
    "from autosted.taskgeneration import AcquisitionTaskGenerator\n",
    "from autosted.pipeline import AcquisitionPipeline\n",
    "from autosted.imspector import get_current_stage_coords"
   ]
  },
  {
   "cell_type": "code",
   "execution_count": null,
   "metadata": {},
   "outputs": [],
   "source": [
    "# where to save & whether to save combined HDF5 file\n",
    "save_folder = 'D:/AUTOMATION/Gabi/GS487_Dppa3_all_mESC/raw'\n",
    "save_hdf5 = True\n",
    "\n",
    "# path of measurement parameters (dumped to JSON file)\n",
    "measurement_parameters = 'C:/Users/RESOLFT/Desktop/config_json/gabi/20240307_590_480_overview.json'\n",
    "\n",
    "# yx move size between images in spiral\n",
    "move_size = [50e-6, 50e-6]\n",
    "\n",
    "# channel to focus in\n",
    "focus_channel = 0\n",
    "\n",
    "# manual offset (zyx) to focus\n",
    "manual_focus_offset = [0, 0, 0]"
   ]
  },
  {
   "cell_type": "code",
   "execution_count": null,
   "metadata": {},
   "outputs": [],
   "source": [
    "# get current coordinates and print, so we can go back to that position\n",
    "start_coords = get_current_stage_coords()\n",
    "print(start_coords)"
   ]
  },
  {
   "cell_type": "code",
   "execution_count": null,
   "metadata": {},
   "outputs": [],
   "source": [
    "# build pipeline object (1 level: 'field')\n",
    "pipeline = AcquisitionPipeline(save_folder, ['field'], save_combined_hdf5=save_hdf5, name='multipoint-acquisition')\n",
    "\n",
    "# callback that will create an acquisition task with given measurement parameters\n",
    "# at the next stage coordinates in the coordinate list (the next 'position')\n",
    "next_position_generator = AcquisitionTaskGenerator('field',\n",
    "    # 1. load basic measurement parameters from file\n",
    "    LocationRemover(JSONSettingsLoader(measurement_parameters, as_measurements=False)),\n",
    "    # 2. (optional) update FOV to match spiral move size in yx (leave z & pixel size as-is -> None)\n",
    "    FOVSettingsGenerator(lengths=[None] + move_size, pixel_sizes=None),\n",
    "    # 3. get next position, wrap values as stage offset in parameter dict\n",
    "    # NOTE: old version, by now, the inner SpiralOffsetGenerator will return a parameter dict by default\n",
    "    # so this will do the same: SpiralOffsetGenerator(move_size, start_coords[1:])\n",
    "    StageOffsetsSettingsGenerator(SpiralOffsetGenerator(move_size, start_coords[1:], return_parameter_dict=False)),\n",
    "    # 4. (optional) adjust focus based on last image\n",
    "    # nested callbacks are best read inside-out:\n",
    "    # get latest data, get focus plane, optionally add manual offset, wrap values in offset settings dict\n",
    "    StageOffsetsSettingsGenerator(\n",
    "        SimpleManualOffset(\n",
    "            SimpleFocusPlaneDetector(\n",
    "                NewestDataSelector(pipeline, level='field'),\n",
    "                channel=focus_channel\n",
    "        ), offset=manual_focus_offset))\n",
    "    )\n",
    "\n",
    "# attach callback so that after each position, the next one will be enqueued\n",
    "pipeline.add_callback(next_position_generator, 'field')\n",
    "\n",
    "# set maximum number of acquisitions before stop\n",
    "pipeline.add_stopping_condition(MaximumAcquisitionsStoppingCriterion(500))\n",
    "\n",
    "# start with initial task from callback\n",
    "pipeline.run(next_position_generator)"
   ]
  }
 ],
 "metadata": {
  "kernelspec": {
   "display_name": "env-py312",
   "language": "python",
   "name": "python3"
  },
  "language_info": {
   "codemirror_mode": {
    "name": "ipython",
    "version": 3
   },
   "file_extension": ".py",
   "mimetype": "text/x-python",
   "name": "python",
   "nbconvert_exporter": "python",
   "pygments_lexer": "ipython3",
   "version": "3.12.7"
  },
  "orig_nbformat": 4
 },
 "nbformat": 4,
 "nbformat_minor": 2
}
