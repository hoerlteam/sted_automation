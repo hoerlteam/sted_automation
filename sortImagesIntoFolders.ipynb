{
 "cells": [
  {
   "cell_type": "code",
   "execution_count": null,
   "metadata": {
    "collapsed": false,
    "scrolled": true
   },
   "outputs": [],
   "source": [
    "import os\n",
    "import re\n",
    "import sys\n",
    "import shutil\n",
    "\n",
    "from PIL import Image\n",
    "from matplotlib import pyplot as plt\n",
    "%matplotlib inline\n",
    "plt.rcParams[\"figure.figsize\"] = [6, 6]\n"
   ]
  },
  {
   "cell_type": "code",
   "execution_count": null,
   "metadata": {
    "collapsed": false,
    "scrolled": true
   },
   "outputs": [],
   "source": [
    "def mkdir_if_necessary(path):\n",
    "    if not os.path.exists(path):\n",
    "        os.makedirs(path)"
   ]
  },
  {
   "cell_type": "code",
   "execution_count": null,
   "metadata": {
    "collapsed": false,
    "scrolled": true
   },
   "outputs": [],
   "source": [
    "def exists_with_postfix(path, postfix=\".jpg\"):\n",
    "    return os.path.exists(path + postfix)\n"
   ]
  },
  {
   "cell_type": "code",
   "execution_count": null,
   "metadata": {
    "collapsed": true,
    "scrolled": false
   },
   "outputs": [],
   "source": [
    "def sort_overviews(d):\n",
    "    files = next(os.walk(d))[2]\n",
    "\n",
    "    ov_d = os.path.join(d, 'overviews')\n",
    "    mkdir_if_necessary(ov_d)\n",
    "\n",
    "    p = re.compile('.*?field.*?sted.*?')\n",
    "\n",
    "    for f in files:\n",
    "        if not re.match(p, f):\n",
    "            shutil.move(os.path.join(d, f), os.path.join(ov_d, f))        "
   ]
  },
  {
   "cell_type": "code",
   "execution_count": null,
   "metadata": {
    "collapsed": true
   },
   "outputs": [],
   "source": [
    "### 1: set the directory to process\n",
    "#dir_to_process = os.path.join(os.getcwd(), 'AutomatedAcquisitions')\n",
    "dir_to_process = '/Users/david/Desktop/5th_shipment_20161028/mixed_150s_B/'"
   ]
  },
  {
   "cell_type": "code",
   "execution_count": null,
   "metadata": {
    "collapsed": false,
    "scrolled": false
   },
   "outputs": [],
   "source": [
    "### 2: move all the overview files into a separate folder\n",
    "dirs = [d for d in next(os.walk(dir_to_process))[1] if not d.startswith('.')]\n",
    "print(dirs)\n",
    "\n",
    "for d in dirs:\n",
    "    sort_overviews(os.path.join(dir_to_process, d))"
   ]
  },
  {
   "cell_type": "code",
   "execution_count": null,
   "metadata": {
    "collapsed": true
   },
   "outputs": [],
   "source": [
    "### 3: set subfolder to process\n",
    "d = os.path.join(dir_to_process, 'K562_150sec_B')"
   ]
  },
  {
   "cell_type": "code",
   "execution_count": null,
   "metadata": {
    "collapsed": false,
    "scrolled": false
   },
   "outputs": [],
   "source": [
    "### 4: SORTING into good/bad/mediocre\n",
    "\n",
    "\n",
    "gd_d = os.path.join(d, 'good')\n",
    "bd_d = os.path.join(d, 'bad')\n",
    "md_d = os.path.join(d, 'mediocre')\n",
    "\n",
    "mkdir_if_necessary(gd_d)\n",
    "mkdir_if_necessary(bd_d)\n",
    "mkdir_if_necessary(md_d)\n",
    "\n",
    "files = [f for f in next(os.walk(d))[2] if f.endswith('.msr')]\n",
    "\n",
    "for fi in files:\n",
    "    f = os.path.join(d,fi)\n",
    "    im = Image.open(f + \".jpg\")\n",
    "    plt.imshow(im)\n",
    "    plt.show()\n",
    "    print('-----')\n",
    "    sys.stdout.flush()\n",
    "    decision = input(\"ISGOOD? [(g)ood/(b)ad/(m)ediocre] :\")\n",
    "    dec = decision.upper()[0]\n",
    "    \n",
    "    # print(dec == \"G\")\n",
    "    \n",
    "    if dec == \"G\":\n",
    "        shutil.move(os.path.join(d, fi), os.path.join(gd_d, fi))\n",
    "        shutil.move(os.path.join(d, fi + \".jpg\"), os.path.join(gd_d, fi + \".jpg\"))\n",
    "    elif dec == \"B\":\n",
    "        shutil.move(os.path.join(d, fi), os.path.join(bd_d, fi))\n",
    "        shutil.move(os.path.join(d, fi + \".jpg\"), os.path.join(bd_d, fi + \".jpg\"))\n",
    "    elif dec == \"M\":\n",
    "        shutil.move(os.path.join(d, fi), os.path.join(md_d, fi))\n",
    "        shutil.move(os.path.join(d, fi + \".jpg\"), os.path.join(md_d, fi + \".jpg\"))\n",
    "    else:\n",
    "        pass\n"
   ]
  }
 ],
 "metadata": {
  "kernelspec": {
   "display_name": "Python 3",
   "language": "python",
   "name": "python3"
  },
  "language_info": {
   "codemirror_mode": {
    "name": "ipython",
    "version": 3
   },
   "file_extension": ".py",
   "mimetype": "text/x-python",
   "name": "python",
   "nbconvert_exporter": "python",
   "pygments_lexer": "ipython3",
   "version": "3.5.1"
  }
 },
 "nbformat": 4,
 "nbformat_minor": 0
}
