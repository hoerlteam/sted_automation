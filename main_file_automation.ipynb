{
 "cells": [
  {
   "cell_type": "code",
   "execution_count": 3,
   "metadata": {
    "collapsed": false
   },
   "outputs": [],
   "source": [
    "from specpy import *\n",
    "from Util.coordinates import *\n",
    "from Util.datastructures import *\n",
    "from Util.tile_util import *\n",
    "from Util.imspector_util import *\n",
    "im = Imspector()\n",
    "ms = im.active_measurement()\n",
    "import pprint\n",
    "params = ms.parameters()\n",
    "\n",
    "from Util import datastructures, imspector_util\n",
    "import time\n"
   ]
  },
  {
   "cell_type": "code",
   "execution_count": 2,
   "metadata": {
    "collapsed": false
   },
   "outputs": [],
   "source": [
    "s = datastructures.Settings()"
   ]
  },
  {
   "cell_type": "code",
   "execution_count": 2,
   "metadata": {
    "collapsed": false
   },
   "outputs": [],
   "source": [
    "#s.load_from_file('C://Users//RESOLFT//Desktop//test.json')\n",
    "\n",
    "\n",
    "imspector_util.acquire_measurement(im, ms, 'C://Users//RESOLFT//Desktop//test.json', 'C://Users//RESOLFT//Desktop//', 'aaaaaa', '1')"
   ]
  },
  {
   "cell_type": "code",
   "execution_count": 29,
   "metadata": {
    "collapsed": false
   },
   "outputs": [],
   "source": [
    "#print(s)\n",
    "s.apply_to_settings_dict(params)\n",
    "#for k,v in s.settings.items():\n",
    "#    print(type(v))"
   ]
  },
  {
   "cell_type": "code",
   "execution_count": 30,
   "metadata": {
    "collapsed": false
   },
   "outputs": [],
   "source": [
    "ms.set_parameters(params)"
   ]
  },
  {
   "cell_type": "code",
   "execution_count": 22,
   "metadata": {
    "collapsed": false
   },
   "outputs": [],
   "source": [
    "\n",
    "for offset in [1e-5, 2e-5, 3e-5]:\n",
    "    time.sleep(1)\n",
    "    s[\"OlympusIX/scanrange/x/offset\"] = offset\n",
    "    paramsI = ms.parameters()\n",
    "    s.apply_to_settings_dict(paramsI)\n",
    "    ms.set_parameters(paramsI)\n"
   ]
  },
  {
   "cell_type": "code",
   "execution_count": 4,
   "metadata": {
    "collapsed": false
   },
   "outputs": [],
   "source": []
  },
  {
   "cell_type": "code",
   "execution_count": 3,
   "metadata": {
    "collapsed": false
   },
   "outputs": [],
   "source": [
    "benc = [1.23e-06, 2.2e-06, 0]\n",
    "co.set_bench_coords(benc)\n",
    "see = Settings()"
   ]
  },
  {
   "cell_type": "code",
   "execution_count": 4,
   "metadata": {
    "collapsed": false
   },
   "outputs": [
    {
     "name": "stdout",
     "output_type": "stream",
     "text": [
      "{'ExpControl/scan/range/x/len': 0, 'ExpControl/scan/range/y/len': 0, 'OlympusIX/scanrange/y/offset': 2.2e-06, 'ExpControl/scan/range/x/off': 0, 'OlympusIX/scanrange/z/off': 0, 'ExpControl/scan/range/z/off': 0, 'OlympusIX/scanrange/x/offset': 1.23e-06, 'ExpControl/scan/range/y/off': 0, 'ExpControl/scan/range/z/len': 0}\n"
     ]
    }
   ],
   "source": [
    "see.set_to_coordinates(co)\n",
    "print(see.settings)\n",
    "see.apply_to_settings_dict(params)"
   ]
  },
  {
   "cell_type": "code",
   "execution_count": 5,
   "metadata": {
    "collapsed": false
   },
   "outputs": [],
   "source": [
    "ms.set_parameters(params)"
   ]
  },
  {
   "cell_type": "code",
   "execution_count": null,
   "metadata": {
    "collapsed": true
   },
   "outputs": [],
   "source": [
    "'''\n",
    "TODO: maybe implement smthng like that\n",
    "def check_paramters(params, defaults):\n",
    "    check_coordinates_valid(get_stage_goordinates(params), defaults.min_stage, defaults.Max_stage)\n",
    "    \n",
    "def set_parameters_safe(params, ms):\n",
    "    if (check_parameters(params)):\n",
    "        ms.set_parameters(params)\n",
    "    else:\n",
    "        raise Exception('Do not want')\n",
    "'''"
   ]
  },
  {
   "cell_type": "code",
   "execution_count": 5,
   "metadata": {
    "collapsed": false
   },
   "outputs": [
    {
     "data": {
      "text/plain": [
       "(1, 2, 1)"
      ]
     },
     "execution_count": 5,
     "metadata": {},
     "output_type": "execute_result"
    }
   ],
   "source": [
    "### TEST check coords\n",
    "check_coordinates_valid([1.00000001,1], [-1,-1], [1,1])\n",
    "(1,2) + tuple([1])"
   ]
  },
  {
   "cell_type": "code",
   "execution_count": 4,
   "metadata": {
    "collapsed": false
   },
   "outputs": [],
   "source": [
    "params = ms.parameters()\n",
    "see = Settings()\n",
    "coords = generate_grid_oop([0,0], [1e-3, 1e-3], [2e-4, 2e-4])\n",
    "\n",
    "for c in coords[:5]:\n",
    "    see.set_to_coordinates(c)\n",
    "    acquire_measurement_dummy(im, see)"
   ]
  }
 ],
 "metadata": {
  "kernelspec": {
   "display_name": "Python 3",
   "language": "python",
   "name": "python3"
  },
  "language_info": {
   "codemirror_mode": {
    "name": "ipython",
    "version": 3
   },
   "file_extension": ".py",
   "mimetype": "text/x-python",
   "name": "python",
   "nbconvert_exporter": "python",
   "pygments_lexer": "ipython3",
   "version": "3.5.1"
  }
 },
 "nbformat": 4,
 "nbformat_minor": 0
}
