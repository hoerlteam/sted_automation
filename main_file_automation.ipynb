{
 "cells": [
  {
   "cell_type": "code",
   "execution_count": 7,
   "metadata": {
    "collapsed": false
   },
   "outputs": [],
   "source": [
    "from specpy import *\n",
    "im = Imspector()\n",
    "ms = im.active_measurement()\n",
    "import pprint\n",
    "params = ms.parameters()\n",
    "\n",
    "from Util import datastructures\n",
    "import time\n"
   ]
  },
  {
   "cell_type": "code",
   "execution_count": 13,
   "metadata": {
    "collapsed": false
   },
   "outputs": [],
   "source": [
    "s = datastructures.Settings()"
   ]
  },
  {
   "cell_type": "code",
   "execution_count": 23,
   "metadata": {
    "collapsed": true
   },
   "outputs": [],
   "source": [
    "s.load_from_file('C://Users//RESOLFT//Desktop//test.json')"
   ]
  },
  {
   "cell_type": "code",
   "execution_count": 24,
   "metadata": {
    "collapsed": false
   },
   "outputs": [],
   "source": [
    "#print(s)\n",
    "s.apply_to_settings_dict(params)\n",
    "#for k,v in s.settings.items():\n",
    "#    print(type(v))"
   ]
  },
  {
   "cell_type": "code",
   "execution_count": 25,
   "metadata": {
    "collapsed": false
   },
   "outputs": [],
   "source": [
    "ms.set_parameters(params)"
   ]
  },
  {
   "cell_type": "code",
   "execution_count": 22,
   "metadata": {
    "collapsed": false
   },
   "outputs": [],
   "source": [
    "\n",
    "for offset in [1e-5, 2e-5, 3e-5]:\n",
    "    time.sleep(1)\n",
    "    s[\"OlympusIX/scanrange/x/offset\"] = offset\n",
    "    paramsI = ms.parameters()\n",
    "    s.apply_to_settings_dict(paramsI)\n",
    "    ms.set_parameters(paramsI)\n"
   ]
  }
 ],
 "metadata": {
  "kernelspec": {
   "display_name": "Python 3",
   "language": "python",
   "name": "python3"
  },
  "language_info": {
   "codemirror_mode": {
    "name": "ipython",
    "version": 3
   },
   "file_extension": ".py",
   "mimetype": "text/x-python",
   "name": "python",
   "nbconvert_exporter": "python",
   "pygments_lexer": "ipython3",
   "version": "3.5.1"
  }
 },
 "nbformat": 4,
 "nbformat_minor": 0
}
