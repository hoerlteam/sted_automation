{
 "cells": [
  {
   "cell_type": "code",
   "execution_count": 4,
   "metadata": {
    "collapsed": false
   },
   "outputs": [],
   "source": [
    "from specpy import *\n",
    "from Util.coordinates import *\n",
    "from Util.datastructures import *\n",
    "from Util.tile_util import *\n",
    "from Util.imspector_util import *\n",
    "from Util.coordinate_util import *\n",
    "from Util.dot_detection.Fiji_dummy import *\n",
    "from Util.dot_detection.Fiji_coordinate_detection import read_coords\n",
    "im = Imspector()\n",
    "im.create_measurement()\n",
    "ms = im.active_measurement()\n",
    "import pprint\n",
    "params = ms.parameters()\n",
    "\n",
    "from Util import datastructures, imspector_util\n",
    "import time\n"
   ]
  },
  {
   "cell_type": "code",
   "execution_count": 2,
   "metadata": {
    "collapsed": false
   },
   "outputs": [],
   "source": [
    "s = datastructures.Settings()"
   ]
  },
  {
   "cell_type": "code",
   "execution_count": 2,
   "metadata": {
    "collapsed": false
   },
   "outputs": [],
   "source": [
    "#s.load_from_file('C://Users//RESOLFT//Desktop//test.json')\n",
    "\n",
    "\n",
    "imspector_util.acquire_measurement(im, ms, 'C://Users//RESOLFT//Desktop//test.json', 'C://Users//RESOLFT//Desktop//', 'aaaaaa', '1')"
   ]
  },
  {
   "cell_type": "code",
   "execution_count": 29,
   "metadata": {
    "collapsed": false
   },
   "outputs": [],
   "source": [
    "#print(s)\n",
    "s.apply_to_settings_dict(params)\n",
    "#for k,v in s.settings.items():\n",
    "#    print(type(v))"
   ]
  },
  {
   "cell_type": "code",
   "execution_count": 10,
   "metadata": {
    "collapsed": false
   },
   "outputs": [
    {
     "ename": "RuntimeError",
     "evalue": "No parameters for device 'is_active'",
     "output_type": "error",
     "traceback": [
      "\u001b[1;31m---------------------------------------------------------------------------\u001b[0m",
      "\u001b[1;31mRuntimeError\u001b[0m                              Traceback (most recent call last)",
      "\u001b[1;32m<ipython-input-10-0d4758c803b3>\u001b[0m in \u001b[0;36m<module>\u001b[1;34m()\u001b[0m\n\u001b[1;32m----> 1\u001b[1;33m \u001b[0mms\u001b[0m\u001b[1;33m.\u001b[0m\u001b[0mset_parameters\u001b[0m\u001b[1;33m(\u001b[0m\u001b[0mparams\u001b[0m\u001b[1;33m)\u001b[0m\u001b[1;33m\u001b[0m\u001b[0m\n\u001b[0m",
      "\u001b[1;31mRuntimeError\u001b[0m: No parameters for device 'is_active'"
     ]
    }
   ],
   "source": [
    "ms.set_parameters(params)"
   ]
  },
  {
   "cell_type": "code",
   "execution_count": 22,
   "metadata": {
    "collapsed": false
   },
   "outputs": [],
   "source": [
    "for offset in [1e-5, 2e-5, 3e-5]:\n",
    "    time.sleep(1)\n",
    "    s[\"OlympusIX/scanrange/x/offset\"] = offset\n",
    "    paramsI = ms.parameters()\n",
    "    s.apply_to_settings_dict(paramsI)\n",
    "    ms.set_parameters(paramsI)"
   ]
  },
  {
   "cell_type": "code",
   "execution_count": null,
   "metadata": {
    "collapsed": false
   },
   "outputs": [],
   "source": []
  },
  {
   "cell_type": "code",
   "execution_count": 3,
   "metadata": {
    "collapsed": false
   },
   "outputs": [],
   "source": [
    "benc = [1.23e-06, 2.2e-06, 0]\n",
    "co.set_bench_coords(benc)\n",
    "see = Settings()"
   ]
  },
  {
   "cell_type": "code",
   "execution_count": 4,
   "metadata": {
    "collapsed": false
   },
   "outputs": [
    {
     "name": "stdout",
     "output_type": "stream",
     "text": [
      "{'ExpControl/scan/range/x/len': 0, 'ExpControl/scan/range/y/len': 0, 'OlympusIX/scanrange/y/offset': 2.2e-06, 'ExpControl/scan/range/x/off': 0, 'OlympusIX/scanrange/z/off': 0, 'ExpControl/scan/range/z/off': 0, 'OlympusIX/scanrange/x/offset': 1.23e-06, 'ExpControl/scan/range/y/off': 0, 'ExpControl/scan/range/z/len': 0}\n"
     ]
    }
   ],
   "source": [
    "see.set_to_coordinates(co)\n",
    "print(see.settings)\n",
    "see.apply_to_settings_dict(params)"
   ]
  },
  {
   "cell_type": "code",
   "execution_count": 3,
   "metadata": {
    "collapsed": false
   },
   "outputs": [],
   "source": [
    "ms.set_parameter(\"OlympusIX/light_path/objlens\", \"10X_NA1.4_oil_UPLSAPO100XO\")"
   ]
  },
  {
   "cell_type": "code",
   "execution_count": null,
   "metadata": {
    "collapsed": true
   },
   "outputs": [],
   "source": [
    "'''\n",
    "TODO: maybe implement smthng like that\n",
    "def check_paramters(params, defaults):\n",
    "    check_coordinates_valid(get_stage_goordinates(params), defaults.min_stage, defaults.Max_stage)\n",
    "    \n",
    "def set_parameters_safe(params, ms):\n",
    "    if (check_parameters(params)):\n",
    "        ms.set_parameters(params)\n",
    "    else:\n",
    "        raise Exception('Do not want')\n",
    "'''"
   ]
  },
  {
   "cell_type": "code",
   "execution_count": 5,
   "metadata": {
    "collapsed": false
   },
   "outputs": [
    {
     "data": {
      "text/plain": [
       "(1, 2, 1)"
      ]
     },
     "execution_count": 5,
     "metadata": {},
     "output_type": "execute_result"
    }
   ],
   "source": [
    "### TEST check coords\n",
    "check_coordinates_valid([1.00000001,1], [-1,-1], [1,1])\n",
    "(1,2) + tuple([1])"
   ]
  },
  {
   "cell_type": "code",
   "execution_count": 4,
   "metadata": {
    "collapsed": false
   },
   "outputs": [],
   "source": [
    "params = ms.parameters()\n",
    "see = Settings()\n",
    "coords = generate_grid_oop([0,0], [1e-3, 1e-3], [2e-4, 2e-4])\n",
    "\n",
    "for c in coords[:5]:\n",
    "    see.set_to_coordinates(c)\n",
    "    acquire_measurement_dummy(im, see)"
   ]
  },
  {
   "cell_type": "code",
   "execution_count": 6,
   "metadata": {
    "collapsed": false
   },
   "outputs": [
    {
     "name": "stdout",
     "output_type": "stream",
     "text": [
      "[-5e-06, -5e-06, 0.0] [(75.99, 14.44), (40.95, 25.89), (35.71, 69.23), (22.32, 70.84), (28.08, 25.4)] (1e-07, 1e-07)\n",
      "[1.5000000000000002e-05, -5e-06, 0.0] [(40.91, 89.98), (89.49, 7.11)] (1e-07, 1e-07)\n",
      "[3.5000000000000004e-05, -5e-06, 0.0] [(73.04, 67.18), (67.26, 80.05), (27.72, 9.55), (53.6, 44.46)] (1e-07, 1e-07)\n",
      "[5.500000000000001e-05, -5e-06, 0.0] [(29.72, 19.13), (42.47, 66.51)] (1e-07, 1e-07)\n",
      "[7.500000000000001e-05, -5e-06, 0.0] [(6.21, 40.44), (61.34, 20.7), (91.92, 20.6), (47.81, 28.88)] (1e-07, 1e-07)\n"
     ]
    },
    {
     "ename": "KeyboardInterrupt",
     "evalue": "",
     "output_type": "error",
     "traceback": [
      "\u001b[1;31m---------------------------------------------------------------------------\u001b[0m",
      "\u001b[1;31mKeyboardInterrupt\u001b[0m                         Traceback (most recent call last)",
      "\u001b[1;32m<ipython-input-6-303be1b6d539>\u001b[0m in \u001b[0;36m<module>\u001b[1;34m()\u001b[0m\n\u001b[0;32m     21\u001b[0m         \u001b[0mco\u001b[0m\u001b[1;33m.\u001b[0m\u001b[0mset_bench_coords\u001b[0m\u001b[1;33m(\u001b[0m\u001b[0mi\u001b[0m\u001b[1;33m)\u001b[0m\u001b[1;33m\u001b[0m\u001b[0m\n\u001b[0;32m     22\u001b[0m         \u001b[0msee\u001b[0m\u001b[1;33m.\u001b[0m\u001b[0mset_to_coordinates\u001b[0m\u001b[1;33m(\u001b[0m\u001b[0mco\u001b[0m\u001b[1;33m)\u001b[0m\u001b[1;33m\u001b[0m\u001b[0m\n\u001b[1;32m---> 23\u001b[1;33m         \u001b[0macquire_measurement_dummy\u001b[0m\u001b[1;33m(\u001b[0m\u001b[0mim\u001b[0m\u001b[1;33m,\u001b[0m \u001b[0msee\u001b[0m\u001b[1;33m)\u001b[0m\u001b[1;33m\u001b[0m\u001b[0m\n\u001b[0m\u001b[0;32m     24\u001b[0m \u001b[1;33m\u001b[0m\u001b[0m\n\u001b[0;32m     25\u001b[0m \u001b[1;33m\u001b[0m\u001b[0m\n",
      "\u001b[1;32mC:\\Users\\RESOLFT\\Desktop\\sted_automation\\Util\\imspector_util.py\u001b[0m in \u001b[0;36macquire_measurement_dummy\u001b[1;34m(im, config)\u001b[0m\n\u001b[0;32m    184\u001b[0m     \u001b[0mconfig\u001b[0m\u001b[1;33m.\u001b[0m\u001b[0mapply_to_settings_dict\u001b[0m\u001b[1;33m(\u001b[0m\u001b[0mparams\u001b[0m\u001b[1;33m)\u001b[0m\u001b[1;33m\u001b[0m\u001b[0m\n\u001b[0;32m    185\u001b[0m     \u001b[0mms\u001b[0m\u001b[1;33m.\u001b[0m\u001b[0mset_parameters\u001b[0m\u001b[1;33m(\u001b[0m\u001b[0mparams\u001b[0m\u001b[1;33m)\u001b[0m\u001b[1;33m\u001b[0m\u001b[0m\n\u001b[1;32m--> 186\u001b[1;33m     \u001b[0mim\u001b[0m\u001b[1;33m.\u001b[0m\u001b[0mrun\u001b[0m\u001b[1;33m(\u001b[0m\u001b[0mms\u001b[0m\u001b[1;33m)\u001b[0m\u001b[1;33m\u001b[0m\u001b[0m\n\u001b[0m\u001b[0;32m    187\u001b[0m     \u001b[1;31m#TODO: maybe let this funciton return ms\u001b[0m\u001b[1;33m\u001b[0m\u001b[1;33m\u001b[0m\u001b[0m\n\u001b[0;32m    188\u001b[0m \u001b[1;33m\u001b[0m\u001b[0m\n",
      "\u001b[1;31mKeyboardInterrupt\u001b[0m: "
     ]
    }
   ],
   "source": [
    "# Lests try this:\n",
    "#params = ms.parameters()\n",
    "see = Settings()\n",
    "see.load_from_file('./atest.json')\n",
    "coords = generate_grid_oop([0,0],[2e-3, 2e-3], [2e-5, 2e-5])\n",
    "for c in coords:\n",
    "    c.set_fov_len([1e-05, 1e-05, 0])\n",
    "\n",
    "for c in coords:\n",
    "    see.set_to_coordinates(c)\n",
    "    #ms.set_parameter(\"OlympusIX/light_path/objlens\", \"10X_NA1.4_oil_UPLSAPO100XO\")\n",
    "    acquire_measurement_dummy(im, see)\n",
    "    ms = im.active_measurement()\n",
    "    do_dummy_stuff(get_fov_dims_pixel(ms), \"./Util/dot_detection/coords-temp\")\n",
    "    spots = read_coords(\"./Util/dot_detection/coords-temp\")\n",
    "    co = c.copy()\n",
    "    corner = middle2corner(c.get_bench_coords(), c.get_fov_len())\n",
    "    pixelsd = get_pixel_dimensions(ms)\n",
    "    actual_coords = corner2spot(corner, spots, pixelsd)\n",
    "    for i in actual_coords:\n",
    "        co.set_bench_coords(i)\n",
    "        see.set_to_coordinates(co)\n",
    "        acquire_measurement_dummy(im, see)\n",
    "    \n",
    "\n",
    "\n"
   ]
  },
  {
   "cell_type": "code",
   "execution_count": 3,
   "metadata": {
    "collapsed": false
   },
   "outputs": [
    {
     "name": "stdout",
     "output_type": "stream",
     "text": [
      "[-5e-06, -5e-06, 0.0] [(39.37, 5.21), (12.98, 71.61), (20.5, 46.7)] (1e-07, 1e-07)\n"
     ]
    },
    {
     "data": {
      "text/plain": [
       "[[-1.0630000000000007e-06, -4.479000000000001e-06],\n",
       " [-3.7020000000000003e-06, 2.1609999999999993e-06],\n",
       " [-2.9500000000000006e-06, -3.3000000000000023e-07]]"
      ]
     },
     "execution_count": 3,
     "metadata": {},
     "output_type": "execute_result"
    }
   ],
   "source": [
    "corner2spot([-5e-06, -5e-06, 0.0] ,[(39.37, 5.21), (12.98, 71.61), (20.5, 46.7)], (1e-07, 1e-07))"
   ]
  },
  {
   "cell_type": "code",
   "execution_count": 3,
   "metadata": {
    "collapsed": false
   },
   "outputs": [
    {
     "ename": "TypeError",
     "evalue": "float() argument must be a string or a number, not 'tuple'",
     "output_type": "error",
     "traceback": [
      "\u001b[1;31m---------------------------------------------------------------------------\u001b[0m",
      "\u001b[1;31mTypeError\u001b[0m                                 Traceback (most recent call last)",
      "\u001b[1;32m<ipython-input-3-8afb2f7e3bdf>\u001b[0m in \u001b[0;36m<module>\u001b[1;34m()\u001b[0m\n\u001b[0;32m      1\u001b[0m \u001b[1;33m\u001b[0m\u001b[0m\n\u001b[0;32m      2\u001b[0m \u001b[0ma\u001b[0m \u001b[1;33m=\u001b[0m \u001b[0mread_coords\u001b[0m\u001b[1;33m(\u001b[0m\u001b[1;34m\"./Util/dot_detection/coords-temp\"\u001b[0m\u001b[1;33m)\u001b[0m\u001b[1;33m\u001b[0m\u001b[0m\n\u001b[1;32m----> 3\u001b[1;33m \u001b[1;32mfor\u001b[0m \u001b[0mi\u001b[0m \u001b[1;32min\u001b[0m \u001b[0mmap\u001b[0m\u001b[1;33m(\u001b[0m\u001b[0mfloat\u001b[0m\u001b[1;33m,\u001b[0m \u001b[0ma\u001b[0m\u001b[1;33m)\u001b[0m\u001b[1;33m:\u001b[0m\u001b[1;33m\u001b[0m\u001b[0m\n\u001b[0m\u001b[0;32m      4\u001b[0m     \u001b[0mprint\u001b[0m\u001b[1;33m(\u001b[0m\u001b[0mi\u001b[0m\u001b[1;33m)\u001b[0m\u001b[1;33m\u001b[0m\u001b[0m\n\u001b[0;32m      5\u001b[0m \u001b[1;33m\u001b[0m\u001b[0m\n",
      "\u001b[1;31mTypeError\u001b[0m: float() argument must be a string or a number, not 'tuple'"
     ]
    }
   ],
   "source": [
    "\n",
    "a = read_coords(\"./Util/dot_detection/coords-temp\")\n",
    "for i in map(float, a):\n",
    "    print(i)\n",
    "    "
   ]
  },
  {
   "cell_type": "code",
   "execution_count": 6,
   "metadata": {
    "collapsed": false
   },
   "outputs": [
    {
     "data": {
      "text/plain": [
       "3"
      ]
     },
     "execution_count": 6,
     "metadata": {},
     "output_type": "execute_result"
    }
   ],
   "source": [
    "len([(39.37, 5.21), (12.98, 71.61), (20.5, 46.7)])\n"
   ]
  }
 ],
 "metadata": {
  "kernelspec": {
   "display_name": "Python 3",
   "language": "python",
   "name": "python3"
  },
  "language_info": {
   "codemirror_mode": {
    "name": "ipython",
    "version": 3
   },
   "file_extension": ".py",
   "mimetype": "text/x-python",
   "name": "python",
   "nbconvert_exporter": "python",
   "pygments_lexer": "ipython3",
   "version": "3.5.1"
  }
 },
 "nbformat": 4,
 "nbformat_minor": 0
}
