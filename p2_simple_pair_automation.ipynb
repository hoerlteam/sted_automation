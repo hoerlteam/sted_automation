{
 "cells": [
  {
   "cell_type": "markdown",
   "metadata": {},
   "source": [
    "# Pair Automation using ```pipeline2```"
   ]
  },
  {
   "cell_type": "markdown",
   "metadata": {},
   "source": [
    "## Imports and plot settings\n",
    "\n",
    "Run this once"
   ]
  },
  {
   "cell_type": "code",
   "execution_count": null,
   "metadata": {
    "collapsed": true
   },
   "outputs": [],
   "source": [
    "import os\n",
    "import json\n",
    "import numpy as np\n",
    "from matplotlib import pyplot as plt\n",
    "import h5py as h5\n",
    "import specpy as sp\n",
    "\n",
    "import pipeline2 as p2\n",
    "\n",
    "# plotting params\n",
    "%matplotlib inline\n",
    "# use this to change size of plots\n",
    "plt.rcParams['figure.figsize'] = [6, 6]"
   ]
  },
  {
   "cell_type": "markdown",
   "metadata": {},
   "source": [
    "## Code definition for a single acquisition\n",
    "\n",
    "Run this once"
   ]
  },
  {
   "cell_type": "code",
   "execution_count": null,
   "metadata": {
    "collapsed": true
   },
   "outputs": [],
   "source": [
    "def run_pipeline(save_path, im, hours_to_image, ov_json, det_jsons, start_coords, sigma,\n",
    "                 thresholds, ov_moves, ov_fovs=None, ov_psz=None, ov_fovs_first=None, \n",
    "                 det_fovs=None, det_pszs=None, ov_json_imspector=None, det_jsons_imspector=None,\n",
    "                 onecolor=False, skip_details=False, n_reps_detail=1, sample_name=None,\n",
    "                 ov_mode=None, det_modes=None):\n",
    "      \n",
    "    # make output dir if it does not exist already\n",
    "    if not os.path.exists(save_path):\n",
    "        os.makedirs(save_path)\n",
    "    \n",
    "    # init levels and name handler\n",
    "    pll = p2.PipelineLevels('field', 'sted')\n",
    "    name_handler = p2.DefaultNameHandler(save_path, pll)\n",
    "\n",
    "    # abuse name_handler to get h5 filename\n",
    "    # calling with empty index gives just the random hash\n",
    "    h5file_name = name_handler.get_path([]).replace('.msr', '.h5')\n",
    "\n",
    "    # open resulting h5 file in context manager\n",
    "    with h5.File(h5file_name, mode='a') as h5fd:\n",
    "        data_store = p2.HDF5DataStore(h5fd, pll)\n",
    "\n",
    "        # init pipeline\n",
    "        pl = (p2.AcquisitionPipeline('spot-pair-pipeline' if sample_name is None else sample_name)\n",
    "                .withImspectorConnection(p2.imspector.ImspectorConnection(im).withVerbose())\n",
    "                .withPipelineLevels(pll)\n",
    "                .withNameHandler(name_handler)\n",
    "                .withAddedStoppingCondition(p2.stoppingcriteria.TimedStoppingCriterion(hours_to_image * 60 * 60)))\n",
    "\n",
    "        # attach h5 data store\n",
    "        pl.withDataStorage(data_store)\n",
    "\n",
    "        # overview task generator: move and hold focus\n",
    "        atg_overview = (p2.taskgeneration.AcquisitionTaskGenerator(pll.field, \n",
    "                            p2.taskgeneration.DefaultLocationRemover( # 1. load overview JSON and ignore locations there\n",
    "                                p2.taskgeneration.JSONFileConfigLoader(\n",
    "                                    [ov_json],\n",
    "                                    [ov_json_imspector] if not ov_json_imspector is None else None\n",
    "                                )\n",
    "                            ),\n",
    "                            p2.taskgeneration.DefaultStageOffsetsSettingsGenerator( # 2. (x,y) spiral coordinates from start_pos\n",
    "                                p2.taskgeneration.SpiralOffsetGenerator().withStart(start_coords).withFOV(ov_moves)\n",
    "                            ),\n",
    "                            p2.taskgeneration.DefaultScanModeSettingsGenerator( # 3. set overview mode\n",
    "                                ['xyz' if ov_mode is None else ov_mode] , True\n",
    "                            ),\n",
    "                            p2.taskgeneration.DifferentFirstFOVSettingsGenerator(ov_fovs, ov_psz, ov_fovs_first), # 4. set FOV\n",
    "                            p2.taskgeneration.DefaultStageOffsetsSettingsGenerator( # 5. change z for focus hold\n",
    "                                p2.detection.SimpleLegacyFocusHold(\n",
    "                                    p2.taskgeneration.NewestDataSelector(pl, pll.field)\n",
    "                                ).withVerbose(True)\n",
    "                            )\n",
    "                    )\n",
    "                    .withDelay(.4)) # some delay in setting parameters (e.g. for stage movement)\n",
    "\n",
    "        # init pair detector in overview\n",
    "        if not onecolor:\n",
    "            detector = p2.detection.LegacySpotPairFinder(\n",
    "                p2.taskgeneration.NewestDataSelector(pl, pll.field),\n",
    "            sigma, thresholds).withPlotDetections(True).withVerbose()\n",
    "        else:\n",
    "            detector = p2.detection.SimpleSingleChannelSpotDetector(\n",
    "                p2.taskgeneration.NewestDataSelector(pl, pll.field),\n",
    "                sigma, thresholds[0] # use channel 0\n",
    "            ).withPlotDetections(True).withVerbose()\n",
    "\n",
    "        # detail task generation: settings from last overview + new FOV + detection\n",
    "        # optionally repeat measurement to check reproducibility\n",
    "        atg_detail = p2.taskgeneration.AcquisitionTaskGenerator(pll.sted,    \n",
    "                                 p2.taskgeneration.DefaultLocationKeeper( # 1. take stage pos of overview\n",
    "                                     p2.taskgeneration.NewestSettingsSelector(pl, pll.field)\n",
    "                                 ),\n",
    "                                 p2.taskgeneration.DefaultLocationRemover( # 2. load param (sets) from JSON, ignore loc\n",
    "                                     p2.taskgeneration.JSONFileConfigLoader(\n",
    "                                         det_jsons,\n",
    "                                         det_jsons_imspector if not det_jsons_imspector is None else None,\n",
    "                                         False)\n",
    "                                 ),\n",
    "                                 p2.taskgeneration.DefaultScanModeSettingsGenerator( # 3. set to desired modes (xy, xyz, ...)\n",
    "                                     det_modes if not det_modes is None else ['xyz'] * len(det_jsons),\n",
    "                                     False),\n",
    "                                 p2.taskgeneration.DefaultFOVSettingsGenerator(det_fovs, det_pszs), # 4. set FOVs\n",
    "                                 p2.taskgeneration.DefaultScanOffsetsSettingsGenerator(\n",
    "                                     p2.detection.SimpleLocationRepeater( # 5. locations from detector (optionally repeated) \n",
    "                                         detector, n=n_reps_detail\n",
    "                                     )\n",
    "                                 ))\n",
    "        atg_detail.withDelay(.2)\n",
    "\n",
    "        # overview callback: re-add overview\n",
    "        pl.withCallbackAtLevel(atg_overview, pll.field)\n",
    "        # overview callback 2: detect & do detail\n",
    "        pl.withCallbackAtLevel(atg_detail, pll.field)\n",
    "        \n",
    "        \n",
    "        # HACK: optionally clear all pending sted images after first one has been acquired\n",
    "        def clear_details(pl):\n",
    "            dets = [(prio, idx, val) for (prio, idx, val) in pl.queue.queue if prio == pll.sted]\n",
    "            for (prio, idx, val) in dets:\n",
    "                pl.queue.queue.remove((prio, idx, val))\n",
    "        # only do this if user wants to\n",
    "        if skip_details:\n",
    "            pl.withCallbackAtLevel(clear_details, pll.sted)\n",
    "        \n",
    "        \n",
    "        # call overview atg once to add first measurement to pipeline\n",
    "        atg_overview(pl)\n",
    "\n",
    "        # GO\n",
    "        pl.run()\n"
   ]
  },
  {
   "cell_type": "markdown",
   "metadata": {},
   "source": [
    "## 1) initialize acquisition list and connect to Imspector\n",
    "\n",
    "Run this to initialize the acquisition queue and connect to imspector\n",
    "Re-run to clear queued acquisitions"
   ]
  },
  {
   "cell_type": "code",
   "execution_count": null,
   "metadata": {
    "collapsed": true
   },
   "outputs": [],
   "source": [
    "# init acq. list\n",
    "acquisitions = []\n",
    "\n",
    "# imspector object\n",
    "im = sp.Imspector()"
   ]
  },
  {
   "cell_type": "markdown",
   "metadata": {},
   "source": [
    "## 2) Enqueue an acquisition\n",
    "\n",
    "Set the parameters for a new acquisition and add it to the queue.\n",
    "** Acquisition will be run at the current stage coordinates**"
   ]
  },
  {
   "cell_type": "code",
   "execution_count": null,
   "metadata": {
    "scrolled": false
   },
   "outputs": [],
   "source": [
    "params = {}\n",
    "\n",
    "### CHANGE ME!\n",
    "params['save_path'] = 'C:/Users//RESOLFT/Desktop/AUTOMATION/59_KB_20181106/A195_K562-wt_Alive3B-594_Alive3D-594_SiR-DNA/K562_wt/raw/'\n",
    "\n",
    "\n",
    "##### (OPTIONALLY) CHANGE US!\n",
    "\n",
    "# how long to image\n",
    "params['hours_to_image'] = 12\n",
    "\n",
    "### PARAMETER FILES\n",
    "# paths of the parameters files\n",
    "# we can use multiple for the SETD measurement (e.g. to do both a 2d and 3d STED acq.)\n",
    "params['ov_json'] = 'C:/Users/RESOLFT/Desktop/config_json/20180906_2ch_overview_standard.json'\n",
    "params['det_jsons'] = [\n",
    "    'C:/Users/RESOLFT/Desktop/config_json/20181108_SiR_detail_full2d_forSiR-coimaging_K562s.json',\n",
    "    'C:/Users/RESOLFT/Desktop/config_json/20181108_1ch_detail_full2d_forSiR-coimaging.json'\n",
    "]\n",
    "\n",
    "### IMSPECTOR SETTINGS, optional\n",
    "# paths to imspector setting files, set to None if you do not want to change settings (e.g. SLM parameters)\n",
    "params['ov_json_imspector'] = None\n",
    "params['det_jsons_imspector'] = None\n",
    "# NB: needs to be of the same format as ov_json and det_jsons\n",
    "# uncomment lines below for example (same settings for all)\n",
    "#params['ov_json_imspector'] = 'C:/Users/RESOLFT/Desktop/config_json/old_pipeline/20180821_imspector_settings_default.json'\n",
    "#params['det_jsons_imspector'] = [\n",
    "#    'C:/Users/RESOLFT/Desktop/config_json/old_pipeline/20180821_imspector_settings_default.json',\n",
    "#    'C:/Users/RESOLFT/Desktop/config_json/old_pipeline/20180821_imspector_settings_default2.json'\n",
    "#]\n",
    "\n",
    "\n",
    "### DETECTOR SETTINGS\n",
    "# spot pair detection parameters (~expected size, thresholds for each channel)\n",
    "params['sigma'] = 2\n",
    "params['thresholds'] = [1.2, 1.0]\n",
    "# whether to detect only in first channel (and not look for pairs)\n",
    "params['onecolor'] = True\n",
    "\n",
    "### FOV and pixel size of overviews\n",
    "# NB: we can set a bigger z stack for first stack\n",
    "# NB: all sizes are in meters!\n",
    "\n",
    "# This is optional now\n",
    "params['ov_fovs'] = [[5e-05, 5e-05, 0.5e-5]]\n",
    "params['ov_psz'] = [[1.5e-7, 1.5e-7, 2.5e-7]]\n",
    "params['ov_fovs_first'] = [[5e-05, 5e-05, 0.5e-5]]\n",
    "params['ov_moves'] = [6e-5, 6e-5] # how much to move in overview spiral\n",
    "# (NB: we make it larger than FOV to avoid small overlaps)\n",
    "#params['det_fovs'] = [[3e-06, 3e-06, 1.5e-6]] # STED FOV\n",
    "#params['det_pszs'] = [[4.5e-8, 4.5e-8, 6e-8]] # STED Pixelsize\n",
    "\n",
    "\n",
    "### Debug, QC options\n",
    "params['skip_details'] = True # set to True to only image 1 detail image per field\n",
    "params['n_reps_detail'] = 1 # how often to repeat each detail image\n",
    "\n",
    "\n",
    "### SCAN MODES (Optional)\n",
    "# which scan mode (xy, xyz, ...) to use for overviews and details\n",
    "# This may be None, in which case we simply use mode set in file\n",
    "params['ov_mode'] = None\n",
    "# e.g.\n",
    "#params['ov_mode'] = 'xyz'\n",
    "params['det_modes'] = ['xy', 'xyz']\n",
    "# e.g.\n",
    "#params['det_modes'] = ['xyz', 'xy'] \n",
    "# NB: this needs to be alist of the same size as settings for details\n",
    "\n",
    "\n",
    "### Things that are set automatically\n",
    "\n",
    "# ensure we use slashes and not backslashes\n",
    "params['save_path'] = params['save_path'].replace(os.sep, '/')\n",
    "# sample name, will be set automatically\n",
    "params['sample_name'] = params['save_path'].strip('/').rsplit('/')[-1]\n",
    "# start at current coordinates, do not change!\n",
    "params['start_coords'] = p2.imspector.get_current_stage_coords(im)\n",
    "\n",
    "# add to queue\n",
    "acquisitions.append(params)\n",
    "\n",
    "# print the currently queued acquisitions\n",
    "print(\"\"\"\n",
    "Queued Acquisitions:\n",
    "====================\n",
    "\"\"\")\n",
    "for ac in acquisitions:\n",
    "    print(json.dumps(ac, indent=1))"
   ]
  },
  {
   "cell_type": "markdown",
   "metadata": {},
   "source": [
    "## 3) Run the acquisitions\n",
    "\n",
    "Execute cell below to run the enqueued acquisitions"
   ]
  },
  {
   "cell_type": "code",
   "execution_count": null,
   "metadata": {
    "scrolled": false
   },
   "outputs": [],
   "source": [
    "# go through queued acquisitions (in reverse)\n",
    "# and run them\n",
    "for ac in reversed(acquisitions):\n",
    "    # pass Imspector as well (we excluded it until now because otherwise, the JSON print above would not work)\n",
    "    ac_t = ac\n",
    "    ac_t['im'] = im\n",
    "    run_pipeline(**ac)\n",
    "\n",
    "# Reset queued acquisitions\n",
    "# NB: if you cancelled a run, this might not be executed,\n",
    "#     make sure to clear old acquisitions manually (step 1)\n",
    "acquisitions = []"
   ]
  },
  {
   "cell_type": "markdown",
   "metadata": {},
   "source": [
    "## Testing code below\n",
    "\n",
    "Ignore unless you know what you are doing ;)"
   ]
  },
  {
   "cell_type": "code",
   "execution_count": null,
   "metadata": {
    "collapsed": true
   },
   "outputs": [],
   "source": [
    "p = p2.AcquisitionPipeline('1')\n",
    "p.queue.put(12, 1)\n",
    "p.queue.put(12, 2)\n",
    "p.queue.put(14, 2)\n",
    "\n",
    "[(q) for (q) in p.queue.queue]\n",
    "[(q) for (q) in p.queue.queue]"
   ]
  },
  {
   "cell_type": "code",
   "execution_count": null,
   "metadata": {
    "collapsed": true
   },
   "outputs": [],
   "source": [
    "with open('C:/Users/RESOLFT/Desktop/config_json/old_pipeline/20180821_imspector_settings_default2.json', 'r') as fd:\n",
    "    p = json.load(fd)\n",
    "    \n",
    "sp.Imspector().set_parameters(\"\", p)"
   ]
  },
  {
   "cell_type": "code",
   "execution_count": null,
   "metadata": {
    "collapsed": true
   },
   "outputs": [],
   "source": [
    "def foo(a, b, **kwargs):\n",
    "    print(a,b)\n",
    "    bar(**kwargs)\n",
    "    \n",
    "def bar(c):\n",
    "    print(c)\n",
    "    \n",
    "kwargs = {'a':1, 'b':2, 'c':3}\n",
    "\n",
    "foo(**kwargs)"
   ]
  },
  {
   "cell_type": "code",
   "execution_count": null,
   "metadata": {
    "collapsed": true
   },
   "outputs": [],
   "source": [
    "import enum\n",
    "class PipelineType(enum.Enum):\n",
    "    TWOSTEP = 1\n",
    "    THREESTEP = 2"
   ]
  },
  {
   "cell_type": "code",
   "execution_count": null,
   "metadata": {
    "collapsed": true
   },
   "outputs": [],
   "source": [
    "PipelineType.TWOSTEP"
   ]
  }
 ],
 "metadata": {
  "kernelspec": {
   "display_name": "Python 3",
   "language": "python",
   "name": "python3"
  },
  "language_info": {
   "codemirror_mode": {
    "name": "ipython",
    "version": 3
   },
   "file_extension": ".py",
   "mimetype": "text/x-python",
   "name": "python",
   "nbconvert_exporter": "python",
   "pygments_lexer": "ipython3",
   "version": "3.5.1"
  }
 },
 "nbformat": 4,
 "nbformat_minor": 2
}
