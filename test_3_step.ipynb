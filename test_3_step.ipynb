{
 "cells": [
  {
   "cell_type": "code",
   "execution_count": null,
   "metadata": {},
   "outputs": [],
   "source": [
    "from pipeline2 import PipelineLevels, AcquisitionPipeline, DefaultNameHandler, HDF5RichData, HDF5DataStore\n",
    "from pipeline2.taskgeneration import (AcquisitionTaskGenerator, JSONFileConfigLoader, DefaultFOVSettingsGenerator,\n",
    "                                      DefaultScanOffsetsSettingsGenerator,\n",
    "                                      DefaultLocationRemover, DefaultStageOffsetsSettingsGenerator,\n",
    "                                      SpiralOffsetGenerator, NewestSettingsSelector, NewestDataSelector,\n",
    "                                      BoundingBoxLocationGrouper, DefaultScanModeSettingsGenerator)\n",
    "from pipeline2.detection import LegacySpotPairFinder, SimpleSingleChannelSpotDetector\n",
    "from pipeline2.imspector import ImspectorConnection\n",
    "from pipeline2.stoppingcriteria import TimedStoppingCriterion\n",
    "\n",
    "import specpy as sp\n",
    "\n",
    "import numpy as np\n",
    "from matplotlib import pyplot as plt\n",
    "\n",
    "\n",
    "import h5py as h5\n",
    "\n",
    "\n",
    "#BoundingBoxLocationGrouper()\n"
   ]
  },
  {
   "cell_type": "code",
   "execution_count": null,
   "metadata": {
    "scrolled": false
   },
   "outputs": [],
   "source": [
    "# plotting params\n",
    "%matplotlib inline\n",
    "plt.rcParams['figure.figsize'] = [10, 10]\n",
    "\n",
    "# path to generic golbead config_path\n",
    "gb_config_path = 'C:/Users/RESOLFT/Desktop/config_json/goldbeads_overview.json'\n",
    "\n",
    "# imspector object\n",
    "im = sp.Imspector()\n",
    "\n",
    "\n",
    "\n",
    "pll = PipelineLevels('overview', 'detail', 'more_detail')\n",
    "\n",
    "\n",
    "# overview task generator: same settings every time\n",
    "atg_overview = (AcquisitionTaskGenerator(pll.overview, \n",
    "                    DefaultLocationRemover(\n",
    "                        JSONFileConfigLoader(['C:/Users/RESOLFT/Desktop/config_json/goldbeads_overview.json'])\n",
    "                    )\n",
    "                )\n",
    "                .withDelay(.5))\n",
    "\n",
    "name_handler = DefaultNameHandler('C:/Users//RESOLFT/Desktop/TEST_GEN/', pll)\n",
    "\n",
    "# abuse name_handler to get h5 filename\n",
    "h5file_name = name_handler.get_path([]).replace('.msr', '.h5')\n",
    "\n",
    "with h5.File(h5file_name, mode='a') as h5fd:\n",
    "    data_store = HDF5DataStore(h5fd, pll)\n",
    "\n",
    "    # pipeline\n",
    "    pl = (AcquisitionPipeline('1')\n",
    "            .withImspectorConnection(ImspectorConnection(im))\n",
    "            .withPipelineLevels(pll)\n",
    "            .withNameHandler(name_handler)\n",
    "            .withAddedStoppingCondition(TimedStoppingCriterion(200)))\n",
    "    \n",
    "    # attach h5 data store\n",
    "    pl.withDataStorage(data_store)\n",
    "\n",
    "    # init detector\n",
    "    detector = SimpleSingleChannelSpotDetector(NewestDataSelector(pl, pll.overview), 2, 2).withPlotDetections().withVerbose()\n",
    "\n",
    "    # detail task generation: settings from last overview + new FOV + grouped detections\n",
    "    atg_detail = AcquisitionTaskGenerator(pll.detail,\n",
    "                             NewestSettingsSelector(pl, pll.overview),\n",
    "                             DefaultFOVSettingsGenerator([[1e-5, 1e-5, 0]], [[5e-8, 5e-8, 0]]),\n",
    "                             DefaultScanOffsetsSettingsGenerator(BoundingBoxLocationGrouper(detector, [1e-5, 1e-5, 1e-5]).withVerbose()))\n",
    "\n",
    "    # overview callback: re-add overview\n",
    "    pl.withCallbackAtLevel(atg_overview, pll.overview)\n",
    "    # overview callback2: detect & do detail\n",
    "    pl.withCallbackAtLevel(atg_detail, pll.overview)\n",
    "\n",
    "\n",
    "    # another detector in detail\n",
    "    detector2 = SimpleSingleChannelSpotDetector(NewestDataSelector(pl, pll.detail), 5, 0.1, 0, 1.2).withPlotDetections().withVerbose()\n",
    "\n",
    "    # detail task generation: settings from last overview + new FOV + grouped detections\n",
    "    atg_detail_more = AcquisitionTaskGenerator(pll.more_detail,\n",
    "                             NewestSettingsSelector(pl, pll.detail),\n",
    "                             DefaultScanModeSettingsGenerator(['xy', 'xz', 'yz'], False),\n",
    "                             DefaultFOVSettingsGenerator([[5e-7, 5e-7, 5e-7]], [[5e-9, 5e-9, 2e-8]]),\n",
    "                             DefaultScanOffsetsSettingsGenerator(BoundingBoxLocationGrouper(detector2, [5e-7, 5e-7, 5e-7]).withVerbose())\n",
    "                             )\n",
    "\n",
    "    # dummy callback: print & plot detections in detail img\n",
    "    #pl.withCallbackAtLevel(lambda x: print(detector2.get_locations()), pll.detail)\n",
    "\n",
    "    # overview callback2: detect & do detail\n",
    "    pl.withCallbackAtLevel(atg_detail_more, pll.detail)\n",
    "\n",
    "    # call overview atg once to add first measurement to pipeline\n",
    "    atg_overview(pl)\n",
    "\n",
    "    # GO\n",
    "    pl.run()\n"
   ]
  },
  {
   "cell_type": "code",
   "execution_count": null,
   "metadata": {
    "scrolled": false
   },
   "outputs": [],
   "source": [
    "import json\n",
    "im = sp.Imspector()\n",
    "par = im.active_measurement().parameters('')\n",
    "print(json.dumps(par['Measurement']['axes']['scan_axes'], indent=2))\n",
    "\n",
    "mf = 'xy'\n",
    "par['ExpControl']['scan']['range']['mode'] = gen_mode_flag(mf)\n",
    "\n",
    "par['Measurement']['axes']['scan_axes'] = ['ExpControl {}'.format(mf[i].upper()) if i < len(mf) else \"None\" for i in range(4)]\n",
    "\n",
    "im.active_measurement().set_parameters('', par)"
   ]
  },
  {
   "cell_type": "code",
   "execution_count": null,
   "metadata": {
    "collapsed": true
   },
   "outputs": [],
   "source": [
    "modes = {\n",
    "    'xyz' : 528,\n",
    "    'xyt' : 784,\n",
    "    'x' : 1360,\n",
    "    'y' : 1361,\n",
    "    'z' : 1362,\n",
    "    't' : 1363,\n",
    "    'xy' : 1296,\n",
    "    'yx' : 1281,\n",
    "    \n",
    "    \n",
    "    \n",
    "    \n",
    "    \n",
    "}"
   ]
  },
  {
   "cell_type": "code",
   "execution_count": null,
   "metadata": {},
   "outputs": [],
   "source": [
    "int('001100000001', 2)"
   ]
  },
  {
   "cell_type": "code",
   "execution_count": null,
   "metadata": {},
   "outputs": [],
   "source": [
    "def gen_mode_flag(mode_str):\n",
    "\n",
    "    _mode_vals = {\n",
    "    'x' : 0,\n",
    "    'y' : 1,\n",
    "    'z' : 2,\n",
    "    't' : 3\n",
    "    }\n",
    "    \n",
    "    if len(mode_str) > 4:\n",
    "        return None\n",
    "    res = 0\n",
    "    for _ in range(3 - len(mode_str)):\n",
    "        print(res)\n",
    "        res = (res + 1) << 2\n",
    "        res = (res + 1) << 2\n",
    "    for i, c in enumerate(reversed(mode_str)):\n",
    "        res = res << 2\n",
    "        res = res + _mode_vals[c]\n",
    "        if not i == len(mode_str) - 1:\n",
    "            res = res << 2\n",
    "    return res\n",
    "\n",
    "gen_mode_flag('xy')"
   ]
  },
  {
   "cell_type": "code",
   "execution_count": null,
   "metadata": {
    "collapsed": true
   },
   "outputs": [],
   "source": [
    "from skimage.feature import peak_local_max\n",
    "\n",
    "peak_local_max(np.array([[1,0,0,0], [0,0,0,1]]), min_distance=1)"
   ]
  }
 ],
 "metadata": {
  "kernelspec": {
   "display_name": "Python 3",
   "language": "python",
   "name": "python3"
  },
  "language_info": {
   "codemirror_mode": {
    "name": "ipython",
    "version": 3
   },
   "file_extension": ".py",
   "mimetype": "text/x-python",
   "name": "python",
   "nbconvert_exporter": "python",
   "pygments_lexer": "ipython3",
   "version": "3.5.1"
  }
 },
 "nbformat": 4,
 "nbformat_minor": 2
}
