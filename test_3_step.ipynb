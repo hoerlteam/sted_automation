{
 "cells": [
  {
   "cell_type": "code",
   "execution_count": null,
   "metadata": {},
   "outputs": [],
   "source": [
    "from pipeline2 import PipelineLevels, AcquisitionPipeline, DefaultNameHandler\n",
    "from pipeline2.taskgeneration import (AcquisitionTaskGenerator, JSONFileConfigLoader, DefaultFOVSettingsGenerator,\n",
    "                                      DefaultScanOffsetsSettingsGenerator,\n",
    "                                      DefaultLocationRemover, DefaultStageOffsetsSettingsGenerator,\n",
    "                                      SpiralOffsetGenerator, NewestSettingsSelector, NewestDataSelector,\n",
    "                                      BoundingBoxLocationGrouper)\n",
    "from pipeline2.detection import LegacySpotPairFinder, SimpleSingleChannelSpotDetector\n",
    "from pipeline2.imspector import ImspectorConnection\n",
    "from pipeline2.stoppingcriteria import TimedStoppingCriterion\n",
    "\n",
    "import specpy as sp\n",
    "\n",
    "import numpy as np\n",
    "from matplotlib import pyplot as plt\n",
    "\n",
    "\n",
    "#BoundingBoxLocationGrouper()\n"
   ]
  },
  {
   "cell_type": "code",
   "execution_count": null,
   "metadata": {
    "scrolled": false
   },
   "outputs": [],
   "source": [
    "# plotting params\n",
    "%matplotlib inline\n",
    "plt.rcParams['figure.figsize'] = [10, 10]\n",
    "\n",
    "# path to generic golbead config_path\n",
    "gb_config_path = 'C:/Users/RESOLFT/Desktop/config_json/goldbeads_overview.json'\n",
    "\n",
    "# imspector object\n",
    "im = sp.Imspector()\n",
    "\n",
    "\n",
    "\n",
    "pll = PipelineLevels('overview', 'detail', 'more_detail')\n",
    "\n",
    "\n",
    "# overview task generator: same settings every time\n",
    "atg_overview = (AcquisitionTaskGenerator(pll.overview, \n",
    "                    DefaultLocationRemover(\n",
    "                        JSONFileConfigLoader(['C:/Users/RESOLFT/Desktop/config_json/goldbeads_overview.json'])\n",
    "                    )\n",
    "                )\n",
    "                .withDelay(.5))\n",
    "\n",
    "# pipeline\n",
    "pl = (AcquisitionPipeline('1')\n",
    "        .withImspectorConnection(ImspectorConnection(im))\n",
    "        .withPipelineLevels(pll)\n",
    "        .withNameHandler(DefaultNameHandler('C:/Users//RESOLFT/Desktop/TEST_GEN/', pll))\n",
    "        .withAddedStoppingCondition(TimedStoppingCriterion(200)))\n",
    "\n",
    "# init detector\n",
    "detector = SimpleSingleChannelSpotDetector(NewestDataSelector(pl, pll.overview), 2, 2).withPlotDetections().withVerbose(False)\n",
    "\n",
    "# detail task generation: settings from last overview + new FOV + grouped detections\n",
    "atg_detail = AcquisitionTaskGenerator(pll.detail,\n",
    "                         NewestSettingsSelector(pl, pll.overview),\n",
    "                         DefaultFOVSettingsGenerator([[1e-5, 1e-5, 0]], [[5e-8, 5e-8, 0]]),\n",
    "                         DefaultScanOffsetsSettingsGenerator(BoundingBoxLocationGrouper(detector, [1e-5, 1e-5, 1e-5]).withVerbose()))\n",
    "\n",
    "# overview callback: re-add overview\n",
    "pl.withCallbackAtLevel(atg_overview, pll.overview)\n",
    "# overview callback2: detect & do detail\n",
    "pl.withCallbackAtLevel(atg_detail, pll.overview)\n",
    "\n",
    "\n",
    "# another detector in detail\n",
    "detector2 = SimpleSingleChannelSpotDetector(NewestDataSelector(pl, pll.detail), 5, 0.1, 0, 1.2).withPlotDetections().withVerbose()\n",
    "\n",
    "# detail task generation: settings from last overview + new FOV + grouped detections\n",
    "atg_detail_more = AcquisitionTaskGenerator(pll.more_detail,\n",
    "                         NewestSettingsSelector(pl, pll.detail),\n",
    "                         DefaultFOVSettingsGenerator([[1e-6, 1e-6, 0]], [[1e-8, 1e-8, 0]]),\n",
    "                         DefaultScanOffsetsSettingsGenerator(BoundingBoxLocationGrouper(detector2, [1e-6, 1e-6, 1e-6]).withVerbose()))\n",
    "\n",
    "# dummy callback: print & plot detections in detail img\n",
    "#pl.withCallbackAtLevel(lambda x: print(detector2.get_locations()), pll.detail)\n",
    "\n",
    "# overview callback2: detect & do detail\n",
    "pl.withCallbackAtLevel(atg_detail_more, pll.detail)\n",
    "\n",
    "# call overview atg once to add first measurement to pipeline\n",
    "atg_overview(pl)\n",
    "\n",
    "# GO\n",
    "pl.run()\n"
   ]
  },
  {
   "cell_type": "code",
   "execution_count": null,
   "metadata": {
    "scrolled": false
   },
   "outputs": [],
   "source": [
    "im = sp.Imspector()\n",
    "par = im.active_measurement().parameters('ExpControl/scan/range/z')\n",
    "par"
   ]
  },
  {
   "cell_type": "code",
   "execution_count": null,
   "metadata": {},
   "outputs": [],
   "source": [
    "from skimage.feature import peak_local_max\n",
    "\n",
    "peak_local_max(np.array([[1,0,0,0], [0,0,0,1]]), min_distance=1)"
   ]
  }
 ],
 "metadata": {
  "kernelspec": {
   "display_name": "Python 3",
   "language": "python",
   "name": "python3"
  },
  "language_info": {
   "codemirror_mode": {
    "name": "ipython",
    "version": 3
   },
   "file_extension": ".py",
   "mimetype": "text/x-python",
   "name": "python",
   "nbconvert_exporter": "python",
   "pygments_lexer": "ipython3",
   "version": "3.5.1"
  }
 },
 "nbformat": 4,
 "nbformat_minor": 2
}
