{
 "cells": [
  {
   "cell_type": "code",
   "execution_count": 1,
   "metadata": {
    "collapsed": true
   },
   "outputs": [],
   "source": [
    "import specpy as sp"
   ]
  },
  {
   "cell_type": "code",
   "execution_count": 4,
   "metadata": {},
   "outputs": [
    {
     "data": {
      "text/plain": [
       "'16.3.10599-1948'"
      ]
     },
     "execution_count": 4,
     "metadata": {},
     "output_type": "execute_result"
    }
   ],
   "source": [
    "i = sp.Imspector()\n",
    "print(i.version())\n",
    "\n",
    "# create new measurement\n",
    "i.create_measurement()\n",
    "ms = i.active_measurement()"
   ]
  },
  {
   "cell_type": "code",
   "execution_count": 5,
   "metadata": {},
   "outputs": [
    {
     "ename": "RuntimeError",
     "evalue": "bad cast",
     "output_type": "error",
     "traceback": [
      "\u001b[1;31m---------------------------------------------------------------------------\u001b[0m",
      "\u001b[1;31mRuntimeError\u001b[0m                              Traceback (most recent call last)",
      "\u001b[1;32m<ipython-input-5-1582990d7f70>\u001b[0m in \u001b[0;36m<module>\u001b[1;34m()\u001b[0m\n\u001b[1;32m----> 1\u001b[1;33m \u001b[0mi\u001b[0m\u001b[1;33m.\u001b[0m\u001b[0mrun\u001b[0m\u001b[1;33m(\u001b[0m\u001b[0mms\u001b[0m\u001b[1;33m)\u001b[0m\u001b[1;33m\u001b[0m\u001b[0m\n\u001b[0m",
      "\u001b[1;31mRuntimeError\u001b[0m: bad cast"
     ]
    }
   ],
   "source": [
    "# starts measurement, but errors afterwards, does not block\n",
    "i.run(ms)"
   ]
  },
  {
   "cell_type": "code",
   "execution_count": 7,
   "metadata": {
    "collapsed": true
   },
   "outputs": [],
   "source": [
    "# hacky fix\n",
    "\n",
    "from threading import Semaphore\n",
    "\n",
    "def blocking_imspector_run(imspector, measurement):\n",
    "    '''\n",
    "    since imspector.run(measurement) seems buggy a.t.m. and does not block,\n",
    "    this wrapps it into a blocking call.\n",
    "    \n",
    "    also catches the 'bad cast' exception that seems to always happen\n",
    "    '''\n",
    "        \n",
    "    sem = Semaphore()\n",
    "    sem.acquire()\n",
    "    imspector.connect_end(sem.release, 0)\n",
    "\n",
    "    try:\n",
    "        imspector.run(measurement)\n",
    "    except RuntimeError as e:\n",
    "        # bad cast error is always thrown, but measurement seems to work nonetheless\n",
    "        # in that specific case, we ignore the error\n",
    "        if str(e) == 'bad cast':\n",
    "            pass\n",
    "        else:\n",
    "            raise\n",
    "\n",
    "    sem.acquire()\n",
    "    imspector.disconnect_end(sem.release, 0)\n",
    "\n",
    "blocking_imspector_run(i, ms)"
   ]
  }
 ],
 "metadata": {
  "kernelspec": {
   "display_name": "Python 3",
   "language": "python",
   "name": "python3"
  },
  "language_info": {
   "codemirror_mode": {
    "name": "ipython",
    "version": 3
   },
   "file_extension": ".py",
   "mimetype": "text/x-python",
   "name": "python",
   "nbconvert_exporter": "python",
   "pygments_lexer": "ipython3",
   "version": "3.5.1"
  }
 },
 "nbformat": 4,
 "nbformat_minor": 2
}
