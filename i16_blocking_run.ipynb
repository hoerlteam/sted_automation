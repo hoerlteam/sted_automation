{
 "cells": [
  {
   "cell_type": "code",
   "execution_count": 1,
   "metadata": {},
   "outputs": [],
   "source": [
    "import specpy as sp"
   ]
  },
  {
   "cell_type": "code",
   "execution_count": 3,
   "metadata": {},
   "outputs": [
    {
     "name": "stdout",
     "output_type": "stream",
     "text": [
      "16.3.11958-w2026\n"
     ]
    }
   ],
   "source": [
    "i = sp.get_application()\n",
    "print(i.version())\n",
    "\n",
    "# create new measurement\n",
    "i.create_measurement()\n",
    "ms = i.active_measurement()"
   ]
  },
  {
   "cell_type": "code",
   "execution_count": 8,
   "metadata": {},
   "outputs": [
    {
     "data": {
      "text/plain": [
       "0"
      ]
     },
     "execution_count": 8,
     "metadata": {},
     "output_type": "execute_result"
    }
   ],
   "source": [
    "# starts measurement, but errors afterwards, does not block\n",
    "i.run(ms)"
   ]
  },
  {
   "cell_type": "code",
   "execution_count": 7,
   "metadata": {
    "collapsed": true
   },
   "outputs": [],
   "source": [
    "# hacky fix\n",
    "\n",
    "from threading import Semaphore\n",
    "\n",
    "def blocking_imspector_run(imspector, measurement):\n",
    "    '''\n",
    "    since imspector.run(measurement) seems buggy a.t.m. and does not block,\n",
    "    this wrapps it into a blocking call.\n",
    "    \n",
    "    also catches the 'bad cast' exception that seems to always happen\n",
    "    '''\n",
    "        \n",
    "    sem = Semaphore()\n",
    "    sem.acquire()\n",
    "    imspector.connect_end(sem.release, 0)\n",
    "\n",
    "    try:\n",
    "        imspector.run(measurement)\n",
    "    except RuntimeError as e:\n",
    "        # bad cast error is always thrown, but measurement seems to work nonetheless\n",
    "        # in that specific case, we ignore the error\n",
    "        if str(e) == 'bad cast':\n",
    "            pass\n",
    "        else:\n",
    "            raise\n",
    "\n",
    "    sem.acquire()\n",
    "    imspector.disconnect_end(sem.release, 0)\n",
    "\n",
    "blocking_imspector_run(i, ms)"
   ]
  }
 ],
 "metadata": {
  "kernelspec": {
   "display_name": "Python 3",
   "language": "python",
   "name": "python3"
  },
  "language_info": {
   "codemirror_mode": {
    "name": "ipython",
    "version": 3
   },
   "file_extension": ".py",
   "mimetype": "text/x-python",
   "name": "python",
   "nbconvert_exporter": "python",
   "pygments_lexer": "ipython3",
   "version": "3.7.6"
  }
 },
 "nbformat": 4,
 "nbformat_minor": 2
}
