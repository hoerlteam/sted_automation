{
 "cells": [
  {
   "cell_type": "markdown",
   "metadata": {},
   "source": [
    "# Semiautomatic Quality Control / Alignment helper\n",
    "\n",
    "This notebook is designed to help alignment of an Imspector-driven microscope.\n",
    "\n",
    "The process is the following:\n",
    "\n",
    "1. Image fluorescent beads\n",
    "2. Call cell to fit Gaussian PSFs to all beads\n",
    "3. Repeat. Results over time are plotted"
   ]
  },
  {
   "cell_type": "markdown",
   "metadata": {},
   "source": [
    "## Required libraries\n",
    "** run once **"
   ]
  },
  {
   "cell_type": "code",
   "execution_count": null,
   "metadata": {
    "collapsed": true
   },
   "outputs": [],
   "source": [
    "from scipy import ndimage as ndi\n",
    "from skimage.feature import peak_local_max\n",
    "from itertools import count\n",
    "import numpy as np\n",
    "import time\n",
    "\n",
    "from calmutils.localization import refine_point_lsq, detect_dog\n",
    "from calmutils.localization.util import sig_to_full_width_at_quantile, get_ellipse_params\n",
    "\n",
    "from matplotlib import pyplot as plt\n",
    "from matplotlib.patches import Ellipse\n",
    "\n",
    "import pandas as pd\n",
    "\n",
    "from specpy import *\n",
    "\n",
    "%matplotlib notebook\n",
    "plt.rcParams['figure.figsize'] = [8,8]"
   ]
  },
  {
   "cell_type": "markdown",
   "metadata": {},
   "source": [
    "## Constants\n",
    "** run once **"
   ]
  },
  {
   "cell_type": "code",
   "execution_count": null,
   "metadata": {
    "collapsed": true,
    "scrolled": false
   },
   "outputs": [],
   "source": [
    "\n",
    "# axes in Imspecctors preferred order\n",
    "AXES = ['z', 'y', 'x']\n",
    "# how many pixels to cut for Gauss fit on each side (times fwhm)\n",
    "CUT_FOLD_FWHM = 2\n",
    "# how much the fit fwhm may deviate from \n",
    "FIT_CUTOFF = 2\n"
   ]
  },
  {
   "cell_type": "markdown",
   "metadata": {},
   "source": [
    "## Detection parameters\n",
    "* expected FWHM\n",
    "* intensity threshold for detection\n",
    "\n",
    "** run once ** (or if expected size/intensity changes drastically)"
   ]
  },
  {
   "cell_type": "code",
   "execution_count": null,
   "metadata": {
    "collapsed": true
   },
   "outputs": [],
   "source": [
    "# detection threshold\n",
    "thresh = 0.3\n",
    "# estimated FWHM (in m!)\n",
    "# NB: z, y, x - order\n",
    "fwhm_estim = np.array([400, 40, 40]) * 1e-9"
   ]
  },
  {
   "cell_type": "markdown",
   "metadata": {},
   "source": [
    "# Actual QC pipeline\n",
    "## 1. Initialize\n",
    "** run once ** (or a second time to reset the pipeline)"
   ]
  },
  {
   "cell_type": "code",
   "execution_count": null,
   "metadata": {
    "collapsed": true
   },
   "outputs": [],
   "source": [
    "# init new dataframe for results\n",
    "df = pd.DataFrame()\n",
    "\n",
    "run_counter = count()\n",
    "imgs_accu = []\n"
   ]
  },
  {
   "cell_type": "markdown",
   "metadata": {},
   "source": [
    "## 2. FWHM estimation\n",
    "\n",
    "Runnung this will get the **currently selected images** in Imspector and perform a Gaussian fit to the beads. It will produce 2 plots for each channel:\n",
    "\n",
    "* **Image with FWHM ellipses at each detected spot** (for 3d images, this is a z-maximum-intensity-projection)\n",
    "* **Plot of FWHMS over time** the median FWHM in each dimension in this and all previous runs\n",
    "\n",
    "Before running this cell again, you should **acquire a new image in Imspector and have it selected**."
   ]
  },
  {
   "cell_type": "code",
   "execution_count": null,
   "metadata": {
    "scrolled": false
   },
   "outputs": [],
   "source": [
    "# connect to Imspector, get current images, drop singleton dimensions\n",
    "im = Imspector()\n",
    "ms = im.active_measurement()\n",
    "stack_names = ms.active_configuration().stack_names()\n",
    "\n",
    "imgs = []\n",
    "for stack_name in stack_names:\n",
    "    stack = ms.stack(stack_name)\n",
    "    img = stack.data().copy()\n",
    "    img = img.squeeze()\n",
    "    img = img.astype(np.float)\n",
    "    imgs.append(img)\n",
    "\n",
    "# list of all images over time -> save?\n",
    "imgs_accu.append(imgs)\n",
    "\n",
    "# custom parameter dict\n",
    "# use this to add custom information to the resulting table\n",
    "# e.g. 'correctioncollar' : 0.175\n",
    "custom_parameters = {}\n",
    "\n",
    "# get index of this run and stratime of analysis\n",
    "starttime = pd.to_datetime(time.asctime())\n",
    "run_idx = next(run_counter)\n",
    "run_parameters = {\n",
    "    'starttime' : starttime,\n",
    "    'run_idx' : run_idx\n",
    "}\n",
    "\n",
    "# do analysis for each channel\n",
    "for (channel_idx, img) in enumerate(imgs):\n",
    "    \n",
    "    # plot (maximum projection if 3d)\n",
    "    plt.figure('Channel {} localizations'.format(channel_idx))\n",
    "    is3d = len(img.shape)>2\n",
    "    projection = np.apply_along_axis(np.max, 0, img) if is3d else img\n",
    "    plt.imshow(projection, interpolation='nearest')\n",
    "\n",
    "    # get pixelsize, offset, fov\n",
    "    psz = [ms.active_configuration().parameters('ExpControl/scan/range/{}/psz'.format(a)) for a in AXES[(0 if is3d else 1):]]\n",
    "    off = [ms.active_configuration().parameters('ExpControl/scan/range/{}/off'.format(a)) for a in AXES[(0 if is3d else 1):]]\n",
    "    fov = [ms.active_configuration().parameters('ExpControl/scan/range/{}/len'.format(a)) for a in AXES[(0 if is3d else 1):]]\n",
    "    \n",
    "    # collect for df\n",
    "    scan_param_dict = {'channel_index' : channel_idx}    \n",
    "    scan_param_dict.update({'pixelsize_{}'.format(AXES[i + (0 if is3d else 1)]) : float(psz[i]) for i in range(len(psz)) })\n",
    "    scan_param_dict.update({'fov_{}'.format(AXES[i + (0 if is3d else 1)]) : float(fov[i]) for i in range(len(psz)) })\n",
    "    scan_param_dict.update({'offset_{}'.format(AXES[i + (0 if is3d else 1)]) : float(off[i]) for i in range(len(psz)) })\n",
    "    \n",
    "    # get initial guess\n",
    "    guess = detect_dog(img, threshold=thresh, fwhm=fwhm_estim[(0 if is3d else 1):], pixsize=psz)\n",
    "    for g in guess:\n",
    "        \n",
    "        # cut region size\n",
    "        cut = list(np.ceil(fwhm_estim[(0 if is3d else 1):] / np.array(psz) * CUT_FOLD_FWHM).astype(int))\n",
    "        \n",
    "        # do Gauss fit, ignore if we cannot fit\n",
    "        refined, p = refine_point_lsq(img, g, cut)\n",
    "        if p is None:\n",
    "            continue\n",
    "          \n",
    "        # ignore other part of fit result\n",
    "        p, _ = p\n",
    "        \n",
    "        fit_param_dict = {}\n",
    "        fit_param_dict.update(dict(zip(\n",
    "            ['background', 'peak_height'],\n",
    "            [p[0], p[1]]\n",
    "        )))\n",
    "        fit_param_dict.update({'fit_mu_{}'.format(AXES[i + (0 if is3d else 1)]) : list(refined)[i] * psz[i] for i in range(len(img.shape)) })\n",
    "        fwhm_fit = sig_to_full_width_at_quantile(p[2+len(img.shape):]) * np.array(psz)\n",
    "        fit_param_dict.update({'fit_fwhm_{}'.format(AXES[i + (0 if is3d else 1)]) : fwhm_fit[i] for i in range(len(img.shape)) })\n",
    "        \n",
    "        # get mu and cov for ellipse plotting\n",
    "        mu = list(refined)[(1 if is3d else 0):] # we drop z if 3d\n",
    "        cov = p[2+len(img.shape):]\n",
    "        \n",
    "        \n",
    "        # fitted FWHM deviates too much from expectation -> ignore\n",
    "        if np.any(sig_to_full_width_at_quantile(cov) > fwhm_estim[(0 if is3d else 1):] / np.array(psz) * FIT_CUTOFF):\n",
    "            continue\n",
    "        \n",
    "        cov = cov[(1 if is3d else 0):]\n",
    "        cov = np.diag(cov)\n",
    "    \n",
    "        e = Ellipse(list(reversed(mu)), *get_ellipse_params(cov**2), fill=None, color='red', linewidth=2)\n",
    "        plt.gca().add_artist(e)\n",
    "        \n",
    "        # append results for this spot to table\n",
    "        row = {}\n",
    "        row.update(custom_parameters)\n",
    "        row.update(run_parameters)\n",
    "        row.update(scan_param_dict)\n",
    "        row.update(fit_param_dict)\n",
    "        df = df.append(row, ignore_index=True)\n",
    "        \n",
    "    plt.show()\n",
    "    \n",
    "# plot simple summary (timeseries of sigmas)\n",
    "for channel, group_df in df.groupby(['channel_index']):\n",
    "    \n",
    "    plt.figure('Channel {} FWHMS'.format(channel))\n",
    "    \n",
    "    xfwhms = [ (run, group_df2.fit_fwhm_x.median()) for (run, group_df2) in group_df.groupby(['run_idx']) ]\n",
    "    xfwhms.sort(key=lambda x: x[0]) # sort by run_id\n",
    "    plt.plot([x[0] for x in xfwhms], [x[1] for x in xfwhms], '*-', label='FWHM (x)')\n",
    "    \n",
    "    yfwhms = [ (run, group_df2.fit_fwhm_y.median()) for (run, group_df2) in group_df.groupby(['run_idx']) ]\n",
    "    yfwhms.sort(key=lambda x: x[0]) # sort by run_id\n",
    "    plt.plot([x[0] for x in yfwhms], [x[1] for x in yfwhms], '*-', label='FWHM (y)')\n",
    "    \n",
    "    # only plot z if we have values for it\n",
    "    if 'fit_fwhm_z' in group_df.columns:\n",
    "        zfwhms = [ (run, group_df2.fit_fwhm_z.median()) for (run, group_df2) in group_df.groupby(['run_idx']) ]\n",
    "        zfwhms.sort(key=lambda x: x[0]) # sort by run_id\n",
    "        plt.plot([x[0] for x in zfwhms], [x[1] for x in zfwhms], '*-', label='FWHM (z)')\n",
    "    \n",
    "    plt.legend()\n",
    "    plt.show()"
   ]
  },
  {
   "cell_type": "markdown",
   "metadata": {},
   "source": [
    "## 3. save results\n",
    "\n",
    "The localizations in each run are saved to a table under the hood. If you want to keep them, specify a save path (.csv file) and run this cell to save the table."
   ]
  },
  {
   "cell_type": "code",
   "execution_count": null,
   "metadata": {
    "collapsed": true
   },
   "outputs": [],
   "source": [
    "savepath = 'C:/Users/RESOLFT/Desktop/localizations_001.csv'\n",
    "\n",
    "# save table\n",
    "df.to_csv(savepath, index=False)\n",
    "\n",
    "# TODO: save images and all parameters as well? HDF5?\n",
    "    "
   ]
  }
 ],
 "metadata": {
  "kernelspec": {
   "display_name": "Python 3",
   "language": "python",
   "name": "python3"
  },
  "language_info": {
   "codemirror_mode": {
    "name": "ipython",
    "version": 3
   },
   "file_extension": ".py",
   "mimetype": "text/x-python",
   "name": "python",
   "nbconvert_exporter": "python",
   "pygments_lexer": "ipython3",
   "version": "3.5.1"
  }
 },
 "nbformat": 4,
 "nbformat_minor": 2
}
