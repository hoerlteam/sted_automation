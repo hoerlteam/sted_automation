{
 "cells": [
  {
   "cell_type": "code",
   "execution_count": null,
   "metadata": {
    "collapsed": false
   },
   "outputs": [],
   "source": [
    "from scipy import ndimage as ndi\n",
    "from skimage.feature import peak_local_max\n",
    "from itertools import count\n",
    "import numpy as np\n",
    "import time\n",
    "\n",
    "from calmutils.localization import refine_point_lsq, detect_dog\n",
    "from calmutils.localization.util import sig_to_full_width_at_quantile, get_ellipse_params\n",
    "\n",
    "from matplotlib import pyplot as plt\n",
    "from matplotlib.patches import Ellipse\n",
    "\n",
    "import pandas as pd\n",
    "\n",
    "%matplotlib inline\n",
    "plt.rcParams['figure.figsize'] = [6,6]"
   ]
  },
  {
   "cell_type": "code",
   "execution_count": null,
   "metadata": {
    "collapsed": true
   },
   "outputs": [],
   "source": []
  },
  {
   "cell_type": "code",
   "execution_count": null,
   "metadata": {
    "collapsed": false
   },
   "outputs": [],
   "source": [
    "# init new dataframe for results\n",
    "df = pd.DataFrame()\n",
    "run_counter = count()\n",
    "\n",
    "# detection threshold\n",
    "thresh = 0.3\n",
    "# estimated FWHM (in m!)\n",
    "# NB: z, y, x - order\n",
    "fwhm_estim = np.array([600, 30, 30]) * 10e-9"
   ]
  },
  {
   "cell_type": "code",
   "execution_count": null,
   "metadata": {
    "collapsed": false,
    "scrolled": false
   },
   "outputs": [],
   "source": [
    "    \n",
    "spot = {\n",
    "    'run_idx': 1,\n",
    "    'time': pd.to_datetime(time.asctime())\n",
    "}\n",
    "df = df.append(spot, ignore_index=True)\n",
    "\n",
    "spot = {\n",
    "    'run_idx': 2,\n",
    "    'a' : 2,\n",
    "    'time': pd.to_datetime(time.asctime())\n",
    "}\n",
    "df = df.append(spot, ignore_index=True)\n",
    "\n",
    "\n",
    "sig = 3.2\n",
    "img = np.zeros((200, 200, 20))\n",
    "\n",
    "img[23,45,5] = 1\n",
    "img[25,111, 5] = 1\n",
    "img[21,15, 5] = 1\n",
    "img[78,75, 5] = 1\n",
    "img[48,25, 5] = 1\n",
    "\n",
    "imga = ndi.gaussian_filter(img, sig)\n",
    "\n",
    "\n",
    "imgs = [imga, imga]\n",
    "\n",
    "starttime = pd.to_datetime(time.asctime())\n",
    "\n",
    "for (channel_idx, img) in enumerate(imgs):\n",
    "    plt.figure('Channel {} localizations'.format(channel_idx))\n",
    "    plt.imshow(np.apply_along_axis(np.max, 2, img))\n",
    "    guess = detect_dog(img, 0.4, 3.2)\n",
    "    print(guess)\n",
    "    for g in guess:\n",
    "        g2, (p, _) = refine_point_lsq(img, g, np.array([int(np.round(3.2 * np.sqrt(2*np.log(2))))] * 3))\n",
    "        mu = list(g2)[:2]\n",
    "        print(mu)\n",
    "        cov = np.diag(p[2+len(img.shape):])\n",
    "        e = Ellipse(list(reversed(mu)), *get_ellipse_params(cov**2), fill=None, color='red', linewidth=2)\n",
    "        plt.gca().add_artist(e)\n",
    "    plt.show()\n",
    "\n",
    "df\n"
   ]
  },
  {
   "cell_type": "code",
   "execution_count": null,
   "metadata": {
    "collapsed": false
   },
   "outputs": [],
   "source": [
    "\n",
    "# TODO: get images -> imgs, drop singleton dimensions\n",
    "# TODO: append image list?\n",
    "# TODO: custom parameter dict\n",
    "\n",
    "starttime = pd.to_datetime(time.asctime())\n",
    "run_idx = next(run_counter)\n",
    "\n",
    "for (channel_idx, img) in enumerate(imgs):\n",
    "    \n",
    "\n",
    "    plt.figure('Channel {} localizations'.format(channel_idx))\n",
    "    is3d = len(img.shape)>2\n",
    "    projection = np.apply_along_axis(np.max, 0, img) if is3d else img\n",
    "    plt.imshow(projection)\n",
    "    \n",
    "    # TODO: get pixelsize, offset, fov\n",
    "    \n",
    "    guess = detect_dog(img, threshold=thresh, fwhm=fwhm_estim, pixsize=pix_size)\n",
    "    print(guess)\n",
    "    for g in guess:\n",
    "        \n",
    "        # TODO: better cut region, not hardcode\n",
    "        # TODO: handle unfittable (None)\n",
    "        # TODO: handle 2d, 3d\n",
    "        # TODO: get cutsize from fwhm, pixsize\n",
    "        \n",
    "        g2, (p, _) = refine_point_lsq(img, g, np.array([int(np.round(3.2 * np.sqrt(2*np.log(2))))] * 3))\n",
    "        mu = list(g2)[:2] # TODO: handle both 2d, 3d\n",
    "        \n",
    "        # TODO: pixelsize!\n",
    "        \n",
    "        cov = np.diag(p[2+len(img.shape):]) if not is3d else np.diag(p[2+len(img.shape):-1])\n",
    "    \n",
    "        e = Ellipse(list(reversed(mu)), *get_ellipse_params(cov**2), fill=None, color='red', linewidth=2)\n",
    "        plt.gca().add_artist(e)\n",
    "    plt.show()\n",
    "    \n",
    "# TODO: plot simple summary (timeseries of sigmas)"
   ]
  },
  {
   "cell_type": "code",
   "execution_count": null,
   "metadata": {
    "collapsed": true
   },
   "outputs": [],
   "source": [
    "# TODO: save table\n",
    "# TODO: save images?"
   ]
  },
  {
   "cell_type": "code",
   "execution_count": null,
   "metadata": {
    "collapsed": false,
    "scrolled": false
   },
   "outputs": [],
   "source": [
    "f = plt.figure()\n",
    "f.add_axes()\n",
    "ax = f.get_axes()[0]\n",
    "print(ax)\n",
    "ax.plot([1, 2, 4], '*-')\n",
    "ax.plot([2], '*-')"
   ]
  },
  {
   "cell_type": "code",
   "execution_count": null,
   "metadata": {
    "collapsed": false
   },
   "outputs": [],
   "source": [
    "d = {'a': 1}\n",
    "d.update({'b': 2})\n",
    "d"
   ]
  }
 ],
 "metadata": {
  "kernelspec": {
   "display_name": "Python 3",
   "language": "python",
   "name": "python3"
  },
  "language_info": {
   "codemirror_mode": {
    "name": "ipython",
    "version": 3
   },
   "file_extension": ".py",
   "mimetype": "text/x-python",
   "name": "python",
   "nbconvert_exporter": "python",
   "pygments_lexer": "ipython3",
   "version": "3.6.0"
  }
 },
 "nbformat": 4,
 "nbformat_minor": 2
}
