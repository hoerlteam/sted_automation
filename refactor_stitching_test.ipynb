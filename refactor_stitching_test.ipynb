{
 "cells": [
  {
   "cell_type": "code",
   "execution_count": null,
   "id": "ad1582d6",
   "metadata": {},
   "outputs": [],
   "source": [
    "import specpy\n",
    "\n",
    "from pipeline2 import AcquisitionPipeline\n",
    "from pipeline2.imspector import get_current_stage_coords\n",
    "from pipeline2.callback_buildingblocks.static_settings import JSONSettingsLoader\n",
    "from pipeline2.callback_buildingblocks.parameter_filtering import DefaultLocationRemover\n",
    "from pipeline2.callback_buildingblocks.coordinate_value_wrappers import StageOffsetsSettingsGenerator\n",
    "from pipeline2.callback_buildingblocks.regular_position_generators import SpiralOffsetGenerator\n",
    "from pipeline2.stoppingcriteria import MaximumAcquisitionsStoppingCriterion\n",
    "from pipeline2.taskgeneration import AcquisitionTaskGenerator\n",
    "from pipeline2.callback_buildingblocks.stitched_data_selection import StitchedNewestDataSelector\n",
    "from pipeline2.detection.roi_detection import ROIDetectorWrapper\n",
    "\n",
    "%matplotlib inline"
   ]
  },
  {
   "cell_type": "code",
   "execution_count": null,
   "id": "ff7da15d",
   "metadata": {},
   "outputs": [],
   "source": [
    "# where to save & whether to save combined HDF5 file\n",
    "save_folder = 'D:/AUTOMATION/TEST/20241126_stitching_test'\n",
    "save_hdf5 = True\n",
    "\n",
    "# path of measurement parameters (dumped to JSON file)\n",
    "measurement_parameters = 'test_configs/20241010_overview_3d_640.json'\n",
    "\n",
    "# yx FOV size\n",
    "move_size = [45e-6, 45e-6]"
   ]
  },
  {
   "cell_type": "code",
   "execution_count": null,
   "id": "463170e3",
   "metadata": {},
   "outputs": [],
   "source": [
    "# get current coordinates and print, so we can go back to that position\n",
    "start_coords = get_current_stage_coords()\n",
    "print(start_coords)"
   ]
  },
  {
   "cell_type": "code",
   "execution_count": null,
   "id": "ad4daddd",
   "metadata": {
    "scrolled": false
   },
   "outputs": [],
   "source": [
    "# build pipeline object (1 level: 'field')\n",
    "pipeline = AcquisitionPipeline('multipoint-acquisition', save_folder, ['field'], save_combined_hdf5=save_hdf5)\n",
    "\n",
    "# callback that will create an acquisition task with given measurement parameters\n",
    "# at the next stage coordinates in the coordinate list (the next 'position')\n",
    "next_position_generator = AcquisitionTaskGenerator('field',\n",
    "    DefaultLocationRemover(JSONSettingsLoader(measurement_parameters, as_measurements=False)),\n",
    "    StageOffsetsSettingsGenerator(SpiralOffsetGenerator(move_size, start_coords[1:]))\n",
    "    )\n",
    "\n",
    "dummy_callback = AcquisitionTaskGenerator('field',\n",
    "    ROIDetectorWrapper(StitchedNewestDataSelector(pipeline, 'field', register_tiles=True), lambda x: [])\n",
    ")\n",
    "# attach callback so that after each position, the next one will be enqueued\n",
    "pipeline.add_callback(next_position_generator, 'field')\n",
    "\n",
    "pipeline.add_callback(dummy_callback, 'field')\n",
    "\n",
    "# set maximum number of acquisitions before stop\n",
    "pipeline.add_stopping_condition(MaximumAcquisitionsStoppingCriterion(10))\n",
    "\n",
    "# start with initial task from callback\n",
    "pipeline.run(next_position_generator)"
   ]
  }
 ],
 "metadata": {
  "kernelspec": {
   "display_name": "Python 3 (ipykernel)",
   "language": "python",
   "name": "python3"
  },
  "language_info": {
   "codemirror_mode": {
    "name": "ipython",
    "version": 3
   },
   "file_extension": ".py",
   "mimetype": "text/x-python",
   "name": "python",
   "nbconvert_exporter": "python",
   "pygments_lexer": "ipython3",
   "version": "3.7.12"
  }
 },
 "nbformat": 4,
 "nbformat_minor": 5
}
