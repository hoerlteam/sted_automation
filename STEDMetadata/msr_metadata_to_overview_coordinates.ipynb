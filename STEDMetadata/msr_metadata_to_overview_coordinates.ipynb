{
 "cells": [
  {
   "cell_type": "code",
   "execution_count": 2,
   "metadata": {
    "collapsed": true
   },
   "outputs": [],
   "source": [
    "import ReadSTEDMetadata\n",
    "import pprint\n",
    "import numpy as np\n",
    "import os\n",
    "import re\n",
    "import itertools\n",
    "import theano.tensor"
   ]
  },
  {
   "cell_type": "code",
   "execution_count": 3,
   "metadata": {
    "collapsed": false
   },
   "outputs": [
    {
     "data": {
      "text/plain": [
       "array([166, 166,  20])"
      ]
     },
     "execution_count": 3,
     "metadata": {},
     "output_type": "execute_result"
    }
   ],
   "source": [
    "hd, st = ReadSTEDMetadata.parse_msr('/Users/david/Desktop/AutomatedAcquisitions/GM_81C_150s/overviews/3ce7893ba6275ab5988c1395aec5251e_field1.msr')\n",
    "\n",
    "#print(hd)\n",
    "#print(st)\n",
    "\n",
    "\n",
    "a = get_fov(st[0][2])\n",
    "\n",
    "to_pixel(a[0], a[0], a[1], a[2])"
   ]
  },
  {
   "cell_type": "code",
   "execution_count": 21,
   "metadata": {
    "collapsed": false
   },
   "outputs": [],
   "source": [
    "def get_fov(xml):\n",
    "    keys = list()\n",
    "    keys.append('.doc/ExpControl/scan/range/x/off')\n",
    "    keys.append('.doc/ExpControl/scan/range/y/off')\n",
    "    keys.append('.doc/ExpControl/scan/range/z/off')\n",
    "    keys.append('.doc/ExpControl/scan/range/x/len')\n",
    "    keys.append('.doc/ExpControl/scan/range/y/len')\n",
    "    keys.append('.doc/ExpControl/scan/range/z/len')\n",
    "    keys.append('.doc/ExpControl/scan/range/x/psz')\n",
    "    keys.append('.doc/ExpControl/scan/range/y/psz')\n",
    "    keys.append('.doc/ExpControl/scan/range/z/psz')\n",
    "    vals = list(map(float, ReadSTEDMetadata.get_parameters_from_xml(xml, keys)))\n",
    "    offset = np.array(vals[0:3])\n",
    "    length = np.array(vals[3:6])\n",
    "    pixelsize = np.array(vals[6:9])\n",
    "    return (offset, length, pixelsize)\n",
    "\n",
    "def to_pixel(loc, offset, length, pixelsize):\n",
    "    corner = offset - length / 2\n",
    "    return np.array((loc - corner)/pixelsize, np.int)\n",
    "\n",
    "def make_overview_dict(path, suffix='.msr'):\n",
    "    ovpath = os.path.join(path, 'overviews')\n",
    "    msrs = [f for f in next(os.walk(ovpath))[2] if f.endswith(suffix)]\n",
    "    \n",
    "    res = dict()\n",
    "    for m in msrs:\n",
    "        key = m.split('.')[0]\n",
    "        hd, st = ReadSTEDMetadata.parse_msr(os.path.join(ovpath, m))\n",
    "        fov = get_fov(st[0][2])\n",
    "        res[key] = fov\n",
    "    return res\n",
    "\n",
    "def make_sted_list(path, subfolder, suffix='.msr'):\n",
    "    path2 = os.path.join(path, subfolder)\n",
    "    msrs = [f for f in next(os.walk(path2))[2] if f.endswith(suffix)]\n",
    "    \n",
    "    res = list()\n",
    "    pfield = re.compile('(.*?)_sted.*?')\n",
    "    for m in msrs:\n",
    "        field = re.match(pfield, m).groups()[0]\n",
    "        hd, st = ReadSTEDMetadata.parse_msr(os.path.join(path2, m))\n",
    "        (off, length, psz) = get_fov(st[0][2])\n",
    "        res.append((field, off))\n",
    "    return res\n",
    "\n",
    "\n",
    "def to_pixel_coords(sted_list, overview_dict):\n",
    "    \n",
    "    res = list()\n",
    "    for k, pos in sted_list:\n",
    "        o, l, p = overview_dict[k]\n",
    "        res.append((k, to_pixel(pos, o, l, p)))\n",
    "    return res\n",
    "\n",
    "def write_pixel_coords(file, pixel_coords):\n",
    "    with open(file, 'w') as fd:\n",
    "        for k, c in pixel_coords:\n",
    "            fd.write(','.join([k] + list(map(str, list(c)))) + '\\n')"
   ]
  },
  {
   "cell_type": "code",
   "execution_count": 52,
   "metadata": {
    "collapsed": false
   },
   "outputs": [],
   "source": [
    "s = make_sted_list('/Users/david/Desktop/AutomatedAcquisitions/k562_82C_240s/', 'mediocre')\n",
    "o = make_overview_dict('/Users/david/Desktop/AutomatedAcquisitions/k562_82C_240s/')\n",
    "write_pixel_coords('/Users/david/Desktop/AutomatedAcquisitions/k562_82C_240s/med_coords.csv', to_pixel_coords(s, o))"
   ]
  },
  {
   "cell_type": "code",
   "execution_count": 41,
   "metadata": {
    "collapsed": false
   },
   "outputs": [
    {
     "data": {
      "text/plain": [
       "[(-1, -1, -1),\n",
       " (-1, -1, 0),\n",
       " (-1, -1, 1),\n",
       " (-1, 0, -1),\n",
       " (-1, 0, 0),\n",
       " (-1, 0, 1),\n",
       " (-1, 1, -1),\n",
       " (-1, 1, 0),\n",
       " (-1, 1, 1),\n",
       " (0, -1, -1),\n",
       " (0, -1, 0),\n",
       " (0, -1, 1),\n",
       " (0, 0, -1),\n",
       " (0, 0, 0),\n",
       " (0, 0, 1),\n",
       " (0, 1, -1),\n",
       " (0, 1, 0),\n",
       " (0, 1, 1),\n",
       " (1, -1, -1),\n",
       " (1, -1, 0),\n",
       " (1, -1, 1),\n",
       " (1, 0, -1),\n",
       " (1, 0, 0),\n",
       " (1, 0, 1),\n",
       " (1, 1, -1),\n",
       " (1, 1, 0),\n",
       " (1, 1, 1)]"
      ]
     },
     "execution_count": 41,
     "metadata": {},
     "output_type": "execute_result"
    }
   ],
   "source": [
    "def get_neighborhood(centers, step):\n",
    "    return list(itertools.product(range(centers[0]-int(step/2), step-int(step/2)+centers[0]),\n",
    "                                   range(centers[1]-int(step/2), step-int(step/2)+centers[1]),\n",
    "                                 range(centers[2]-int(step/2), step-int(step/2)+centers[2])))\n",
    "get_neighborhood([0,0,0], 3)"
   ]
  }
 ],
 "metadata": {
  "kernelspec": {
   "display_name": "Python 3",
   "language": "python",
   "name": "python3"
  },
  "language_info": {
   "codemirror_mode": {
    "name": "ipython",
    "version": 3
   },
   "file_extension": ".py",
   "mimetype": "text/x-python",
   "name": "python",
   "nbconvert_exporter": "python",
   "pygments_lexer": "ipython3",
   "version": "3.5.1"
  }
 },
 "nbformat": 4,
 "nbformat_minor": 0
}
