{
 "cells": [
  {
   "cell_type": "markdown",
   "metadata": {},
   "source": [
    "# Auto-STED for imaging of FISH spot pairs\n",
    "\n",
    "## How-To run:\n",
    "\n",
    "1) Run the cell bellow ONCE if you (re)started the notebook\n",
    "\n",
    "(to run a cell, click in it and press Ctrl-Enter)"
   ]
  },
  {
   "cell_type": "code",
   "execution_count": 3,
   "metadata": {
    "collapsed": false
   },
   "outputs": [],
   "source": [
    "from specpy import *\n",
    "from Util.coordinates import *\n",
    "from Util.datastructures import *\n",
    "from Util.tile_util import *\n",
    "from Util.imspector_util import *\n",
    "from Util.dot_detection.Fiji_coordinate_detection import *\n",
    "from Util.coordinate_util import *\n",
    "from Util.dot_detection.Fiji_dummy import *\n",
    "from Util.dot_detection.Fiji_coordinate_detection import read_coords\n",
    "import pprint\n",
    "from Util import datastructures, imspector_util\n",
    "import time\n",
    "from matplotlib import pyplot as plt\n",
    "from skimage.feature import blob_dog, blob_log, blob_doh\n",
    "from scipy import ndimage, spatial, stats\n",
    "from spot_util import *\n",
    "from display_util import *\n",
    "%matplotlib inline"
   ]
  },
  {
   "cell_type": "markdown",
   "metadata": {},
   "source": [
    "\n",
    "# Actual measurement\n",
    "2) insert the name of the results folder in the cell below (line 2)\n",
    "3) run the cell (Imspector has to be running and Tools->Run server has to be ckecked in Imspector)\n",
    "\n",
    "# Stopping the run\n",
    "4) click the \"STOP\"-button at the top of this window\n",
    "5) the current measurement in Imspector will finish, but won't be saved"
   ]
  },
  {
   "cell_type": "code",
   "execution_count": 30,
   "metadata": {
    "collapsed": false
   },
   "outputs": [
    {
     "name": "stdout",
     "output_type": "stream",
     "text": [
      "new z:-3e-06\n",
      "[[230, 71, 5], [135, 149, 8]]\n",
      "new z:-3.5e-06\n",
      "[[289, 254, 24], [77, 9, 29]]\n",
      "new z:-2.75e-06\n",
      "[[72, 64, 17], [194, 87, 18], [220, 264, 18], [67, 60, 21], [228, 71, 27], [68, 291, 32]]\n",
      "new z:-1.75e-06\n",
      "[[109, 288, 16], [224, 205, 25]]\n",
      "new z:-1.5e-06\n",
      "[[119, 27, 23], [209, 260, 27]]\n",
      "new z:-1.5e-06\n",
      "[[103, 249, 12], [215, 77, 24], [198, 234, 29]]\n",
      "new z:-1e-06\n",
      "[[127, 74, 11], [295, 168, 27]]\n",
      "new z:-5e-07\n",
      "[[128, 84, 10], [221, 280, 19], [219, 284, 19], [82, 112, 23], [295, 283, 25], [278, 309, 26]]\n",
      "new z:-2.5e-07\n",
      "[[179, 300, 21], [119, 214, 23], [284, 203, 25], [82, 35, 31], [280, 218, 31], [246, 134, 33]]\n",
      "new z:1e-06\n",
      "[[56, 98, 13], [135, 72, 16], [299, 124, 26], [154, 48, 34]]\n",
      "new z:1.5e-06\n",
      "[[312, 32, 14], [157, 142, 17], [248, 125, 25], [183, 90, 29], [144, 284, 30], [118, 52, 31]]\n",
      "new z:2e-06\n",
      "[[78, 107, 16], [76, 115, 16], [276, 28, 19], [255, 314, 25], [168, 290, 32]]\n",
      "new z:2.75e-06\n",
      "[]\n",
      "new z:2.75e-06\n",
      "[[118, 80, 17], [123, 205, 22]]\n",
      "new z:2.75e-06\n",
      "[[77, 320, 20], [86, 282, 24], [273, 16, 30]]\n",
      "new z:3.75e-06\n",
      "[[14, 286, 25], [226, 27, 26], [78, 132, 28], [273, 143, 33]]\n",
      "new z:3.25e-06\n",
      "[[149, 198, 26], [138, 173, 29]]\n",
      "new z:3.25e-06\n",
      "[[189, 126, 29]]\n",
      "new z:3.5e-06\n",
      "[[222, 44, 13], [85, 114, 19], [322, 85, 28], [320, 90, 28], [296, 270, 28], [264, 13, 29]]\n",
      "new z:4e-06\n",
      "[[136, 230, 11], [180, 81, 12], [152, 140, 20], [261, 287, 21], [178, 222, 29], [254, 90, 32]]\n",
      "new z:4e-06\n",
      "[[296, 105, 13], [197, 115, 19], [63, 69, 23], [153, 110, 29]]\n",
      "new z:4.25e-06\n",
      "[[46, 60, 14], [51, 104, 15], [51, 251, 21], [49, 257, 23], [58, 271, 23], [214, 229, 25], [306, 164, 27], [321, 193, 27]]\n",
      "new z:4.5e-06\n",
      "[[135, 212, 11], [244, 90, 19], [253, 204, 26], [116, 69, 28]]\n",
      "new z:3.75e-06\n",
      "[[141, 146, 13], [47, 159, 16], [41, 141, 18]]\n",
      "new z:3e-06\n",
      "[]\n",
      "new z:1.5e-06\n",
      "[[68, 54, 7], [228, 297, 10], [229, 278, 17], [218, 205, 23], [133, 173, 24]]\n",
      "new z:7.5e-07\n",
      "[[101, 55, 11], [312, 221, 12], [19, 223, 15], [121, 322, 18]]\n",
      "new z:0.0\n",
      "[[184, 39, 17], [282, 299, 17], [318, 9, 23], [209, 59, 23], [103, 191, 24]]\n",
      "new z:-7.5e-07\n",
      "[]\n",
      "new z:-1.25e-06\n",
      "[[44, 199, 12], [14, 4, 13], [16, 107, 16], [320, 128, 19], [199, 113, 21]]\n",
      "new z:-5e-07\n",
      "[[80, 245, 15], [146, 172, 21], [128, 218, 25], [155, 84, 26], [320, 109, 30], [89, 22, 31]]\n",
      "new z:-1.25e-06\n",
      "[[143, 234, 17], [145, 239, 19], [131, 31, 20], [256, 209, 25]]\n",
      "new z:-5e-07\n",
      "[[279, 74, 13], [258, 307, 26], [269, 320, 30]]\n",
      "new z:-5e-07\n",
      "[[202, 209, 10], [230, 30, 14], [170, 63, 19], [129, 211, 23], [126, 79, 24]]\n",
      "new z:-2.5e-07\n",
      "[[30, 3, 15], [243, 59, 23], [60, 194, 24], [142, 111, 26], [283, 118, 28]]\n",
      "new z:1.05879118407e-22\n",
      "[[159, 41, 16], [65, 304, 19], [84, 161, 20], [145, 53, 28], [242, 265, 30]]\n",
      "new z:7.5e-07\n",
      "[[295, 57, 11], [46, 53, 20]]\n",
      "new z:7.5e-07\n",
      "[[43, 298, 25], [61, 325, 28]]\n",
      "new z:1e-06\n",
      "[[257, 299, 20], [57, 213, 27], [246, 294, 28]]\n",
      "new z:1e-06\n",
      "[[236, 229, 13], [96, 120, 14], [130, 125, 16], [61, 7, 18], [308, 46, 19]]\n",
      "new z:7.5e-07\n",
      "[[28, 184, 15], [239, 38, 16], [124, 113, 22], [218, 261, 27], [69, 7, 28]]\n",
      "new z:1.25e-06\n",
      "[[14, 173, 21], [136, 324, 27]]\n",
      "new z:1.25e-06\n",
      "[]\n",
      "new z:1.5e-06\n",
      "[[311, 192, 12], [83, 204, 15], [188, 176, 17], [5, 274, 23], [326, 43, 24], [206, 181, 28]]\n",
      "new z:1.5e-06\n",
      "[[74, 204, 18], [53, 212, 21], [99, 142, 28]]\n",
      "new z:1.75e-06\n",
      "[[84, 212, 13], [284, 320, 21], [57, 124, 28]]\n",
      "new z:1.75e-06\n",
      "[[122, 115, 24], [126, 97, 27], [210, 195, 28]]\n",
      "new z:1.75e-06\n",
      "[[143, 139, 18], [69, 188, 22], [78, 183, 23], [303, 292, 24], [274, 177, 25], [4, 124, 26], [286, 313, 28]]\n",
      "new z:2e-06\n",
      "[[68, 73, 14], [135, 295, 24], [101, 127, 25], [184, 269, 26], [77, 235, 30]]\n",
      "new z:2e-06\n",
      "[[55, 16, 13], [273, 301, 13], [226, 38, 18], [216, 318, 21], [205, 175, 30]]\n",
      "new z:2.25e-06\n",
      "[[82, 191, 11], [164, 31, 13], [10, 275, 16], [145, 93, 17], [8, 86, 24]]\n",
      "new z:2.25e-06\n",
      "[[251, 302, 10], [149, 199, 12], [90, 295, 14], [133, 228, 25], [39, 74, 29]]\n"
     ]
    },
    {
     "ename": "KeyboardInterrupt",
     "evalue": "",
     "output_type": "error",
     "traceback": [
      "\u001b[1;31m---------------------------------------------------------------------------\u001b[0m",
      "\u001b[1;31mKeyboardInterrupt\u001b[0m                         Traceback (most recent call last)",
      "\u001b[1;32m<ipython-input-30-ea7ec7f99d6f>\u001b[0m in \u001b[0;36m<module>\u001b[1;34m()\u001b[0m\n\u001b[0;32m     31\u001b[0m \u001b[1;33m\u001b[0m\u001b[0m\n\u001b[0;32m     32\u001b[0m     \u001b[0mname\u001b[0m \u001b[1;33m=\u001b[0m \u001b[0mnm\u001b[0m\u001b[1;33m.\u001b[0m\u001b[0mget_next_image_name\u001b[0m\u001b[1;33m(\u001b[0m\u001b[1;34m'field'\u001b[0m\u001b[1;33m)\u001b[0m\u001b[1;33m\u001b[0m\u001b[0m\n\u001b[1;32m---> 33\u001b[1;33m     \u001b[0macquire_measurement_dummy\u001b[0m\u001b[1;33m(\u001b[0m\u001b[0mim\u001b[0m\u001b[1;33m,\u001b[0m \u001b[0msee\u001b[0m\u001b[1;33m,\u001b[0m \u001b[1;32mFalse\u001b[0m\u001b[1;33m)\u001b[0m\u001b[1;33m\u001b[0m\u001b[0m\n\u001b[0m\u001b[0;32m     34\u001b[0m     \u001b[0mms\u001b[0m \u001b[1;33m=\u001b[0m \u001b[0mim\u001b[0m\u001b[1;33m.\u001b[0m\u001b[0mactive_measurement\u001b[0m\u001b[1;33m(\u001b[0m\u001b[1;33m)\u001b[0m\u001b[1;33m\u001b[0m\u001b[0m\n\u001b[0;32m     35\u001b[0m \u001b[1;33m\u001b[0m\u001b[0m\n",
      "\u001b[1;32mC:\\Users\\RESOLFT\\Desktop\\sted_automation\\Util\\imspector_util.py\u001b[0m in \u001b[0;36macquire_measurement_dummy\u001b[1;34m(im, config, justmove, delay)\u001b[0m\n\u001b[0;32m    195\u001b[0m \u001b[1;33m\u001b[0m\u001b[0m\n\u001b[0;32m    196\u001b[0m     \u001b[1;32mif\u001b[0m \u001b[1;32mnot\u001b[0m \u001b[0mjustmove\u001b[0m\u001b[1;33m:\u001b[0m\u001b[1;33m\u001b[0m\u001b[0m\n\u001b[1;32m--> 197\u001b[1;33m         \u001b[0mim\u001b[0m\u001b[1;33m.\u001b[0m\u001b[0mrun\u001b[0m\u001b[1;33m(\u001b[0m\u001b[0mms\u001b[0m\u001b[1;33m)\u001b[0m\u001b[1;33m\u001b[0m\u001b[0m\n\u001b[0m\u001b[0;32m    198\u001b[0m     \u001b[1;31m# here are changes the save stack was not there before:\u001b[0m\u001b[1;33m\u001b[0m\u001b[1;33m\u001b[0m\u001b[0m\n\u001b[0;32m    199\u001b[0m     \u001b[1;31m#save_stack(ms, 'C://Users//RESOLFT//Desktop//TEST_folder//', '28_06', i)\u001b[0m\u001b[1;33m\u001b[0m\u001b[1;33m\u001b[0m\u001b[0m\n",
      "\u001b[1;31mKeyboardInterrupt\u001b[0m: "
     ]
    }
   ],
   "source": [
    "# make results dir\n",
    "f = 'C:/Users//RESOLFT/Desktop/AUTOMATION/GM_HS2HS3_4min_prep(16-08-23)/'\n",
    "d = os.path.dirname(f)\n",
    "if not os.path.exists(d):\n",
    "    os.makedirs(d)\n",
    "\n",
    "im = Imspector()\n",
    "\n",
    "see = Settings()\n",
    "see.load_from_file('C:/Users//RESOLFT/Desktop/ov.json')\n",
    "coords = generate_grid_oop([0,0],[2e-3, 2e-3], [5e-5, 5e-5])\n",
    "for c in coords:\n",
    "    c.set_fov_len([5e-05, 5e-05, 1e-5])\n",
    "   \n",
    "\n",
    "#keep track of maximum z -> use that as next midplane\n",
    "zpos = 0.0;\n",
    "    \n",
    "nm = datastructures.NameManagement(d)\n",
    "nm.add_counter('field')\n",
    "nm.add_counter('sted')\n",
    "\n",
    "# measurement will be created on first run\n",
    "ms = None\n",
    "\n",
    "for c in coords:\n",
    "    \n",
    "    offset_old = c.get_scan_offset()\n",
    "    offset_old[2] = zpos\n",
    "    c.set_offset_coords(offset_old)\n",
    "    \n",
    "    see.set_to_coordinates(c)\n",
    "    \n",
    "    \n",
    "    name = nm.get_next_image_name('field')\n",
    "    acquire_measurement(im, see, ms)\n",
    "    ms = im.active_measurement()\n",
    "    \n",
    "    # JUST DO THE MOVES\n",
    "    #im.close(ms)\n",
    "    #continue\n",
    "    \n",
    "    sites = pair_finder(ms, threshold = 0.8)\n",
    "    \n",
    "    # get images in both channels\n",
    "    # and plot the detections in max-projection\n",
    "    stack1 = ms.stack(0).data()[0,:,:,:]\n",
    "    stack2 = ms.stack(1).data()[0,:,:,:]\n",
    "    draw_detections_2c(stack1, stack2, sites, [1, 10], 0, 3)\n",
    "    plt.show()\n",
    "    \n",
    "    co = c.copy()\n",
    "    \n",
    "    corner = middle2corner(c.get_scan_offset(), c.get_fov_len())\n",
    "    pixelsd = get_pixel_size(ms)\n",
    "    actual_coords = corner2spot(corner, sites, pixelsd)\n",
    "    \n",
    "    # update focus\n",
    "    zpos += focus_in_stack(ms.stack(0).data(), pixelsd[2])    \n",
    "    \n",
    "    ms.save_as(name)\n",
    "    \n",
    "    #im.close(ms)\n",
    "    \n",
    "    print('new z:' + str(zpos))\n",
    "    print(sites)\n",
    "    \n",
    "    see2 = Settings()\n",
    "    see2.load_from_file('C:/Users//RESOLFT/Desktop/det.json')\n",
    "    \n",
    "    nm.reset_counter('sted')\n",
    "    \n",
    "    for i in actual_coords:\n",
    "        co.set_fov_len([3e-06, 3e-06, 1e-06])\n",
    "        co.set_offset_coords(i)\n",
    "        see2.set_to_coordinates(co)\n",
    "        \n",
    "        name = nm.get_next_image_name('sted')\n",
    "        acquire_measurement_dummy(im, see2, ms)\n",
    "        \n",
    "        ms = im.active_measurement()\n",
    "        ms.save_as(name)\n",
    "        #im.close(ms)"
   ]
  },
  {
   "cell_type": "markdown",
   "metadata": {},
   "source": [
    "# code below here is only for testing purposes"
   ]
  },
  {
   "cell_type": "code",
   "execution_count": 20,
   "metadata": {
    "collapsed": true
   },
   "outputs": [],
   "source": [
    "stack1 = ms.stack(0).data()[0,:,:,:]\n",
    "stack2 = ms.stack(1).data()[0,:,:,:]\n",
    "\n",
    "sig = 3 / np.sqrt(2)\n",
    "dets1 = detect_blobs(stack1, [sig, sig, sig], 0.002)    \n",
    "dets1=list(dets1)\n",
    "dets2 = detect_blobs(stack2, [sig, sig, sig], 0.002)    \n",
    "dets2=list(dets2)"
   ]
  },
  {
   "cell_type": "code",
   "execution_count": 17,
   "metadata": {
    "collapsed": false
   },
   "outputs": [
    {
     "data": {
      "text/plain": [
       "[[-1.54e-05, -1.615e-05, 1.9999999999999995e-06],\n",
       " [1.1449999999999997e-05, 7.549999999999997e-06, 4.8e-06]]"
      ]
     },
     "execution_count": 17,
     "metadata": {},
     "output_type": "execute_result"
    }
   ],
   "source": [
    "actual_coords"
   ]
  },
  {
   "cell_type": "code",
   "execution_count": 20,
   "metadata": {
    "collapsed": false
   },
   "outputs": [
    {
     "data": {
      "text/plain": [
       "<Util.coordinates.Coordinates at 0x8de97f0>"
      ]
     },
     "execution_count": 20,
     "metadata": {},
     "output_type": "execute_result"
    }
   ],
   "source": [
    "co"
   ]
  },
  {
   "cell_type": "code",
   "execution_count": 2,
   "metadata": {
    "collapsed": false
   },
   "outputs": [
    {
     "data": {
      "text/plain": [
       "[[23, 313, 2], [321, 22, 5], [323, 30, 5], [95, 180, 9]]"
      ]
     },
     "execution_count": 2,
     "metadata": {},
     "output_type": "execute_result"
    }
   ],
   "source": [
    "pair_finder(Imspector().active_measurement())"
   ]
  }
 ],
 "metadata": {
  "kernelspec": {
   "display_name": "Python 3",
   "language": "python",
   "name": "python3"
  },
  "language_info": {
   "codemirror_mode": {
    "name": "ipython",
    "version": 3
   },
   "file_extension": ".py",
   "mimetype": "text/x-python",
   "name": "python",
   "nbconvert_exporter": "python",
   "pygments_lexer": "ipython3",
   "version": "3.5.1"
  }
 },
 "nbformat": 4,
 "nbformat_minor": 0
}
