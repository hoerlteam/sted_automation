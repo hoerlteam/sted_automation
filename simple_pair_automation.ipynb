{
 "cells": [
  {
   "cell_type": "code",
   "execution_count": 3,
   "metadata": {
    "collapsed": true
   },
   "outputs": [],
   "source": [
    "from specpy import *\n",
    "from Util.coordinates import *\n",
    "from Util.datastructures import *\n",
    "from Util.tile_util import *\n",
    "from Util.imspector_util import *\n",
    "from Util.dot_detection.Fiji_coordinate_detection import *\n",
    "from Util.coordinate_util import *\n",
    "from Util.dot_detection.Fiji_dummy import *\n",
    "from Util.dot_detection.Fiji_coordinate_detection import read_coords\n",
    "import pprint\n",
    "from Util import datastructures, imspector_util\n",
    "import time\n",
    "from matplotlib import pyplot as plt\n",
    "from skimage.feature import blob_dog, blob_log, blob_doh\n",
    "from scipy import ndimage, spatial, stats\n",
    "from spot_util import *\n",
    "%matplotlib inline"
   ]
  },
  {
   "cell_type": "code",
   "execution_count": 5,
   "metadata": {
    "collapsed": true
   },
   "outputs": [],
   "source": [
    "def detect_blobs(img, sigmas, threshold):\n",
    "    img = skimage.util.img_as_float(img)\n",
    "    img = img / np.max(img)\n",
    "    logimg = -ndimage.gaussian_laplace(img, sigmas)\n",
    "    peaks = skimage.feature.peak_local_max(logimg, threshold_abs=threshold)\n",
    "    return peaks"
   ]
  },
  {
   "cell_type": "code",
   "execution_count": 4,
   "metadata": {
    "collapsed": true
   },
   "outputs": [],
   "source": [
    "def pair_finder(ms, pix_sig=3, threshold=0.01):\n",
    "\n",
    "    stack1 = ms.stack(0).data()[0,:,:,:]\n",
    "    stack2 = ms.stack(1).data()[0,:,:,:]\n",
    "\n",
    "    sig = pix_sig / np.sqrt(2)\n",
    "    dets1 = detect_blobs(stack1, [sig, sig, sig], threshold)    \n",
    "    dets1=list(dets1)\n",
    "    dets2 = detect_blobs(stack2, [sig, sig, sig], threshold)    \n",
    "    dets2=list(dets2)\n",
    "\n",
    "    if (len(dets1) == 0 or len(dets2) == 0):\n",
    "        return []\n",
    "    \n",
    "    kd1 = spatial.KDTree(dets1)\n",
    "    kd2 = spatial.KDTree(dets2)\n",
    "\n",
    "    cleanup_kdtree(stack1, kd1, dets1, 3)\n",
    "    cleanup_kdtree(stack2, kd2, dets2, 3)\n",
    "\n",
    "    res = []\n",
    "    for p in find_pairs(kd2, dets1, 5):\n",
    "        res.append(list(p))\n",
    "\n",
    "    return res"
   ]
  },
  {
   "cell_type": "code",
   "execution_count": 6,
   "metadata": {
    "collapsed": true
   },
   "outputs": [],
   "source": [
    "def cleanup_kdtree(img, kdt, dets, dist):\n",
    "    notdone = True\n",
    "    while notdone:\n",
    "        notdone = False\n",
    "        for i in range(len(dets)):\n",
    "            nn = kdt.query(dets[i],k=2, distance_upper_bound=dist)\n",
    "            if (not np.isinf(nn[0][1])) and nn[0][1] > 0:\n",
    "                ineighbor = nn[1][1]\n",
    "                if img[tuple(dets[i])] < img[tuple(dets[ineighbor])]:\n",
    "                    dets.pop(i)\n",
    "                else:\n",
    "                    dets.pop(ineighbor)\n",
    "                notdone = True\n",
    "                    \n",
    "                kdt = spatial.KDTree(dets)\n",
    "                break\n",
    "        \n",
    "def find_pairs(kdt2, dets1, dist):\n",
    "    res = []\n",
    "    for d in dets1:\n",
    "        nn = kdt2.query(d, distance_upper_bound=dist)\n",
    "        if not np.isinf(nn[0]):\n",
    "            # dets were in zyx -> turn to xyz\n",
    "            res.append(d[-1::-1])\n",
    "    return res"
   ]
  },
  {
   "cell_type": "code",
   "execution_count": 7,
   "metadata": {
    "collapsed": false
   },
   "outputs": [
    {
     "ename": "NameError",
     "evalue": "name 'ms' is not defined",
     "output_type": "error",
     "traceback": [
      "\u001b[1;31m---------------------------------------------------------------------------\u001b[0m",
      "\u001b[1;31mNameError\u001b[0m                                 Traceback (most recent call last)",
      "\u001b[1;32m<ipython-input-7-ee1eeea2f0f5>\u001b[0m in \u001b[0;36m<module>\u001b[1;34m()\u001b[0m\n\u001b[0;32m     12\u001b[0m     \u001b[1;32mreturn\u001b[0m \u001b[0mpix_d\u001b[0m \u001b[1;33m*\u001b[0m \u001b[0mpixsize_z\u001b[0m\u001b[1;33m\u001b[0m\u001b[0m\n\u001b[0;32m     13\u001b[0m \u001b[1;33m\u001b[0m\u001b[0m\n\u001b[1;32m---> 14\u001b[1;33m \u001b[0mfocus_in_stack\u001b[0m\u001b[1;33m(\u001b[0m\u001b[0mms\u001b[0m\u001b[1;33m.\u001b[0m\u001b[0mstack\u001b[0m\u001b[1;33m(\u001b[0m\u001b[1;36m0\u001b[0m\u001b[1;33m)\u001b[0m\u001b[1;33m.\u001b[0m\u001b[0mdata\u001b[0m\u001b[1;33m(\u001b[0m\u001b[1;33m)\u001b[0m\u001b[1;33m,\u001b[0m \u001b[1;36m400e-09\u001b[0m\u001b[1;33m)\u001b[0m\u001b[1;33m\u001b[0m\u001b[0m\n\u001b[0m",
      "\u001b[1;31mNameError\u001b[0m: name 'ms' is not defined"
     ]
    }
   ],
   "source": [
    "def mean_along_axis(img, axis):\n",
    "    axes = tuple([ax for ax in range(len(img.shape)) if ax != axis])\n",
    "    #print(axes)\n",
    "    profile = np.mean(img, axes)\n",
    "    return profile\n",
    "\n",
    "def focus_in_stack(img, pixsize_z):\n",
    "    profile = mean_along_axis(img, 1)\n",
    "    smoothprofile = ndimage.gaussian_filter1d(profile, 3, mode='constant')\n",
    "    tmax = np.argmax(smoothprofile)\n",
    "    pix_d = tmax - (len(profile) / 2)\n",
    "    return pix_d * pixsize_z\n",
    "\n",
    "focus_in_stack(ms.stack(0).data(), 400e-09)"
   ]
  },
  {
   "cell_type": "code",
   "execution_count": 63,
   "metadata": {
    "collapsed": true
   },
   "outputs": [],
   "source": [
    "see = Settings()\n",
    "co = Coordinates()"
   ]
  },
  {
   "cell_type": "code",
   "execution_count": 2,
   "metadata": {
    "collapsed": false
   },
   "outputs": [
    {
     "ename": "KeyboardInterrupt",
     "evalue": "",
     "output_type": "error",
     "traceback": [
      "\u001b[1;31m---------------------------------------------------------------------------\u001b[0m",
      "\u001b[1;31mKeyboardInterrupt\u001b[0m                         Traceback (most recent call last)",
      "\u001b[1;32m<ipython-input-2-a79ac1a23592>\u001b[0m in \u001b[0;36m<module>\u001b[1;34m()\u001b[0m\n\u001b[0;32m     25\u001b[0m \u001b[1;33m\u001b[0m\u001b[0m\n\u001b[0;32m     26\u001b[0m     \u001b[0mname\u001b[0m \u001b[1;33m=\u001b[0m \u001b[0mnm\u001b[0m\u001b[1;33m.\u001b[0m\u001b[0mget_next_image_name\u001b[0m\u001b[1;33m(\u001b[0m\u001b[1;34m'field'\u001b[0m\u001b[1;33m)\u001b[0m\u001b[1;33m\u001b[0m\u001b[0m\n\u001b[1;32m---> 27\u001b[1;33m     \u001b[0macquire_measurement_dummy\u001b[0m\u001b[1;33m(\u001b[0m\u001b[0mim\u001b[0m\u001b[1;33m,\u001b[0m \u001b[0msee\u001b[0m\u001b[1;33m)\u001b[0m\u001b[1;33m\u001b[0m\u001b[0m\n\u001b[0m\u001b[0;32m     28\u001b[0m     \u001b[0mms\u001b[0m \u001b[1;33m=\u001b[0m \u001b[0mim\u001b[0m\u001b[1;33m.\u001b[0m\u001b[0mactive_measurement\u001b[0m\u001b[1;33m(\u001b[0m\u001b[1;33m)\u001b[0m\u001b[1;33m\u001b[0m\u001b[0m\n\u001b[0;32m     29\u001b[0m \u001b[1;33m\u001b[0m\u001b[0m\n",
      "\u001b[1;32mC:\\Users\\RESOLFT\\Desktop\\sted_automation\\Util\\imspector_util.py\u001b[0m in \u001b[0;36macquire_measurement_dummy\u001b[1;34m(im, config)\u001b[0m\n\u001b[0;32m    188\u001b[0m     \u001b[0mconfig\u001b[0m\u001b[1;33m.\u001b[0m\u001b[0mapply_to_settings_dict\u001b[0m\u001b[1;33m(\u001b[0m\u001b[0mparams\u001b[0m\u001b[1;33m)\u001b[0m\u001b[1;33m\u001b[0m\u001b[0m\n\u001b[0;32m    189\u001b[0m     \u001b[0mms\u001b[0m\u001b[1;33m.\u001b[0m\u001b[0mset_parameters\u001b[0m\u001b[1;33m(\u001b[0m\u001b[0mparams\u001b[0m\u001b[1;33m)\u001b[0m\u001b[1;33m\u001b[0m\u001b[0m\n\u001b[1;32m--> 190\u001b[1;33m     \u001b[0mim\u001b[0m\u001b[1;33m.\u001b[0m\u001b[0mrun\u001b[0m\u001b[1;33m(\u001b[0m\u001b[0mms\u001b[0m\u001b[1;33m)\u001b[0m\u001b[1;33m\u001b[0m\u001b[0m\n\u001b[0m\u001b[0;32m    191\u001b[0m     \u001b[1;31m# here are changes the save stack was not there before:\u001b[0m\u001b[1;33m\u001b[0m\u001b[1;33m\u001b[0m\u001b[0m\n\u001b[0;32m    192\u001b[0m     \u001b[1;31m#save_stack(ms, 'C://Users//RESOLFT//Desktop//TEST_folder//', '28_06', i)\u001b[0m\u001b[1;33m\u001b[0m\u001b[1;33m\u001b[0m\u001b[0m\n",
      "\u001b[1;31mKeyboardInterrupt\u001b[0m: "
     ]
    }
   ],
   "source": [
    "# make results dir\n",
    "f = 'C:/Users//RESOLFT/Desktop/AUTOMATION/82_2min/'\n",
    "d = os.path.dirname(f)\n",
    "if not os.path.exists(d):\n",
    "    os.makedirs(d)\n",
    "\n",
    "im = Imspector()\n",
    "\n",
    "see = Settings()\n",
    "see.load_from_file('C:/Users//RESOLFT/Desktop/ov.json')\n",
    "coords = generate_grid_oop([0,0],[2e-3, 2e-3], [5e-5, 5e-5])\n",
    "for c in coords:\n",
    "    c.set_fov_len([5e-05, 5e-05, 1.2e-5])\n",
    "   \n",
    "\n",
    "#keep track of maximum z -> use that as next midplane\n",
    "zpos = 0.0;\n",
    "    \n",
    "nm = datastructures.NameManagement(d)\n",
    "nm.add_counter('field')\n",
    "nm.add_counter('sted')\n",
    "\n",
    "for c in coords:\n",
    "    \n",
    "    offset_old = c.get_scan_offset()\n",
    "    offset_old[2] = zpos\n",
    "    c.set_offset_coords(offset_old)\n",
    "    \n",
    "    see.set_to_coordinates(c)\n",
    "    \n",
    "    \n",
    "    name = nm.get_next_image_name('field')\n",
    "    acquire_measurement_dummy(im, see)\n",
    "    ms = im.active_measurement()\n",
    "    \n",
    "    sites = pair_finder(ms)\n",
    "    \n",
    "    co = c.copy()\n",
    "    \n",
    "    corner = middle2corner(c.get_scan_offset(), c.get_fov_len())\n",
    "    pixelsd = get_pixel_size(ms)\n",
    "    actual_coords = corner2spot(corner, sites, pixelsd)\n",
    "    \n",
    "    # update focus\n",
    "    zpos += focus_in_stack(ms.stack(0).data(), pixelsd[2])    \n",
    "    \n",
    "    ms.save_as(name)\n",
    "    im.close(ms)\n",
    "    \n",
    "    print(sites)\n",
    "    \n",
    "    see2 = Settings()\n",
    "    see2.load_from_file('C:/Users//RESOLFT/Desktop/det.json')\n",
    "    \n",
    "    nm.reset_counter('sted')\n",
    "    \n",
    "    for i in actual_coords:\n",
    "        co.set_fov_len([3e-06, 3e-06, 1e-06])\n",
    "        co.set_offset_coords(i)\n",
    "        see2.set_to_coordinates(co)\n",
    "        \n",
    "        name = nm.get_next_image_name('sted')\n",
    "        acquire_measurement_dummy(im, see2)\n",
    "        \n",
    "        ms = im.active_measurement()\n",
    "        ms.save_as(name)\n",
    "        im.close(ms)"
   ]
  },
  {
   "cell_type": "code",
   "execution_count": 20,
   "metadata": {
    "collapsed": true
   },
   "outputs": [],
   "source": [
    "stack1 = ms.stack(0).data()[0,:,:,:]\n",
    "stack2 = ms.stack(1).data()[0,:,:,:]\n",
    "\n",
    "sig = 3 / np.sqrt(2)\n",
    "dets1 = detect_blobs(stack1, [sig, sig, sig], 0.002)    \n",
    "dets1=list(dets1)\n",
    "dets2 = detect_blobs(stack2, [sig, sig, sig], 0.002)    \n",
    "dets2=list(dets2)"
   ]
  },
  {
   "cell_type": "code",
   "execution_count": 17,
   "metadata": {
    "collapsed": false
   },
   "outputs": [
    {
     "data": {
      "text/plain": [
       "[[-1.54e-05, -1.615e-05, 1.9999999999999995e-06],\n",
       " [1.1449999999999997e-05, 7.549999999999997e-06, 4.8e-06]]"
      ]
     },
     "execution_count": 17,
     "metadata": {},
     "output_type": "execute_result"
    }
   ],
   "source": [
    "actual_coords"
   ]
  },
  {
   "cell_type": "code",
   "execution_count": 20,
   "metadata": {
    "collapsed": false
   },
   "outputs": [
    {
     "data": {
      "text/plain": [
       "<Util.coordinates.Coordinates at 0x8de97f0>"
      ]
     },
     "execution_count": 20,
     "metadata": {},
     "output_type": "execute_result"
    }
   ],
   "source": [
    "co"
   ]
  },
  {
   "cell_type": "code",
   "execution_count": 22,
   "metadata": {
    "collapsed": false
   },
   "outputs": [
    {
     "data": {
      "text/plain": [
       "[[0.0006972, -1.5250000000000001e-05, 3.199999999999999e-06],\n",
       " [0.00072435, 8.75e-06, 4.799999999999999e-06],\n",
       " [0.0006774, -1.2100000000000001e-05, 7.2e-06],\n",
       " [0.0006852000000000001, -5.500000000000032e-07, 7.599999999999999e-06]]"
      ]
     },
     "execution_count": 22,
     "metadata": {},
     "output_type": "execute_result"
    }
   ],
   "source": [
    "actual_coords"
   ]
  }
 ],
 "metadata": {
  "kernelspec": {
   "display_name": "Python 3",
   "language": "python",
   "name": "python3"
  },
  "language_info": {
   "codemirror_mode": {
    "name": "ipython",
    "version": 3
   },
   "file_extension": ".py",
   "mimetype": "text/x-python",
   "name": "python",
   "nbconvert_exporter": "python",
   "pygments_lexer": "ipython3",
   "version": "3.5.1"
  }
 },
 "nbformat": 4,
 "nbformat_minor": 0
}
