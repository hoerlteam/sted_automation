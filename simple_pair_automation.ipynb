{
 "cells": [
  {
   "cell_type": "code",
   "execution_count": 1,
   "metadata": {
    "collapsed": true
   },
   "outputs": [],
   "source": [
    "from specpy import *\n",
    "from Util.coordinates import *\n",
    "from Util.datastructures import *\n",
    "from Util.tile_util import *\n",
    "from Util.imspector_util import *\n",
    "from Util.dot_detection.Fiji_coordinate_detection import *\n",
    "from Util.coordinate_util import *\n",
    "from Util.dot_detection.Fiji_dummy import *\n",
    "from Util.dot_detection.Fiji_coordinate_detection import read_coords\n",
    "import pprint\n",
    "from Util import datastructures, imspector_util\n",
    "import time\n",
    "from matplotlib import pyplot as plt\n",
    "from skimage.feature import blob_dog, blob_log, blob_doh\n",
    "from scipy import ndimage, spatial\n",
    "%matplotlib inline"
   ]
  },
  {
   "cell_type": "code",
   "execution_count": 2,
   "metadata": {
    "collapsed": false
   },
   "outputs": [],
   "source": [
    "def detect_blobs(img, sigmas, threshold):\n",
    "    img = skimage.util.img_as_float(img)\n",
    "    img = img / np.max(img)\n",
    "    logimg = -ndimage.gaussian_laplace(img, sigmas)\n",
    "    peaks = skimage.feature.peak_local_max(logimg, threshold_abs=threshold)\n",
    "    return peaks    "
   ]
  },
  {
   "cell_type": "code",
   "execution_count": 3,
   "metadata": {
    "collapsed": false
   },
   "outputs": [],
   "source": [
    "def pair_finder(ms, pix_sig=3, threshold=0.01):\n",
    "\n",
    "    stack1 = ms.stack(0).data()[0,:,:,:]\n",
    "    stack2 = ms.stack(1).data()[0,:,:,:]\n",
    "\n",
    "    sig = pix_sig / np.sqrt(2)\n",
    "    dets1 = detect_blobs(stack1, [sig, sig, sig], threshold)    \n",
    "    dets1=list(dets1)\n",
    "    dets2 = detect_blobs(stack2, [sig, sig, sig], threshold)    \n",
    "    dets2=list(dets2)\n",
    "\n",
    "    if (len(dets1) == 0 or len(dets2) == 0):\n",
    "        return []\n",
    "    \n",
    "    kd1 = spatial.KDTree(dets1)\n",
    "    kd2 = spatial.KDTree(dets2)\n",
    "\n",
    "    cleanup_kdtree(stack1, kd1, dets1, 3)\n",
    "    cleanup_kdtree(stack2, kd2, dets2, 3)\n",
    "\n",
    "    res = []\n",
    "    for p in find_pairs(kd2, dets1, 5):\n",
    "        res.append(list(p))\n",
    "\n",
    "    return res"
   ]
  },
  {
   "cell_type": "code",
   "execution_count": 4,
   "metadata": {
    "collapsed": true
   },
   "outputs": [],
   "source": [
    "def cleanup_kdtree(img, kdt, dets, dist):\n",
    "    notdone = True\n",
    "    while notdone:\n",
    "        notdone = False\n",
    "        for i in range(len(dets)):\n",
    "            nn = kdt.query(dets[i],k=2, distance_upper_bound=dist)\n",
    "            if (not np.isinf(nn[0][1])) and nn[0][1] > 0:\n",
    "                ineighbor = nn[1][1]\n",
    "                if img[tuple(dets[i])] < img[tuple(dets[ineighbor])]:\n",
    "                    dets.pop(i)\n",
    "                else:\n",
    "                    dets.pop(ineighbor)\n",
    "                notdone = True\n",
    "                    \n",
    "                kdt = spatial.KDTree(dets)\n",
    "                break\n",
    "        \n",
    "def find_pairs(kdt2, dets1, dist):\n",
    "    res = []\n",
    "    for d in dets1:\n",
    "        nn = kdt2.query(d, distance_upper_bound=dist)\n",
    "        if not np.isinf(nn[0]):\n",
    "            res.append(d)\n",
    "    return res"
   ]
  },
  {
   "cell_type": "code",
   "execution_count": 8,
   "metadata": {
    "collapsed": false
   },
   "outputs": [],
   "source": [
    "im = Imspector()\n",
    "ms = im.active_measurement()\n",
    "pair_finder(ms)\n",
    "im.close(ms)"
   ]
  },
  {
   "cell_type": "code",
   "execution_count": 9,
   "metadata": {
    "collapsed": false
   },
   "outputs": [
    {
     "name": "stdout",
     "output_type": "stream",
     "text": [
      "[[3, 203, 302]]\n"
     ]
    },
    {
     "ename": "KeyboardInterrupt",
     "evalue": "",
     "output_type": "error",
     "traceback": [
      "\u001b[1;31m---------------------------------------------------------------------------\u001b[0m",
      "\u001b[1;31mKeyboardInterrupt\u001b[0m                         Traceback (most recent call last)",
      "\u001b[1;32m<ipython-input-9-5dec2c5e13e1>\u001b[0m in \u001b[0;36m<module>\u001b[1;34m()\u001b[0m\n\u001b[0;32m     16\u001b[0m \u001b[1;33m\u001b[0m\u001b[0m\n\u001b[0;32m     17\u001b[0m     \u001b[0mname\u001b[0m \u001b[1;33m=\u001b[0m \u001b[0mnm\u001b[0m\u001b[1;33m.\u001b[0m\u001b[0mget_next_image_name\u001b[0m\u001b[1;33m(\u001b[0m\u001b[1;34m'field'\u001b[0m\u001b[1;33m)\u001b[0m\u001b[1;33m\u001b[0m\u001b[0m\n\u001b[1;32m---> 18\u001b[1;33m     \u001b[0macquire_measurement_dummy\u001b[0m\u001b[1;33m(\u001b[0m\u001b[0mim\u001b[0m\u001b[1;33m,\u001b[0m \u001b[0msee\u001b[0m\u001b[1;33m)\u001b[0m\u001b[1;33m\u001b[0m\u001b[0m\n\u001b[0m\u001b[0;32m     19\u001b[0m     \u001b[0mms\u001b[0m \u001b[1;33m=\u001b[0m \u001b[0mim\u001b[0m\u001b[1;33m.\u001b[0m\u001b[0mactive_measurement\u001b[0m\u001b[1;33m(\u001b[0m\u001b[1;33m)\u001b[0m\u001b[1;33m\u001b[0m\u001b[0m\n\u001b[0;32m     20\u001b[0m \u001b[1;33m\u001b[0m\u001b[0m\n",
      "\u001b[1;32mC:\\Users\\RESOLFT\\Desktop\\sted_automation\\Util\\imspector_util.py\u001b[0m in \u001b[0;36macquire_measurement_dummy\u001b[1;34m(im, config)\u001b[0m\n\u001b[0;32m    189\u001b[0m     \u001b[0mconfig\u001b[0m\u001b[1;33m.\u001b[0m\u001b[0mapply_to_settings_dict\u001b[0m\u001b[1;33m(\u001b[0m\u001b[0mparams\u001b[0m\u001b[1;33m)\u001b[0m\u001b[1;33m\u001b[0m\u001b[0m\n\u001b[0;32m    190\u001b[0m     \u001b[0mms\u001b[0m\u001b[1;33m.\u001b[0m\u001b[0mset_parameters\u001b[0m\u001b[1;33m(\u001b[0m\u001b[0mparams\u001b[0m\u001b[1;33m)\u001b[0m\u001b[1;33m\u001b[0m\u001b[0m\n\u001b[1;32m--> 191\u001b[1;33m     \u001b[0mim\u001b[0m\u001b[1;33m.\u001b[0m\u001b[0mrun\u001b[0m\u001b[1;33m(\u001b[0m\u001b[0mms\u001b[0m\u001b[1;33m)\u001b[0m\u001b[1;33m\u001b[0m\u001b[0m\n\u001b[0m\u001b[0;32m    192\u001b[0m     \u001b[1;31m# here are changes the save stack was not there before:\u001b[0m\u001b[1;33m\u001b[0m\u001b[1;33m\u001b[0m\u001b[0m\n\u001b[0;32m    193\u001b[0m     \u001b[1;31m#save_stack(ms, 'C://Users//RESOLFT//Desktop//TEST_folder//', '28_06', i)\u001b[0m\u001b[1;33m\u001b[0m\u001b[1;33m\u001b[0m\u001b[0m\n",
      "\u001b[1;31mKeyboardInterrupt\u001b[0m: "
     ]
    }
   ],
   "source": [
    "im = Imspector()\n",
    "\n",
    "see = Settings()\n",
    "see.load_from_file('C:/Users//RESOLFT/Desktop/ov.json')\n",
    "coords = generate_grid_oop([0,0],[2e-3, 2e-3], [5e-5, 5e-5])\n",
    "for c in coords:\n",
    "    c.set_fov_len([5e-05, 5e-05, 1.2e-5])\n",
    "    \n",
    "    \n",
    "nm = datastructures.NameManagement('C:/Users//RESOLFT/Desktop/AUTOMATION/')\n",
    "nm.add_counter('field')\n",
    "nm.add_counter('sted')\n",
    "\n",
    "for c in coords:\n",
    "    see.set_to_coordinates(c)\n",
    "    \n",
    "    name = nm.get_next_image_name('field')\n",
    "    acquire_measurement_dummy(im, see)\n",
    "    ms = im.active_measurement()\n",
    "    \n",
    "    sites = pair_finder(ms)\n",
    "    \n",
    "    co = c.copy()\n",
    "    \n",
    "    corner = middle2corner(c.get_all_in_one_offset(), c.get_fov_len())\n",
    "    pixelsd = get_pixel_dimensions(ms)\n",
    "    actual_coords = corner2spot(corner, sites, pixelsd)\n",
    "    \n",
    "    ms.save_as(name)\n",
    "    im.close(ms)\n",
    "    \n",
    "    print(sites)\n",
    "    \n",
    "    see2 = Settings()\n",
    "    see2.load_from_file('C:/Users//RESOLFT/Desktop/det.json')\n",
    "    \n",
    "    nm.reset_counter('sted')\n",
    "    \n",
    "    for i in sites:\n",
    "        co.set_fov_len([3e-06, 3e-06, 1e-06])\n",
    "        co.set_offset_coords(i)\n",
    "        see2.set_to_coordinates(co)\n",
    "        \n",
    "        name = nm.get_next_image_name('sted')\n",
    "        acquire_measurement_dummy(im, see2)\n",
    "        \n",
    "        ms = im.active_measurement()\n",
    "        ms.save_as(name)\n",
    "        im.close(ms)"
   ]
  },
  {
   "cell_type": "code",
   "execution_count": 20,
   "metadata": {
    "collapsed": false
   },
   "outputs": [],
   "source": [
    "stack1 = ms.stack(0).data()[0,:,:,:]\n",
    "stack2 = ms.stack(1).data()[0,:,:,:]\n",
    "\n",
    "sig = 3 / np.sqrt(2)\n",
    "dets1 = detect_blobs(stack1, [sig, sig, sig], 0.002)    \n",
    "dets1=list(dets1)\n",
    "dets2 = detect_blobs(stack2, [sig, sig, sig], 0.002)    \n",
    "dets2=list(dets2)\n"
   ]
  },
  {
   "cell_type": "code",
   "execution_count": 21,
   "metadata": {
    "collapsed": false
   },
   "outputs": [
    {
     "name": "stdout",
     "output_type": "stream",
     "text": [
      "[array([  4, 181, 191], dtype=int64), array([  8,  87, 102], dtype=int64), array([13, 65, 94], dtype=int64), array([ 17, 200, 174], dtype=int64), array([ 22, 151,  90], dtype=int64), array([ 25, 161, 166], dtype=int64)]\n"
     ]
    }
   ],
   "source": [
    "print(dets2)"
   ]
  }
 ],
 "metadata": {
  "kernelspec": {
   "display_name": "Python 3",
   "language": "python",
   "name": "python3"
  },
  "language_info": {
   "codemirror_mode": {
    "name": "ipython",
    "version": 3
   },
   "file_extension": ".py",
   "mimetype": "text/x-python",
   "name": "python",
   "nbconvert_exporter": "python",
   "pygments_lexer": "ipython3",
   "version": "3.5.1"
  }
 },
 "nbformat": 4,
 "nbformat_minor": 0
}
